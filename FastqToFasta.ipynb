{
  "nbformat": 4,
  "nbformat_minor": 0,
  "metadata": {
    "colab": {
      "provenance": []
    },
    "kernelspec": {
      "name": "python3",
      "display_name": "Python 3"
    },
    "language_info": {
      "name": "python"
    }
  },
  "cells": [
    {
      "cell_type": "code",
      "execution_count": null,
      "metadata": {
        "id": "Cz5RU70hn4uS"
      },
      "outputs": [],
      "source": [
        "!sed -n '1~4s/^@/>/p;2~4p' filename.fastq> filename.fasta"
      ]
    },
    {
      "cell_type": "code",
      "source": [
        "!cat filename.fastq | paste - - - - |cut -f 1,2| sed 's/@/>/'g | tr -s \"/t\" \"/n\" > OUTFILE.fasta"
      ],
      "metadata": {
        "id": "l2bAQLJ1_ez4"
      },
      "execution_count": null,
      "outputs": []
    },
    {
      "cell_type": "code",
      "source": [
        "!cat filename.fastq | awk '{if(NR%4==1) {printf(\">contig_%s\\n\",substr($0,2));} else if(NR%4==2) print;}' > file.fa"
      ],
      "metadata": {
        "id": "rvb0k8yHAbz9"
      },
      "execution_count": null,
      "outputs": []
    },
    {
      "cell_type": "code",
      "source": [
        "!cat file.fa | wc -l"
      ],
      "metadata": {
        "colab": {
          "base_uri": "https://localhost:8080/"
        },
        "id": "A4Rk6T-N_9mf",
        "outputId": "9a14f36a-22dd-4e7c-cd9e-9e4ee05e79af"
      },
      "execution_count": null,
      "outputs": [
        {
          "output_type": "stream",
          "name": "stdout",
          "text": [
            "76768\n"
          ]
        }
      ]
    },
    {
      "cell_type": "code",
      "source": [
        "!head file.fa"
      ],
      "metadata": {
        "id": "6EB2fbUb3Vdm",
        "outputId": "a20b9afc-7997-4540-8f5c-3a4342c1c142",
        "colab": {
          "base_uri": "https://localhost:8080/"
        }
      },
      "execution_count": null,
      "outputs": [
        {
          "output_type": "stream",
          "name": "stdout",
          "text": [
            ">contig_d40094fb-2f38-4472-838c-23b5d19b69b2 runid=b55892d3861ff0d2e9b139a881031f9fdccc2571 sampleid=no_sample read=53153 ch=253 start_time=2022-12-15T01:03:50Z model_version_id=2021-05-17_dna_r9.4.1_minion_384_d37a2ab9 barcode=barcode12\n",
            "GACCATCTAGCGACCTCCACAATTCTTGATTAATGAAAACATTCTTGGCAAATGCTTTCGCTCTAGGCCGTCTTGCGCCGGTCCAAGAATTTCACCTCTAGCGGCACAATACGAATGCCCCCGGCCGTCCCCTCTTAATCATGCTTCATTTTACCGAAAACCAACAAAATAGAACCGGTCCTATTCCATTATTCCTAGCTGCAGTATGCCGGCGGCCGGCCTGCGGCGAACCTCTAATTTTCTCAAAGTAAACGCTTCGGGCCCCGCGGGACTCCAGCTAAGAGCATCGAGGGGGCGCCGAGAGGCGGGGGCAGCGTGGAGGTCGCTAGATGGTCG\n",
            ">contig_38f9bc76-d6e1-498b-a245-805cea22bbe8 runid=b55892d3861ff0d2e9b139a881031f9fdccc2571 sampleid=no_sample read=60626 ch=352 start_time=2022-12-15T01:03:39Z model_version_id=2021-05-17_dna_r9.4.1_minion_384_d37a2ab9 barcode=barcode12\n",
            "GACCATCTAGCGACCTCCACAGTTCCCTGTGGTAACTTTTCTGACACCTCCTGCTTAAAACCCAAAAGCCAGAAGAGATCGTGAGGCCCCGCTTTCACGGTCTGTATTCATGCTGAAAATCAAAGTCAAGCGAGCTTTTGGTGTCGTGGAGGTCGCTAGAT\n",
            ">contig_21c918b5-2b38-4b57-8d72-5da29d5b43cb runid=b55892d3861ff0d2e9b139a881031f9fdccc2571 sampleid=no_sample read=43755 ch=370 start_time=2022-12-15T01:03:48Z model_version_id=2021-05-17_dna_r9.4.1_minion_384_d37a2ab9 barcode=barcode12\n",
            "GACCATCTAGCGACCTCCACCCGCCATTAGGGATAGGGATAGGGTTAATGTTAGCATTCGCCATAAGGATTAGTGTTATGGTTAGGGTTAGCCATTATGTTTAGTGTTAAGGGTAGGGTTAGGGTTAGAGTTAGGGTTAGGGTTAGCCATTAGTGTTAGGGGTAGGGTTAAGGTTAGGGTTAGGGTTGGGGTTAGGGTTAGGGTTAGGGTTAGGGTTAGGGTTAGGGTTAGGGTTAGGGTTAGGGTTAGGGTTAGGGTTAGGGTTAGGGTTAGGGTTAGGGTTAGGGTTAGGGTTAGGGTTAGGGTTAGGGTTAGGGTTAGGGTTAGGGTTAGGGTTAGGGTTAGGGTTAGGGTTAGGGTTAGGGTTTAGGGTTAGGGTTAGGGTTAGGGTTAGGGTTAGGGTTAGGGTTAGGGTTAGGGTTAGTGTGGAGGTCGCTTCTGGAGGGGAAGTGGTCA\n",
            ">contig_861bc7e6-d568-4ed5-9d11-0f39a3bfdd2a runid=b55892d3861ff0d2e9b139a881031f9fdccc2571 sampleid=no_sample read=43745 ch=370 start_time=2022-12-15T01:03:44Z model_version_id=2021-05-17_dna_r9.4.1_minion_384_d37a2ab9 barcode=barcode12\n",
            "GACCATCTAGCGACCTCCACCCTGAGCCTAATGGACCCTAACCTAAGCCTAACCTAACCTTACCCTAACTCTAGCCTAGCCTTAACCCTAACCCTAACCCTAATAGCTAACCCTAACCCTAAACCTAACCCTAACACTAAACCTAATGGCAGTGGAGGTCGCTAGATGGTCA\n",
            ">contig_a823f606-236b-49f3-9a76-a06dd051d4a4 runid=b55892d3861ff0d2e9b139a881031f9fdccc2571 sampleid=no_sample read=22178 ch=90 start_time=2022-12-15T01:03:40Z model_version_id=2021-05-17_dna_r9.4.1_minion_384_d37a2ab9 barcode=barcode12\n",
            "GCCATCCATTTTCAGGGCTAGTTGATTCGGCAGGTGAGTTGTTACTGCACCTTCTTAGCGGATTCCGACTTCCATAGCCACCGTCCTGCTGTCTAGATCAACCAACACCTTTTCTGGGGTTTGGGGTGGAGGTCGCTAGATGGTCA\n"
          ]
        }
      ]
    }
  ]
}