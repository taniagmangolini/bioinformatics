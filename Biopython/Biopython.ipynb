{
  "nbformat": 4,
  "nbformat_minor": 0,
  "metadata": {
    "colab": {
      "provenance": []
    },
    "kernelspec": {
      "name": "python3",
      "display_name": "Python 3"
    },
    "language_info": {
      "name": "python"
    }
  },
  "cells": [
    {
      "cell_type": "code",
      "execution_count": 1,
      "metadata": {
        "colab": {
          "base_uri": "https://localhost:8080/"
        },
        "id": "BZBngLBTdAFz",
        "outputId": "dc17842b-5d8e-4c74-a614-6bb4ea58db62"
      },
      "outputs": [
        {
          "output_type": "stream",
          "name": "stdout",
          "text": [
            "Looking in indexes: https://pypi.org/simple, https://us-python.pkg.dev/colab-wheels/public/simple/\n",
            "Collecting biopython\n",
            "  Downloading biopython-1.81-cp38-cp38-manylinux_2_17_x86_64.manylinux2014_x86_64.whl (3.1 MB)\n",
            "\u001b[2K     \u001b[90m━━━━━━━━━━━━━━━━━━━━━━━━━━━━━━━━━━━━━━━━\u001b[0m \u001b[32m3.1/3.1 MB\u001b[0m \u001b[31m24.8 MB/s\u001b[0m eta \u001b[36m0:00:00\u001b[0m\n",
            "\u001b[?25hRequirement already satisfied: numpy in /usr/local/lib/python3.8/dist-packages (from biopython) (1.22.4)\n",
            "Installing collected packages: biopython\n",
            "Successfully installed biopython-1.81\n"
          ]
        }
      ],
      "source": [
        "!pip install biopython --upgrade"
      ]
    },
    {
      "cell_type": "code",
      "source": [
        "# https://biopython.org/docs/1.76/api/Bio.Entrez.html\n",
        "from Bio import Entrez\n",
        "Entrez.email = 'taniagmangolini@gmail.com'"
      ],
      "metadata": {
        "id": "_D1Bldb2d1s7",
        "colab": {
          "base_uri": "https://localhost:8080/"
        },
        "outputId": "b2e3232f-56ae-4f32-f769-bcd82beda4f9"
      },
      "execution_count": null,
      "outputs": [
        {
          "output_type": "stream",
          "name": "stdout",
          "text": [
            "dict_keys(['Database', 'Query', 'CorrectedQuery', 'SpelledQuery'])\n"
          ]
        }
      ]
    },
    {
      "cell_type": "markdown",
      "source": [
        "## Databases"
      ],
      "metadata": {
        "id": "r1t5o5pPr7au"
      }
    },
    {
      "cell_type": "code",
      "source": [
        "handle = Entrez.einfo()\n",
        "record = Entrez.read(handle)\n",
        "record[\"DbList\"]"
      ],
      "metadata": {
        "colab": {
          "base_uri": "https://localhost:8080/"
        },
        "id": "rQnivtyir4ys",
        "outputId": "bf31e25b-1814-4896-e287-03e8ca8172a5"
      },
      "execution_count": null,
      "outputs": [
        {
          "output_type": "execute_result",
          "data": {
            "text/plain": [
              "['pubmed', 'protein', 'nuccore', 'ipg', 'nucleotide', 'structure', 'genome', 'annotinfo', 'assembly', 'bioproject', 'biosample', 'blastdbinfo', 'books', 'cdd', 'clinvar', 'gap', 'gapplus', 'grasp', 'dbvar', 'gene', 'gds', 'geoprofiles', 'homologene', 'medgen', 'mesh', 'nlmcatalog', 'omim', 'orgtrack', 'pmc', 'popset', 'proteinclusters', 'pcassay', 'protfam', 'pccompound', 'pcsubstance', 'seqannot', 'snp', 'sra', 'taxonomy', 'biocollections', 'gtr']"
            ]
          },
          "metadata": {},
          "execution_count": 69
        }
      ]
    },
    {
      "cell_type": "markdown",
      "source": [
        "## Espell function"
      ],
      "metadata": {
        "id": "W3tmyTSjg_yn"
      }
    },
    {
      "cell_type": "code",
      "source": [
        "records = Entrez.read(Entrez.espell(db='pmc', term='biobbython'))\n",
        "for key, sugestions in records.items():\n",
        "  print(f'{key} : {sugestions}')"
      ],
      "metadata": {
        "colab": {
          "base_uri": "https://localhost:8080/"
        },
        "id": "DSkE6ttdg-q2",
        "outputId": "c40078a4-2d9b-44c2-a1b0-113859317165"
      },
      "execution_count": null,
      "outputs": [
        {
          "output_type": "stream",
          "name": "stdout",
          "text": [
            "Database : pmc\n",
            "Query : biobbython\n",
            "CorrectedQuery : biopython\n",
            "SpelledQuery : ['', 'biopython']\n"
          ]
        }
      ]
    },
    {
      "cell_type": "markdown",
      "source": [
        "## Esearch function\n",
        "Permite fazer consultas no NCBI.\n",
        "\n",
        "ESearch returns information about the query performed, which database was searched and UIDs (unique IDs) to the records that match the query. "
      ],
      "metadata": {
        "id": "SldcgIW5hs5R"
      }
    },
    {
      "cell_type": "code",
      "source": [
        "records = Entrez.read(Entrez.esearch(db='pmc', term='biopython'))\n",
        "print(records)"
      ],
      "metadata": {
        "colab": {
          "base_uri": "https://localhost:8080/"
        },
        "id": "osh3hrcMh0O9",
        "outputId": "9cecc498-9302-4345-82a4-0f871066418f"
      },
      "execution_count": null,
      "outputs": [
        {
          "output_type": "stream",
          "name": "stdout",
          "text": [
            "{'Count': '2715', 'RetMax': '20', 'RetStart': '0', 'IdList': ['9898917', '9883684', '9886943', '9896449', '9894515', '9882952', '9877618', '9876871', '9872083', '9710682', '9837158', '9864840', '9861041', '9855806', '9850167', '9845338', '9826903', '9835423', '9837567', '9836094'], 'TranslationSet': [], 'TranslationStack': [{'Term': 'biopython[All Fields]', 'Field': 'All Fields', 'Count': '2733', 'Explode': 'N'}, 'GROUP'], 'QueryTranslation': 'biopython[All Fields]'}\n"
          ]
        }
      ]
    },
    {
      "cell_type": "markdown",
      "source": [],
      "metadata": {
        "id": "Nj4dVT5KVSIN"
      }
    },
    {
      "cell_type": "code",
      "source": [
        "handle = Entrez.esearch(db=\"gene\",retmax=\"10\",term=\"P53 AND Homo Sapiens [organism]\")\n",
        "record = Entrez.read(handle)\n",
        "print(record)"
      ],
      "metadata": {
        "colab": {
          "base_uri": "https://localhost:8080/"
        },
        "id": "GToSQlbEq3R8",
        "outputId": "99eb629e-634c-44e0-c15e-7ab43f1b573b"
      },
      "execution_count": null,
      "outputs": [
        {
          "output_type": "stream",
          "name": "stdout",
          "text": [
            "{'Count': '2595', 'RetMax': '10', 'RetStart': '0', 'IdList': ['7157', '128385374', '1956', '348', '7124', '7422', '3569', '7040', '4524', '2064'], 'TranslationSet': [{'From': 'Homo Sapiens[organism]', 'To': '\"Homo sapiens\"[Organism]'}], 'TranslationStack': [{'Term': 'P53[All Fields]', 'Field': 'All Fields', 'Count': '24210', 'Explode': 'N'}, {'Term': '\"Homo sapiens\"[Organism]', 'Field': 'Organism', 'Count': '307665', 'Explode': 'Y'}, 'AND'], 'QueryTranslation': 'P53[All Fields] AND \"Homo sapiens\"[Organism]'}\n"
          ]
        }
      ]
    },
    {
      "cell_type": "code",
      "source": [
        "handle = Entrez.esearch(db=\"nucleotide\",term=\"Cypripedioideae[Orgn] AND matK[Gene]\")\n",
        "record = Entrez.read(handle)\n",
        "record[\"Count\"]"
      ],
      "metadata": {
        "colab": {
          "base_uri": "https://localhost:8080/",
          "height": 35
        },
        "id": "lm8p_UIZsLm9",
        "outputId": "f94c5ae4-5884-46c2-b707-6cee20cae1ec"
      },
      "execution_count": null,
      "outputs": [
        {
          "output_type": "execute_result",
          "data": {
            "text/plain": [
              "'830'"
            ],
            "application/vnd.google.colaboratory.intrinsic+json": {
              "type": "string"
            }
          },
          "metadata": {},
          "execution_count": 70
        }
      ]
    },
    {
      "cell_type": "markdown",
      "source": [
        "## Esummary function\n",
        "ESummary retrieves a brief summary, or Document Summary (DocSum), for each record. ESummary requires an input of which database to access and which records to retrieve, identified either by a list of UIDs passed "
      ],
      "metadata": {
        "id": "3J_RcgAHiwrD"
      }
    },
    {
      "cell_type": "code",
      "source": [
        "records = Entrez.read(Entrez.esearch(db='pmc', term='biopython'))\n",
        "papers = records['IdList']\n",
        "for paper in papers[:10]:\n",
        "  summary = Entrez.read(Entrez.esummary(db='pmc', id=paper))[0]\n",
        "  print(summary)\n"
      ],
      "metadata": {
        "colab": {
          "base_uri": "https://localhost:8080/"
        },
        "id": "MUF66m_0ii8R",
        "outputId": "1faf5cb5-3185-4cab-cb94-0ba062a133e4"
      },
      "execution_count": null,
      "outputs": [
        {
          "output_type": "stream",
          "name": "stdout",
          "text": [
            "{'Item': [], 'Id': '9898917', 'PubDate': '2023 Feb 3', 'EPubDate': '2023 Feb 3', 'Source': 'BMC Biol', 'AuthorList': ['Sternke-Hoffmann R', 'Pauly T', 'Norrild RK', 'Hansen J', 'Tucholski F', 'Høie MH', 'Marcatili P', 'Dupré M', 'Duchateau M', 'Rey M', 'Malosse C', 'Metzger S', 'Boquoi A', 'Platten F', 'Egelhaaf SU', 'Chamot-Rooke J', 'Fenk R', 'Nagel-Steger L', 'Haas R', 'Buell AK'], 'Title': 'Widespread amyloidogenicity potential of multiple myeloma patient-derived immunoglobulin light chains', 'Volume': '21', 'Issue': '', 'Pages': '21', 'ArticleIds': {'pubmed': [], 'medline': [], 'pmid': '0', 'doi': '10.1186/s12915-022-01506-w', 'pmcid': 'PMC9898917'}, 'DOI': '10.1186/s12915-022-01506-w', 'FullJournalName': 'BMC Biology', 'SO': '2023 Feb 3;21:21'}\n",
            "{'Item': [], 'Id': '9883684', 'PubDate': '2019 Aug 22', 'EPubDate': '2019 Aug 22', 'Source': 'Bioinformatics', 'AuthorList': ['Hugoson E', 'Lam WT', 'Guy L'], 'Title': 'miComplete: weighted quality evaluation of assembled microbial genomes', 'Volume': '36', 'Issue': '3', 'Pages': '936-937', 'ArticleIds': {'pubmed': [], 'medline': [], 'pmid': '31504158', 'doi': '10.1093/bioinformatics/btz664', 'pmcid': 'PMC9883684'}, 'DOI': '10.1093/bioinformatics/btz664', 'FullJournalName': 'Bioinformatics', 'SO': '2019 Aug 22;36(3):936-937'}\n",
            "{'Item': [], 'Id': '9886943', 'PubDate': '2023 Jan 30', 'EPubDate': '2023 Jan 30', 'Source': 'Sci Rep', 'AuthorList': ['Kwon T', 'Hanschen ER', 'Hovde BT'], 'Title': 'Addressing the pervasive scarcity of structural annotation in eukaryotic algae', 'Volume': '13', 'Issue': '', 'Pages': '1687', 'ArticleIds': {'pubmed': [], 'medline': [], 'pmid': '36717613', 'doi': '10.1038/s41598-023-27881-0', 'pmcid': 'PMC9886943'}, 'DOI': '10.1038/s41598-023-27881-0', 'FullJournalName': 'Scientific Reports', 'SO': '2023 Jan 30;13:1687'}\n",
            "{'Item': [], 'Id': '9896449', 'PubDate': '2023 Feb 3', 'EPubDate': '2023 Feb 3', 'Source': 'Nat Commun', 'AuthorList': ['Chen WH', 'Hajduczki A', 'Martinez EJ', 'Bai H', 'Matz H', 'Hill TM', 'Lewitus E', 'Chang WC', 'Dawit L', 'Peterson CE', 'Rees PA', 'Ajayi AB', 'Golub ES', 'Swafford I', 'Dussupt V', 'David S', 'Mayer SV', 'Soman S', 'Kuklis C', 'Corbitt C', 'King J', 'Choe M', 'Sankhala RS', 'Thomas PV', 'Zemil M', 'Wieczorek L', 'Hart T', 'Duso D', 'Kummer L', 'Yan L', 'Sterling SL', 'Laing ED', 'Broder CC', 'Williams JK', 'Davidson E', 'Doranz BJ', 'Krebs SJ', 'Polonis VR', 'Paquin-Proulx D', 'Rolland M', 'Reiley WW', 'Gromowski GD', 'Modjarrad K', 'Dooley H', 'Joyce MG'], 'Title': 'Shark nanobodies with potent SARS-CoV-2 neutralizing activity and broad sarbecovirus reactivity', 'Volume': '14', 'Issue': '', 'Pages': '580', 'ArticleIds': {'pubmed': [], 'medline': [], 'pmid': '0', 'doi': '10.1038/s41467-023-36106-x', 'pmcid': 'PMC9896449'}, 'DOI': '10.1038/s41467-023-36106-x', 'FullJournalName': 'Nature Communications', 'SO': '2023 Feb 3;14:580'}\n",
            "{'Item': [], 'Id': '9894515', 'PubDate': '2023 Feb 2', 'EPubDate': '2023 Feb 2', 'Source': 'Nat Commun', 'AuthorList': ['Normandin E', 'Rudy M', 'Barkas N', 'Schaffner SF', 'Levine Z', 'Padera RF Jr', 'Babadi M', 'Mukerji SS', 'Park DJ', 'MacInnis BL', 'Siddle KJ', 'Sabeti PC', 'Solomon IH'], 'Title': 'High-depth sequencing characterization of viral dynamics across tissues in fatal COVID-19 reveals compartmentalized infection', 'Volume': '14', 'Issue': '', 'Pages': '574', 'ArticleIds': {'pubmed': [], 'medline': [], 'pmid': '36732505', 'doi': '10.1038/s41467-022-34256-y', 'pmcid': 'PMC9894515'}, 'DOI': '10.1038/s41467-022-34256-y', 'FullJournalName': 'Nature Communications', 'SO': '2023 Feb 2;14:574'}\n",
            "{'Item': [], 'Id': '9882952', 'PubDate': '2023 Jan 27', 'EPubDate': '2023 Jan 27', 'Source': 'Comput Struct Biotechnol J', 'AuthorList': ['Jian X', 'Zhang Y', 'Zhao J', 'Zhao Z', 'Lu M', 'Xie L'], 'Title': 'CoV2-TCR: a web server for screening TCR CDR3 from TCR immune repertoire of COVID-19 patients and their recognized SARS-CoV-2 epitopes', 'Volume': '', 'Issue': '', 'Pages': '', 'ArticleIds': {'pubmed': [], 'medline': [], 'pmid': '0', 'doi': '10.1016/j.csbj.2023.01.038', 'pmcid': 'PMC9882952'}, 'DOI': '10.1016/j.csbj.2023.01.038', 'FullJournalName': 'Computational and Structural Biotechnology Journal', 'SO': '2023 Jan 27;'}\n",
            "{'Item': [], 'Id': '9877618', 'PubDate': '2023 Jan 12', 'EPubDate': '2023 Jan 12', 'Source': 'Front Plant Sci', 'AuthorList': ['Ahmed B', 'Haque MA', 'Iquebal MA', 'Jaiswal S', 'Angadi UB', 'Kumar D', 'Rai A'], 'Title': 'DeepAProt: Deep learning based abiotic stress protein sequence classification and identification tool in cereals', 'Volume': '13', 'Issue': '', 'Pages': '1008756', 'ArticleIds': {'pubmed': [], 'medline': [], 'pmid': '36714750', 'doi': '10.3389/fpls.2022.1008756', 'pmcid': 'PMC9877618'}, 'DOI': '10.3389/fpls.2022.1008756', 'FullJournalName': 'Frontiers in Plant Science', 'SO': '2023 Jan 12;13:1008756'}\n",
            "{'Item': [], 'Id': '9876871', 'PubDate': '2022 Dec 3', 'EPubDate': '2022 Dec 3', 'Source': 'J Comput Aided Mol Des', 'AuthorList': ['Umedera K', 'Yoshimori A', 'Chen H', 'Kouji H', 'Nakamura H', 'Bajorath J'], 'Title': 'DeepCubist: Molecular Generator for Designing Peptidomimetics based on Complex three-dimensional scaffolds', 'Volume': '37', 'Issue': '2', 'Pages': '107-115', 'ArticleIds': {'pubmed': [], 'medline': [], 'pmid': '36462089', 'doi': '10.1007/s10822-022-00493-y', 'pmcid': 'PMC9876871'}, 'DOI': '10.1007/s10822-022-00493-y', 'FullJournalName': 'Journal of Computer-Aided Molecular Design', 'SO': '2022 Dec 3;37(2):107-115'}\n",
            "{'Item': [], 'Id': '9872083', 'PubDate': '2023 Jan 24', 'EPubDate': '2023 Jan 24', 'Source': 'Nat Commun', 'AuthorList': ['Parsons MF', 'Allan MF', 'Li S', 'Shepherd TR', 'Ratanalert S', 'Zhang K', 'Pullen KM', 'Chiu W', 'Rouskin S', 'Bathe M'], 'Title': '3D RNA-scaffolded wireframe origami', 'Volume': '14', 'Issue': '', 'Pages': '382', 'ArticleIds': {'pubmed': [], 'medline': [], 'pmid': '36693871', 'doi': '10.1038/s41467-023-36156-1', 'pmcid': 'PMC9872083'}, 'DOI': '10.1038/s41467-023-36156-1', 'FullJournalName': 'Nature Communications', 'SO': '2023 Jan 24;14:382'}\n",
            "{'Item': [], 'Id': '9710682', 'PubDate': '2022 Jan 25', 'EPubDate': '2022 Jan 25', 'Source': 'Bioinform Adv', 'AuthorList': ['van Gils JH', 'Gogishvili D', 'van Eck J', 'Bouwmeester R', 'van Dijk E', 'Abeln S'], 'Title': 'How sticky are our proteins? Quantifying hydrophobicity of the human proteome', 'Volume': '2', 'Issue': '1', 'Pages': 'vbac002', 'ArticleIds': {'pubmed': [], 'medline': [], 'pmid': '36699344', 'doi': '10.1093/bioadv/vbac002', 'pmcid': 'PMC9710682'}, 'DOI': '10.1093/bioadv/vbac002', 'FullJournalName': 'Bioinformatics Advances', 'SO': '2022 Jan 25;2(1):vbac002'}\n"
          ]
        }
      ]
    },
    {
      "cell_type": "code",
      "source": [
        "assemblies = Entrez.read(Entrez.esearch(db='assembly', term='GCA_003713205.1'))\n",
        "assembly = assemblies['IdList'][0] if assemblies['IdList'] else None\n",
        "print(f'assembly: {assembly}')\n",
        "if assembly:\n",
        "  summary = Entrez.read(Entrez.esummary(db='assembly', id=assembly))\n",
        "  summary_data = summary['DocumentSummarySet']['DocumentSummary'][0]\n",
        "  print(summary_data['Taxid'], summary_data['Organism'], summary_data['SpeciesTaxid'], summary_data['SpeciesName'], summary_data['AssemblyStatus'])\n"
      ],
      "metadata": {
        "colab": {
          "base_uri": "https://localhost:8080/"
        },
        "id": "j0mKwf_QkCAg",
        "outputId": "e2db70ed-4998-4e2f-c604-c0029eeb5a59"
      },
      "execution_count": null,
      "outputs": [
        {
          "output_type": "stream",
          "name": "stdout",
          "text": [
            "assembly: 2070231\n",
            "49369 Coffea eugenioides (eudicots) 49369 Coffea eugenioides Chromosome\n"
          ]
        }
      ]
    },
    {
      "cell_type": "markdown",
      "source": [
        "## Efetch\n",
        "Retrieves records in the requested format from a list of one or more primary IDs.\n",
        "To perform the sequence analysis, you need to get the full GenBank record for each sequence. EFetch retrieves full records from Entrez databases. EFetch requires an input of a database and a list of UIDs.\n",
        "\n",
        "Additionally, EFetch can return the output in different formats. You can specify which output format (i.e. GenBank (gb), FASTA) and file format (i.e. text, ASN.1, XML) you want through the rettype and retmode parameters, respectively.\n",
        "\n",
        "https://www.ncbi.nlm.nih.gov/books/NBK25499/table/chapter4.T._valid_values_of__retmode_and/"
      ],
      "metadata": {
        "id": "fmgy-Q0Fo3OV"
      }
    },
    {
      "cell_type": "code",
      "source": [
        "from Bio import Entrez, SeqIO\n",
        "\n",
        "handle = Entrez.esearch(db=\"nucleotide\",retmax=\"10\",term=\"S [Gene Name] AND Sars-Cov_2 [organism]\")\n",
        "#handle = Entrez.esearch(db=\"nucleotide\",retmax=\"10\",term=\"S [Gene Name] AND Sars-Cov_2 [organism] AND Refseq\")\n",
        "record = Entrez.read(handle)\n",
        "print(record)\n",
        "\n",
        "# get first\n",
        "summary = Entrez.read(Entrez.esummary(db='nucleotide', id=record[\"IdList\"][0]))[0]\n",
        "print(summary)\n",
        "\n",
        "genbank_record = Entrez.efetch(db=\"nucleotide\", id=record[\"IdList\"][0],rettype=\"gb\", retmode=\"text\")\n",
        "record = SeqIO.read(genbank_record, \"genbank\")\n",
        "print(record)\n"
      ],
      "metadata": {
        "colab": {
          "base_uri": "https://localhost:8080/"
        },
        "id": "YnY9U5WxtLMs",
        "outputId": "79e4839f-99dd-4056-81cf-a923c67ea5ae"
      },
      "execution_count": null,
      "outputs": [
        {
          "output_type": "stream",
          "name": "stdout",
          "text": [
            "{'Count': '3337424', 'RetMax': '10', 'RetStart': '0', 'IdList': ['2438585312', '2438585299', '2438585287', '2438585274', '2438585261', '2438585249', '2438585236', '2438585223', '2438585210', '2438585198'], 'TranslationSet': [{'From': 'Sars-Cov_2[organism]', 'To': '\"Severe acute respiratory syndrome coronavirus 2\"[Organism]'}], 'TranslationStack': [{'Term': 'S[Gene Name]', 'Field': 'Gene Name', 'Count': '3398891', 'Explode': 'N'}, {'Term': '\"Severe acute respiratory syndrome coronavirus 2\"[Organism]', 'Field': 'Organism', 'Count': '6690456', 'Explode': 'Y'}, 'AND'], 'QueryTranslation': 'S[Gene Name] AND \"Severe acute respiratory syndrome coronavirus 2\"[Organism]'}\n",
            "{'Item': [], 'Id': '2438585312', 'Caption': 'OQ365040', 'Title': 'Severe acute respiratory syndrome coronavirus 2 isolate SARS-CoV-2/human/USA/VA-CDC-LC0997448/2023 ORF1ab polyprotein (ORF1ab), ORF1a polyprotein (ORF1ab), surface glycoprotein (S), ORF3a protein (ORF3a), envelope protein (E), membrane glycoprotein (M), ORF6 protein (ORF6), ORF7a protein (ORF7a), and ORF7b (ORF7b) genes, complete cds; ORF8 gene, complete sequence; and nucleocapsid phosphoprotein (N) and ORF10 protein (ORF10) genes, complete cds', 'Extra': 'gi|2438585312|gb|OQ365040.1|[2438585312]', 'Gi': IntegerElement(2438585312, attributes={}), 'CreateDate': '2023/02/02', 'UpdateDate': '2023/02/02', 'Flags': IntegerElement(0, attributes={}), 'TaxId': IntegerElement(2697049, attributes={}), 'Length': IntegerElement(29660, attributes={}), 'Status': 'live', 'ReplacedBy': '', 'Comment': '  ', 'AccessionVersion': 'OQ365040.1'}\n",
            "ID: OQ365040.1\n",
            "Name: OQ365040\n",
            "Description: Severe acute respiratory syndrome coronavirus 2 isolate SARS-CoV-2/human/USA/VA-CDC-LC0997448/2023 ORF1ab polyprotein (ORF1ab), ORF1a polyprotein (ORF1ab), surface glycoprotein (S), ORF3a protein (ORF3a), envelope protein (E), membrane glycoprotein (M), ORF6 protein (ORF6), ORF7a protein (ORF7a), and ORF7b (ORF7b) genes, complete cds; ORF8 gene, complete sequence; and nucleocapsid phosphoprotein (N) and ORF10 protein (ORF10) genes, complete cds\n",
            "Database cross-references: BioProject:PRJNA716984, BioSample:SAMN33014276\n",
            "Number of features: 55\n",
            "/molecule_type=RNA\n",
            "/topology=linear\n",
            "/data_file_division=VRL\n",
            "/date=02-FEB-2023\n",
            "/accessions=['OQ365040']\n",
            "/sequence_version=1\n",
            "/keywords=['purposeofsampling:baselinesurveillance']\n",
            "/source=Severe acute respiratory syndrome coronavirus 2 (SARS-CoV-2)\n",
            "/organism=Severe acute respiratory syndrome coronavirus 2\n",
            "/taxonomy=['Viruses', 'Riboviria', 'Orthornavirae', 'Pisuviricota', 'Pisoniviricetes', 'Nidovirales', 'Cornidovirineae', 'Coronaviridae', 'Orthocoronavirinae', 'Betacoronavirus', 'Sarbecovirus']\n",
            "/references=[Reference(title='CDC Sars CoV2 Sequencing Baseline Constellation', ...), Reference(title='Direct Submission', ...)]\n",
            "/structured_comment=defaultdict(<class 'dict'>, {'Assembly-Data': {'Assembly Method': 'CLC Genomics', 'Sequencing Technology': 'PacBio Sequel II'}})\n",
            "Seq('CTGCATGCTTAGTGCACTCACGCAGTATAATTAATAACTAATTACTGTCGTTGA...TTA')\n"
          ]
        }
      ]
    },
    {
      "cell_type": "code",
      "source": [
        "from Bio import Entrez, SeqIO\n",
        "# idtype: Specifies the type of identifier to return for sequence databases (nuccore, popset, protein). \n",
        "# By default, ESearch returns GI numbers in its output. If idtype is set to ‘acc’, ESearch will return accession.version identifiers rather than GI numbers.\n",
        "handle = Entrez.esearch(db=\"nuccore\",retmax=\"1\", term=\"P53 AND Homo Sapiens [organism]\", idtype='acc')\n",
        "record = Entrez.read(handle)\n",
        "print(record)\n",
        "acc = record[\"IdList\"][0]\n",
        "print('id', acc)\n",
        "handle = Entrez.efetch(db=\"nucleotide\", id=record[\"IdList\"][0],rettype=\"gb\")\n",
        "record = SeqIO.read(handle, \"genbank\")\n",
        "print(record)"
      ],
      "metadata": {
        "colab": {
          "base_uri": "https://localhost:8080/"
        },
        "id": "4MwSI5guo2Av",
        "outputId": "33af5cd8-244d-49f3-dc73-d3f40b225289"
      },
      "execution_count": null,
      "outputs": [
        {
          "output_type": "stream",
          "name": "stdout",
          "text": [
            "{'Count': '7209', 'RetMax': '1', 'RetStart': '0', 'IdList': ['NG_033079.1'], 'TranslationSet': [{'From': 'Homo Sapiens[organism]', 'To': '\"Homo sapiens\"[Organism]'}], 'TranslationStack': [{'Term': 'P53[All Fields]', 'Field': 'All Fields', 'Count': '56999', 'Explode': 'N'}, {'Term': '\"Homo sapiens\"[Organism]', 'Field': 'Organism', 'Count': '28312156', 'Explode': 'Y'}, 'AND'], 'QueryTranslation': 'P53[All Fields] AND \"Homo sapiens\"[Organism]'}\n",
            "id NG_033079.1\n",
            "ID: NG_033079.1\n",
            "Name: NG_033079\n",
            "Description: Homo sapiens killin, p53 regulated DNA replication inhibitor (KLLN), RefSeqGene (LRG_1087) on chromosome 10\n",
            "Number of features: 12\n",
            "/molecule_type=DNA\n",
            "/topology=linear\n",
            "/data_file_division=PRI\n",
            "/date=30-JAN-2023\n",
            "/accessions=['NG_033079']\n",
            "/sequence_version=1\n",
            "/keywords=['RefSeq', 'RefSeqGene']\n",
            "/source=Homo sapiens (human)\n",
            "/organism=Homo sapiens\n",
            "/taxonomy=['Eukaryota', 'Metazoa', 'Chordata', 'Craniata', 'Vertebrata', 'Euteleostomi', 'Mammalia', 'Eutheria', 'Euarchontoglires', 'Primates', 'Haplorrhini', 'Catarrhini', 'Hominidae', 'Homo']\n",
            "/references=[Reference(title='Killin is a p53-regulated nuclear inhibitor of DNA synthesis', ...)]\n",
            "/comment=REVIEWED REFSEQ: This record has been curated by NCBI staff in\n",
            "collaboration with Sirisha Hesketh. The reference sequence was\n",
            "derived from AC063965.8.\n",
            "This sequence is a reference standard in the RefSeqGene project.\n",
            "Summary: The protein encoded by this intronless gene is found in\n",
            "the nucleus, where it can inhibit DNA synthesis and promote S phase\n",
            "arrest coupled to apoptosis. The expression of this DNA binding\n",
            "protein is upregulated by transcription factor p53. [provided by\n",
            "RefSeq, Dec 2012].\n",
            "Seq('TTTCTACAGAAAAAAAAAAATACATTTCTTAAGCTATGTTAATATTACATTTTC...GGT')\n"
          ]
        }
      ]
    },
    {
      "cell_type": "code",
      "source": [
        "fasta = SeqIO.read(Entrez.efetch(db=\"nucleotide\", id=acc, rettype=\"fasta\"), 'fasta')\n",
        "fasta"
      ],
      "metadata": {
        "colab": {
          "base_uri": "https://localhost:8080/"
        },
        "id": "1gOGBRmewErn",
        "outputId": "e6a98580-ddbb-4c89-c93d-5e2b05bc6fd4"
      },
      "execution_count": null,
      "outputs": [
        {
          "output_type": "execute_result",
          "data": {
            "text/plain": [
              "SeqRecord(seq=Seq('TTTCTACAGAAAAAAAAAAATACATTTCTTAAGCTATGTTAATATTACATTTTC...GGT'), id='NG_033079.1', name='NG_033079.1', description='NG_033079.1 Homo sapiens killin, p53 regulated DNA replication inhibitor (KLLN), RefSeqGene (LRG_1087) on chromosome 10', dbxrefs=[])"
            ]
          },
          "metadata": {},
          "execution_count": 120
        }
      ]
    },
    {
      "cell_type": "code",
      "source": [
        "from Bio import Entrez, SeqIO\n",
        "handle = Entrez.efetch(db=\"nucleotide\", id=\"186972394\",rettype=\"gb\", retmode=\"text\")\n",
        "record = SeqIO.read(handle, \"genbank\")\n",
        "print(record)\n",
        "handle.close()"
      ],
      "metadata": {
        "colab": {
          "base_uri": "https://localhost:8080/"
        },
        "id": "cDLGnothsYYR",
        "outputId": "a7997ab2-f552-43bc-db9f-88fe49453547"
      },
      "execution_count": null,
      "outputs": [
        {
          "output_type": "stream",
          "name": "stdout",
          "text": [
            "ID: EU490707.1\n",
            "Name: EU490707\n",
            "Description: Selenipedium aequinoctiale maturase K (matK) gene, partial cds; chloroplast\n",
            "Number of features: 3\n",
            "/molecule_type=DNA\n",
            "/topology=linear\n",
            "/data_file_division=PLN\n",
            "/date=26-JUL-2016\n",
            "/accessions=['EU490707']\n",
            "/sequence_version=1\n",
            "/keywords=['']\n",
            "/source=chloroplast Selenipedium aequinoctiale\n",
            "/organism=Selenipedium aequinoctiale\n",
            "/taxonomy=['Eukaryota', 'Viridiplantae', 'Streptophyta', 'Embryophyta', 'Tracheophyta', 'Spermatophyta', 'Magnoliopsida', 'Liliopsida', 'Asparagales', 'Orchidaceae', 'Cypripedioideae', 'Selenipedium']\n",
            "/references=[Reference(title='Phylogenetic utility of ycf1 in orchids: a plastid gene more variable than matK', ...), Reference(title='Direct Submission', ...)]\n",
            "Seq('ATTTTTTACGAACCTGTGGAAATTTTTGGTTATGACAATAAATCTAGTTTAGTA...GAA')\n"
          ]
        }
      ]
    },
    {
      "cell_type": "code",
      "source": [],
      "metadata": {
        "id": "m8SDyoByv-9_"
      },
      "execution_count": null,
      "outputs": []
    },
    {
      "cell_type": "markdown",
      "source": [
        "## NCBI Global Search\n",
        "Busca global em todos os databases.\n",
        "\n",
        "\n"
      ],
      "metadata": {
        "id": "i1lYkvAnnZ9R"
      }
    },
    {
      "cell_type": "code",
      "source": [
        "handle = Entrez.egquery(term=\"biopython\")\n",
        "record = Entrez.read(handle)\n",
        "handle.close()\n",
        "for row in record[\"eGQueryResult\"]:\n",
        "    if row[\"Count\"] != '0':\n",
        "      print(row)"
      ],
      "metadata": {
        "colab": {
          "base_uri": "https://localhost:8080/"
        },
        "id": "ZCh8ZLLsneiH",
        "outputId": "9c57d9c9-754c-453f-ef00-da955680c53a"
      },
      "execution_count": null,
      "outputs": [
        {
          "output_type": "stream",
          "name": "stdout",
          "text": [
            "{'DbName': 'pubmed', 'MenuName': 'PubMed', 'Count': '41', 'Status': 'Ok'}\n",
            "{'DbName': 'pmc', 'MenuName': 'PubMed Central', 'Count': '2715', 'Status': 'Ok'}\n",
            "{'DbName': 'books', 'MenuName': 'Books', 'Count': '2', 'Status': 'Ok'}\n",
            "{'DbName': 'pubmedhealth', 'MenuName': 'PubMed Health', 'Count': 'Error', 'Status': 'Database Error'}\n",
            "{'DbName': 'ncbisearch', 'MenuName': 'Site Search', 'Count': '1', 'Status': 'Ok'}\n",
            "{'DbName': 'nuccore', 'MenuName': 'Nucleotide', 'Count': '2', 'Status': 'Ok'}\n",
            "{'DbName': 'sra', 'MenuName': 'SRA', 'Count': '1377', 'Status': 'Ok'}\n",
            "{'DbName': 'biosystems', 'MenuName': 'BioSystems', 'Count': 'Error', 'Status': 'Database Error'}\n",
            "{'DbName': 'gds', 'MenuName': 'GEO DataSets', 'Count': '17', 'Status': 'Ok'}\n",
            "{'DbName': 'bioproject', 'MenuName': 'BioProject', 'Count': '1', 'Status': 'Ok'}\n"
          ]
        }
      ]
    },
    {
      "cell_type": "markdown",
      "source": [
        "#Writing and Converting Sequence Files Formats"
      ],
      "metadata": {
        "id": "mMocxkTB_TlU"
      }
    },
    {
      "cell_type": "code",
      "source": [
        "from Bio import SeqIO\n",
        "\n",
        "# Turn a SeqRecord in the FASTA format into a two-line FASTA formated string\n",
        "file = '/content/HBB-human.fasta'\n",
        "file2lines = '/content/HBB-human.fasta2line' \n",
        "\n",
        "with open(file2lines, 'w+') as converted_file:\n",
        "  SeqIO.convert(file, 'fasta', converted_file, 'fasta-2line')"
      ],
      "metadata": {
        "id": "cmZjYiyqoqNy"
      },
      "execution_count": null,
      "outputs": []
    },
    {
      "cell_type": "code",
      "source": [
        "!cat /content/HBB-human.fasta2line"
      ],
      "metadata": {
        "colab": {
          "base_uri": "https://localhost:8080/"
        },
        "id": "D5M2CIxBDQJ3",
        "outputId": "f4209c0c-afb9-43ad-a119-2d68461675dd"
      },
      "execution_count": null,
      "outputs": [
        {
          "output_type": "stream",
          "name": "stdout",
          "text": [
            ">NM_000518.5 Homo sapiens hemoglobin subunit beta (HBB), mRNA\n",
            "ACATTTGCTTCTGACACAACTGTGTTCACTAGCAACCTCAAACAGACACCATGGTGCATCTGACTCCTGAGGAGAAGTCTGCCGTTACTGCCCTGTGGGGCAAGGTGAACGTGGATGAAGTTGGTGGTGAGGCCCTGGGCAGGCTGCTGGTGGTCTACCCTTGGACCCAGAGGTTCTTTGAGTCCTTTGGGGATCTGTCCACTCCTGATGCTGTTATGGGCAACCCTAAGGTGAAGGCTCATGGCAAGAAAGTGCTCGGTGCCTTTAGTGATGGCCTGGCTCACCTGGACAACCTCAAGGGCACCTTTGCCACACTGAGTGAGCTGCACTGTGACAAGCTGCACGTGGATCCTGAGAACTTCAGGCTCCTGGGCAACGTGCTGGTCTGTGTGCTGGCCCATCACTTTGGCAAAGAATTCACCCCACCAGTGCAGGCTGCCTATCAGAAAGTGGTGGCTGGTGTGGCTAATGCCCTGGCCCACAAGTATCACTAAGCTCGCTTTCTTGCTGTCCAATTTCTATTAAAGGTTCCTTTGTTCCCTAAGTCCAACTACTAAACTGGGGGATATTATGAAGGGCCTTGAGCATCTGGATTCTGCCTAATAAAAAACATTTATTTTCATTGCAA\n"
          ]
        }
      ]
    },
    {
      "cell_type": "code",
      "source": [
        "\n",
        "# Turn a SeqRecord in the Genbank format into a two-line FASTA formated string\n",
        "file = '/content/HBB.gb'\n",
        "file2lines = '/content/HBB.fasta2line' \n",
        "\n",
        "with open(file2lines, 'w+') as converted_file:\n",
        "  SeqIO.convert(file, 'gb', converted_file, 'fasta-2line')"
      ],
      "metadata": {
        "id": "pjH7lWpWDZ0A"
      },
      "execution_count": null,
      "outputs": []
    },
    {
      "cell_type": "code",
      "source": [
        "!head /content/HBB.gb"
      ],
      "metadata": {
        "colab": {
          "base_uri": "https://localhost:8080/"
        },
        "id": "UeJ74hR9EK0U",
        "outputId": "57f09644-25ab-4bfa-c783-06355d0b9391"
      },
      "execution_count": null,
      "outputs": [
        {
          "output_type": "stream",
          "name": "stdout",
          "text": [
            "LOCUS       NM_001168847             444 bp    mRNA    linear   PRI 27-APR-2020\n",
            "DEFINITION  Papio anubis hemoglobin, beta (HBB), mRNA.\n",
            "ACCESSION   NM_001168847\n",
            "VERSION     NM_001168847.1\n",
            "KEYWORDS    RefSeq.\n",
            "SOURCE      Papio anubis (olive baboon)\n",
            "  ORGANISM  Papio anubis\n",
            "            Eukaryota; Metazoa; Chordata; Craniata; Vertebrata; Euteleostomi;\n",
            "            Mammalia; Eutheria; Euarchontoglires; Primates; Haplorrhini;\n",
            "            Catarrhini; Cercopithecidae; Cercopithecinae; Papio.\n"
          ]
        }
      ]
    },
    {
      "cell_type": "code",
      "source": [
        "!head /content/HBB.fasta2line"
      ],
      "metadata": {
        "colab": {
          "base_uri": "https://localhost:8080/"
        },
        "id": "ms5UUx9KEiQs",
        "outputId": "36318ce6-3a7d-4571-96d5-9769f69e80eb"
      },
      "execution_count": null,
      "outputs": [
        {
          "output_type": "stream",
          "name": "stdout",
          "text": [
            ">NM_001168847.1 Papio anubis hemoglobin, beta (HBB), mRNA\n",
            "ATGGTGCATCTGACTCCTGAGGAGAAGAATGCCGTTACCGCCCTGTGGGGCAAAGTGAACGTGGATGAAGTTGGTGGTGAGGCCCTGGGCAGGTTGCTGGTGGTCTACCCTTGGACCCAGAGGTTCTTTGATTCCTTTGGGGATCTGTCCTCTCCTGCTGCTGTTATGGGCAACCCTAAGGTGAAGGCTCATGGCAAGAAAGTGCTTGGTGCCTTTAGTGATGGCCTGAATCACCTGGACAACCTCAAGGGCACCTTTGCCCAGCTCAGTGAGCTGCACTGTGACAAGCTGCATGTGGATCCTGAGAACTTCAAGCTCCTGGGCAACGTGCTGGTGTGTGTGCTGGCCCATCACTTTGGCAAAGAATTCACCCCGCAAGTGCAGGCTGCCTATCAGAAAGTGGTGGCTGGTGTGGCTAATGCCCTGGCCCACAAGTACCACTAA\n",
            ">NM_033234.1 Rattus norvegicus hemoglobin subunit beta (Hbb), mRNA\n",
            "TGCTTCTGACATAGTTGTGTTGACTCACAAACTCAGAAACAGACACCATGGTGCACCTGACTGATGCTGAGAAGGCTGCTGTTAATGGCCTGTGGGGAAAGGTGAACCCTGATGATGTTGGTGGCGAGGCCCTGGGCAGGCTGCTGGTTGTCTACCCTTGGACCCAGAGGTACTTTGATAGCTTTGGGGACCTGTCCTCTGCCTCTGCTATCATGGGTAACCCTAAGGTGAAGGCCCATGGCAAGAAGGTGATAAACGCCTTCAATGATGGCCTGAAACACTTGGACAACCTCAAGGGCACCTTTGCTCATCTGAGTGAACTCCACTGTGACAAGCTGCATGTGGATCCTGAGAACTTCAGGCTCCTGGGCAATATGATTGTGATTGTGTTGGGCCACCACCTGGGCAAGGAATTCACCCCCTGTGCACAGGCTGCCTTCCAGAAGGTGGTGGCTGGAGTGGCCAGTGCCCTGGCTCACAAGTACCACTAAACCTCTTTTCCTGCTCTTGTCTTTGTGCAATGGTCAATTGTTCCCAAGAGAGCATCTGTCAGTTGTTGTCAAAATGACAAAGACCTTTGAAAATCTGTCCTACTAATAAAAGGCATTTACTTTCACTGC\n",
            ">NM_000518.5 Homo sapiens hemoglobin subunit beta (HBB), mRNA\n",
            "ACATTTGCTTCTGACACAACTGTGTTCACTAGCAACCTCAAACAGACACCATGGTGCATCTGACTCCTGAGGAGAAGTCTGCCGTTACTGCCCTGTGGGGCAAGGTGAACGTGGATGAAGTTGGTGGTGAGGCCCTGGGCAGGCTGCTGGTGGTCTACCCTTGGACCCAGAGGTTCTTTGAGTCCTTTGGGGATCTGTCCACTCCTGATGCTGTTATGGGCAACCCTAAGGTGAAGGCTCATGGCAAGAAAGTGCTCGGTGCCTTTAGTGATGGCCTGGCTCACCTGGACAACCTCAAGGGCACCTTTGCCACACTGAGTGAGCTGCACTGTGACAAGCTGCACGTGGATCCTGAGAACTTCAGGCTCCTGGGCAACGTGCTGGTCTGTGTGCTGGCCCATCACTTTGGCAAAGAATTCACCCCACCAGTGCAGGCTGCCTATCAGAAAGTGGTGGCTGGTGTGGCTAATGCCCTGGCCCACAAGTATCACTAAGCTCGCTTTCTTGCTGTCCAATTTCTATTAAAGGTTCCTTTGTTCCCTAAGTCCAACTACTAAACTGGGGGATATTATGAAGGGCCTTGAGCATCTGGATTCTGCCTAATAAAAAACATTTATTTTCATTGCAA\n",
            ">NM_001304110.1 Esox lucius hemoglobin subunit beta (LOC105010112), mRNA\n",
            "GGGTATTCCTATAGAAGAACTATTGTGCGAGTCAAAACCCCTAAATCGCAAATATGGTTCAGTGGACAGCAGCTGAGCGCAAAGCTATAGCAAGCGTTTGGGGAAGTATCAGCGCTGATGAGATTGGACCCCAATCCGTGGCCAGACTTTTGATCGTGTTTCCATGGACTCGGAGGTATTTCAGCAGCTTCGGTAACCTGGCCGACTCAGCTGCCATCTTGGGTAACCCCAAAGTGGCTAACCATGGGAAGACGGTGATGAAGGCACTTGACAAGGCTGTGCAGAACCTGGATAACATCAAGAAAACCTACACCGCACTCAGTGTGACCCATTCCGAGAAACTGCATGTGGATCCTGACAACTTCAAGCTCTTGTCCGAGTGCATCACCGTGTGCATTGCCGCAAAGCTGGGCCCCACCGTTTTCGATGCTTATACCCATGAAGCCTTCTACAAGTTCATGTGTGTGGTTGTGTCCGCTCTCAGCAAACAGTACCACTAGAGCATTATTATTTTACAGAGATGTGCAACAGCTCCAGAATTAAAGGCTGTTGTCTTTTAATGTCAATTAAAACCCATTAAAAAGCATTACAATAC\n",
            ">NM_001303935.1 Esox lucius hemoglobin subunit beta (LOC105013372), mRNA\n",
            "GGGCAGGGATCCCTTGGAACATTTTACAAGTACCAACGGAAATCAACAAACGTCAACATGGTCGACTGGACAACAGCTGAGCGCAGTGCCATCCTTGGCCTTTGGGGAAAGCTCAACGCTGATGAGATCGGAACCCAGGCCTTTATCAGATGTCTGGTCGTGTCTCATTGGACTCAGAGGTACTTCAGCTCCTTCGGTAACCTGTCCACACCCGCTGCCATCGCAGGTAACCCCAACGTGGCTAAGCATGGGAGGACCGTGATGCATGGACTGGACAGAGCTATCCAGAACCTGGATGACGTCAAGAACACCTACGCTCCACTGAGTGTGATGCACTCCGAGAAACTGCACGTGGATCCCGACAACTTTAGGCCCCTCGCGGAATGCATCACCGTGTGCGTCGCCGCCAAGCTGGGTCCTTCCGTTTTCGATGCTGACACTCATGAAGCCTTCCAGAAGTTCCTGCGTGTGGTTGTTTCGGCTCTGGGCAGACAGTACCACTAGAGCACAACTCAAAAACATCAATGTGGAATACAGATGACGCTCCTACTTCAGTCTTTTAGACTGCAAGCCGTGCCATATCAAGAAAATATTAAAATAATAAAATGATTTAAAAGC\n"
          ]
        }
      ]
    },
    {
      "cell_type": "markdown",
      "source": [
        "# Parse Fasta"
      ],
      "metadata": {
        "id": "TAo-AoKhFdx0"
      }
    },
    {
      "cell_type": "code",
      "source": [
        "from Bio import SeqIO\n",
        "\n",
        "multifasta = SeqIO.parse('/content/HBB-human.fasta', 'fasta')\n",
        "\n",
        "for fasta in multifasta:\n",
        "  print(f'id: {fasta.id}, name: {fasta.name}, description: {fasta.description}')\n",
        "  print(fasta.seq)"
      ],
      "metadata": {
        "colab": {
          "base_uri": "https://localhost:8080/"
        },
        "id": "XBbrEsOmFdSG",
        "outputId": "dc4e09c5-ecb5-47ad-c085-93cab8f07ecf"
      },
      "execution_count": null,
      "outputs": [
        {
          "output_type": "stream",
          "name": "stdout",
          "text": [
            "id: NM_000518.5, name: NM_000518.5, description: NM_000518.5 Homo sapiens hemoglobin subunit beta (HBB), mRNA\n",
            "ACATTTGCTTCTGACACAACTGTGTTCACTAGCAACCTCAAACAGACACCATGGTGCATCTGACTCCTGAGGAGAAGTCTGCCGTTACTGCCCTGTGGGGCAAGGTGAACGTGGATGAAGTTGGTGGTGAGGCCCTGGGCAGGCTGCTGGTGGTCTACCCTTGGACCCAGAGGTTCTTTGAGTCCTTTGGGGATCTGTCCACTCCTGATGCTGTTATGGGCAACCCTAAGGTGAAGGCTCATGGCAAGAAAGTGCTCGGTGCCTTTAGTGATGGCCTGGCTCACCTGGACAACCTCAAGGGCACCTTTGCCACACTGAGTGAGCTGCACTGTGACAAGCTGCACGTGGATCCTGAGAACTTCAGGCTCCTGGGCAACGTGCTGGTCTGTGTGCTGGCCCATCACTTTGGCAAAGAATTCACCCCACCAGTGCAGGCTGCCTATCAGAAAGTGGTGGCTGGTGTGGCTAATGCCCTGGCCCACAAGTATCACTAAGCTCGCTTTCTTGCTGTCCAATTTCTATTAAAGGTTCCTTTGTTCCCTAAGTCCAACTACTAAACTGGGGGATATTATGAAGGGCCTTGAGCATCTGGATTCTGCCTAATAAAAAACATTTATTTTCATTGCAA\n"
          ]
        }
      ]
    },
    {
      "cell_type": "code",
      "source": [
        "from Bio import SeqIO\n",
        "\n",
        "multifasta = SeqIO.parse('/content/HBB.fasta2line', 'fasta')\n",
        "\n",
        "for fasta in multifasta:\n",
        "  print(f'id: {fasta.id}, name: {fasta.name}, description: {fasta.description}')"
      ],
      "metadata": {
        "colab": {
          "base_uri": "https://localhost:8080/"
        },
        "id": "lqvdpeYdGgDu",
        "outputId": "b50e4f00-b433-48ac-8010-839e78bf24bc"
      },
      "execution_count": null,
      "outputs": [
        {
          "output_type": "stream",
          "name": "stdout",
          "text": [
            "id: NM_001168847.1, name: NM_001168847.1, description: NM_001168847.1 Papio anubis hemoglobin, beta (HBB), mRNA\n",
            "id: NM_033234.1, name: NM_033234.1, description: NM_033234.1 Rattus norvegicus hemoglobin subunit beta (Hbb), mRNA\n",
            "id: NM_000518.5, name: NM_000518.5, description: NM_000518.5 Homo sapiens hemoglobin subunit beta (HBB), mRNA\n",
            "id: NM_001304110.1, name: NM_001304110.1, description: NM_001304110.1 Esox lucius hemoglobin subunit beta (LOC105010112), mRNA\n",
            "id: NM_001303935.1, name: NM_001303935.1, description: NM_001303935.1 Esox lucius hemoglobin subunit beta (LOC105013372), mRNA\n",
            "id: NM_001303868.1, name: NM_001303868.1, description: NM_001303868.1 Esox lucius hemoglobin, beta (LOC105028448), mRNA\n",
            "id: NM_001303858.1, name: NM_001303858.1, description: NM_001303858.1 Esox lucius hemoglobin subunit beta (LOC105028446), mRNA\n",
            "id: NM_001246752.1, name: NM_001246752.1, description: NM_001246752.1 Cricetulus griseus beta major globin chain (Hbb), mRNA\n",
            "id: NM_001086273.2, name: NM_001086273.2, description: NM_001086273.2 Xenopus laevis hemoglobin subunit delta S homeolog (hbd.S), mRNA\n",
            "id: NM_001144841.1, name: NM_001144841.1, description: NM_001144841.1 Sus scrofa hemoglobin, beta (HBB), mRNA\n",
            "id: NM_001097648.1, name: NM_001097648.1, description: NM_001097648.1 Ovis aries hemoglobin, beta (HBB), mRNA\n",
            "id: NM_173917.2, name: NM_173917.2, description: NM_173917.2 Bos taurus hemoglobin, beta (HBB), mRNA\n",
            "id: NM_131020.3, name: NM_131020.3, description: NM_131020.3 Danio rerio hemoglobin, beta adult 1 (hbba1), mRNA\n",
            "id: NM_001314043.1, name: NM_001314043.1, description: NM_001314043.1 Oryctolagus cuniculus hemoglobin, beta (HBB2), transcript variant 1, mRNA\n",
            "id: NM_001082260.3, name: NM_001082260.3, description: NM_001082260.3 Oryctolagus cuniculus hemoglobin, beta (HBB2), transcript variant 1, mRNA\n",
            "id: NM_001283367.1, name: NM_001283367.1, description: NM_001283367.1 Macaca fascicularis hemoglobin, beta (HBB), mRNA\n",
            "id: NM_001164018.1, name: NM_001164018.1, description: NM_001164018.1 Equus caballus hemoglobin, beta (HBB), mRNA\n",
            "id: NM_001123666.1, name: NM_001123666.1, description: NM_001123666.1 Salmo salar beta globin (LOC100136576), mRNA\n",
            "id: NM_001329918.1, name: NM_001329918.1, description: NM_001329918.1 Chlorocebus sabaeus hemoglobin subunit beta (HBB), mRNA\n",
            "id: NM_001304883.1, name: NM_001304883.1, description: NM_001304883.1 Ailuropoda melanoleuca hemoglobin subunit beta-like (HBB), mRNA\n",
            "id: NM_001279263.1, name: NM_001279263.1, description: NM_001279263.1 Condylura cristata hemoglobin, beta (HBB), mRNA\n",
            "id: NM_001201019.1, name: NM_001201019.1, description: NM_001201019.1 Ictalurus punctatus hemoglobin subunit beta (hbb), mRNA\n",
            "id: NM_001164428.1, name: NM_001164428.1, description: NM_001164428.1 Macaca mulatta hemoglobin subunit beta (HBB), mRNA\n",
            "id: NM_001304885.1, name: NM_001304885.1, description: NM_001304885.1 Ailuropoda melanoleuca hemoglobin subunit beta (HBB), mRNA\n"
          ]
        }
      ]
    },
    {
      "cell_type": "markdown",
      "source": [
        "# Parse Genbank Files (Gb)"
      ],
      "metadata": {
        "id": "JwJ6siR5Hruv"
      }
    },
    {
      "cell_type": "code",
      "source": [
        "from Bio import SeqIO\n",
        "\n",
        "multigb = SeqIO.parse('/content/HBB.gb', 'gb')\n",
        "\n",
        "print(dir(gb))\n",
        "print('\\n')\n",
        "for gb in multigb:\n",
        "  print(f'id: {gb.id}, name: {gb.name}, organism: {gb.annotations.get(\"organism\")} , taxonomy: {gb.annotations.get(\"taxonomy\")}')"
      ],
      "metadata": {
        "colab": {
          "base_uri": "https://localhost:8080/"
        },
        "id": "nuRjKXpAHvir",
        "outputId": "3654dfd7-9562-4ef8-f68d-7a37c6db2812"
      },
      "execution_count": null,
      "outputs": [
        {
          "output_type": "stream",
          "name": "stdout",
          "text": [
            "['__add__', '__bool__', '__class__', '__contains__', '__delattr__', '__dict__', '__dir__', '__doc__', '__eq__', '__format__', '__ge__', '__getattribute__', '__getitem__', '__gt__', '__hash__', '__init__', '__init_subclass__', '__iter__', '__le__', '__len__', '__lt__', '__module__', '__ne__', '__new__', '__radd__', '__reduce__', '__reduce_ex__', '__repr__', '__setattr__', '__sizeof__', '__str__', '__subclasshook__', '__weakref__', '_per_letter_annotations', '_seq', '_set_per_letter_annotations', '_set_seq', 'annotations', 'count', 'dbxrefs', 'description', 'features', 'format', 'id', 'islower', 'isupper', 'letter_annotations', 'lower', 'name', 'reverse_complement', 'seq', 'translate', 'upper']\n",
            "\n",
            "\n",
            "id: NM_001168847.1, name: NM_001168847, organism: Papio anubis , taxonomy: ['Eukaryota', 'Metazoa', 'Chordata', 'Craniata', 'Vertebrata', 'Euteleostomi', 'Mammalia', 'Eutheria', 'Euarchontoglires', 'Primates', 'Haplorrhini', 'Catarrhini', 'Cercopithecidae', 'Cercopithecinae', 'Papio']\n",
            "id: NM_033234.1, name: NM_033234, organism: Rattus norvegicus , taxonomy: ['Eukaryota', 'Metazoa', 'Chordata', 'Craniata', 'Vertebrata', 'Euteleostomi', 'Mammalia', 'Eutheria', 'Euarchontoglires', 'Glires', 'Rodentia', 'Myomorpha', 'Muroidea', 'Muridae', 'Murinae', 'Rattus']\n",
            "id: NM_000518.5, name: NM_000518, organism: Homo sapiens , taxonomy: ['Eukaryota', 'Metazoa', 'Chordata', 'Craniata', 'Vertebrata', 'Euteleostomi', 'Mammalia', 'Eutheria', 'Euarchontoglires', 'Primates', 'Haplorrhini', 'Catarrhini', 'Hominidae', 'Homo']\n",
            "id: NM_001304110.1, name: NM_001304110, organism: Esox lucius , taxonomy: ['Eukaryota', 'Metazoa', 'Chordata', 'Craniata', 'Vertebrata', 'Euteleostomi', 'Actinopterygii', 'Neopterygii', 'Teleostei', 'Protacanthopterygii', 'Esociformes', 'Esocidae', 'Esox']\n",
            "id: NM_001303935.1, name: NM_001303935, organism: Esox lucius , taxonomy: ['Eukaryota', 'Metazoa', 'Chordata', 'Craniata', 'Vertebrata', 'Euteleostomi', 'Actinopterygii', 'Neopterygii', 'Teleostei', 'Protacanthopterygii', 'Esociformes', 'Esocidae', 'Esox']\n",
            "id: NM_001303868.1, name: NM_001303868, organism: Esox lucius , taxonomy: ['Eukaryota', 'Metazoa', 'Chordata', 'Craniata', 'Vertebrata', 'Euteleostomi', 'Actinopterygii', 'Neopterygii', 'Teleostei', 'Protacanthopterygii', 'Esociformes', 'Esocidae', 'Esox']\n",
            "id: NM_001303858.1, name: NM_001303858, organism: Esox lucius , taxonomy: ['Eukaryota', 'Metazoa', 'Chordata', 'Craniata', 'Vertebrata', 'Euteleostomi', 'Actinopterygii', 'Neopterygii', 'Teleostei', 'Protacanthopterygii', 'Esociformes', 'Esocidae', 'Esox']\n",
            "id: NM_001246752.1, name: NM_001246752, organism: Cricetulus griseus , taxonomy: ['Eukaryota', 'Metazoa', 'Chordata', 'Craniata', 'Vertebrata', 'Euteleostomi', 'Mammalia', 'Eutheria', 'Euarchontoglires', 'Glires', 'Rodentia', 'Myomorpha', 'Muroidea', 'Cricetidae', 'Cricetinae', 'Cricetulus']\n",
            "id: NM_001086273.2, name: NM_001086273, organism: Xenopus laevis , taxonomy: ['Eukaryota', 'Metazoa', 'Chordata', 'Craniata', 'Vertebrata', 'Euteleostomi', 'Amphibia', 'Batrachia', 'Anura', 'Pipoidea', 'Pipidae', 'Xenopodinae', 'Xenopus', 'Xenopus']\n",
            "id: NM_001144841.1, name: NM_001144841, organism: Sus scrofa , taxonomy: ['Eukaryota', 'Metazoa', 'Chordata', 'Craniata', 'Vertebrata', 'Euteleostomi', 'Mammalia', 'Eutheria', 'Laurasiatheria', 'Artiodactyla', 'Suina', 'Suidae', 'Sus']\n",
            "id: NM_001097648.1, name: NM_001097648, organism: Ovis aries , taxonomy: ['Eukaryota', 'Metazoa', 'Chordata', 'Craniata', 'Vertebrata', 'Euteleostomi', 'Mammalia', 'Eutheria', 'Laurasiatheria', 'Artiodactyla', 'Ruminantia', 'Pecora', 'Bovidae', 'Caprinae', 'Ovis']\n",
            "id: NM_173917.2, name: NM_173917, organism: Bos taurus , taxonomy: ['Eukaryota', 'Metazoa', 'Chordata', 'Craniata', 'Vertebrata', 'Euteleostomi', 'Mammalia', 'Eutheria', 'Laurasiatheria', 'Artiodactyla', 'Ruminantia', 'Pecora', 'Bovidae', 'Bovinae', 'Bos']\n",
            "id: NM_131020.3, name: NM_131020, organism: Danio rerio , taxonomy: ['Eukaryota', 'Metazoa', 'Chordata', 'Craniata', 'Vertebrata', 'Euteleostomi', 'Actinopterygii', 'Neopterygii', 'Teleostei', 'Ostariophysi', 'Cypriniformes', 'Cyprinidae', 'Danio']\n",
            "id: NM_001314043.1, name: NM_001314043, organism: Oryctolagus cuniculus , taxonomy: ['Eukaryota', 'Metazoa', 'Chordata', 'Craniata', 'Vertebrata', 'Euteleostomi', 'Mammalia', 'Eutheria', 'Euarchontoglires', 'Glires', 'Lagomorpha', 'Leporidae', 'Oryctolagus']\n",
            "id: NM_001082260.3, name: NM_001082260, organism: Oryctolagus cuniculus , taxonomy: ['Eukaryota', 'Metazoa', 'Chordata', 'Craniata', 'Vertebrata', 'Euteleostomi', 'Mammalia', 'Eutheria', 'Euarchontoglires', 'Glires', 'Lagomorpha', 'Leporidae', 'Oryctolagus']\n",
            "id: NM_001283367.1, name: NM_001283367, organism: Macaca fascicularis , taxonomy: ['Eukaryota', 'Metazoa', 'Chordata', 'Craniata', 'Vertebrata', 'Euteleostomi', 'Mammalia', 'Eutheria', 'Euarchontoglires', 'Primates', 'Haplorrhini', 'Catarrhini', 'Cercopithecidae', 'Cercopithecinae', 'Macaca']\n",
            "id: NM_001164018.1, name: NM_001164018, organism: Equus caballus , taxonomy: ['Eukaryota', 'Metazoa', 'Chordata', 'Craniata', 'Vertebrata', 'Euteleostomi', 'Mammalia', 'Eutheria', 'Laurasiatheria', 'Perissodactyla', 'Equidae', 'Equus']\n",
            "id: NM_001123666.1, name: NM_001123666, organism: Salmo salar , taxonomy: ['Eukaryota', 'Metazoa', 'Chordata', 'Craniata', 'Vertebrata', 'Euteleostomi', 'Actinopterygii', 'Neopterygii', 'Teleostei', 'Protacanthopterygii', 'Salmoniformes', 'Salmonidae', 'Salmoninae', 'Salmo']\n",
            "id: NM_001329918.1, name: NM_001329918, organism: Chlorocebus sabaeus , taxonomy: ['Eukaryota', 'Metazoa', 'Chordata', 'Craniata', 'Vertebrata', 'Euteleostomi', 'Mammalia', 'Eutheria', 'Euarchontoglires', 'Primates', 'Haplorrhini', 'Catarrhini', 'Cercopithecidae', 'Cercopithecinae', 'Chlorocebus']\n",
            "id: NM_001304883.1, name: NM_001304883, organism: Ailuropoda melanoleuca , taxonomy: ['Eukaryota', 'Metazoa', 'Chordata', 'Craniata', 'Vertebrata', 'Euteleostomi', 'Mammalia', 'Eutheria', 'Laurasiatheria', 'Carnivora', 'Caniformia', 'Ursidae', 'Ailuropoda']\n",
            "id: NM_001279263.1, name: NM_001279263, organism: Condylura cristata , taxonomy: ['Eukaryota', 'Metazoa', 'Chordata', 'Craniata', 'Vertebrata', 'Euteleostomi', 'Mammalia', 'Eutheria', 'Laurasiatheria', 'Eulipotyphla', 'Talpidae', 'Condylura']\n",
            "id: NM_001201019.1, name: NM_001201019, organism: Ictalurus punctatus , taxonomy: ['Eukaryota', 'Metazoa', 'Chordata', 'Craniata', 'Vertebrata', 'Euteleostomi', 'Actinopterygii', 'Neopterygii', 'Teleostei', 'Ostariophysi', 'Siluriformes', 'Ictaluridae', 'Ictalurus']\n",
            "id: NM_001164428.1, name: NM_001164428, organism: Macaca mulatta , taxonomy: ['Eukaryota', 'Metazoa', 'Chordata', 'Craniata', 'Vertebrata', 'Euteleostomi', 'Mammalia', 'Eutheria', 'Euarchontoglires', 'Primates', 'Haplorrhini', 'Catarrhini', 'Cercopithecidae', 'Cercopithecinae', 'Macaca']\n",
            "id: NM_001304885.1, name: NM_001304885, organism: Ailuropoda melanoleuca , taxonomy: ['Eukaryota', 'Metazoa', 'Chordata', 'Craniata', 'Vertebrata', 'Euteleostomi', 'Mammalia', 'Eutheria', 'Laurasiatheria', 'Carnivora', 'Caniformia', 'Ursidae', 'Ailuropoda']\n"
          ]
        }
      ]
    },
    {
      "cell_type": "code",
      "source": [
        "# Genbank annotations\n",
        "from Bio import SeqIO\n",
        "\n",
        "multigb = SeqIO.parse('/content/HBB.gb', 'gb')\n",
        "\n",
        "for gb in multigb:\n",
        "  for key, value in gb.annotations.items():\n",
        "    print(f'{key} : {value}')\n",
        "  \n",
        "  print('--------------------------------------------------------------------')\n",
        "\n",
        "  for item in gb.features:\n",
        "    if item.type in ('CDS', 'exon'):\n",
        "      print(f'{item.type}, {item.location}')\n",
        "      print(gb.seq[item.location.start:item.location.end])\n",
        "  break"
      ],
      "metadata": {
        "colab": {
          "base_uri": "https://localhost:8080/"
        },
        "id": "9I01GD9hKRr8",
        "outputId": "41009666-e739-41d4-f136-898167ce9a87"
      },
      "execution_count": null,
      "outputs": [
        {
          "output_type": "stream",
          "name": "stdout",
          "text": [
            "molecule_type : mRNA\n",
            "topology : linear\n",
            "data_file_division : PRI\n",
            "date : 27-APR-2020\n",
            "accessions : ['NM_001168847']\n",
            "sequence_version : 1\n",
            "keywords : ['RefSeq']\n",
            "source : Papio anubis (olive baboon)\n",
            "organism : Papio anubis\n",
            "taxonomy : ['Eukaryota', 'Metazoa', 'Chordata', 'Craniata', 'Vertebrata', 'Euteleostomi', 'Mammalia', 'Eutheria', 'Euarchontoglires', 'Primates', 'Haplorrhini', 'Catarrhini', 'Cercopithecidae', 'Cercopithecinae', 'Papio']\n",
            "references : [Reference(title='Strand symmetry around the beta-globin origin of replication in primates', ...)]\n",
            "comment : INFERRED REFSEQ: This record is predicted by genome sequence\n",
            "analysis and is not yet supported by experimental evidence. The\n",
            "reference sequence was derived from DP000505.1.\n",
            "structured_comment : defaultdict(<class 'dict'>, {'Evidence-Data': {'Transcript exon combination': 'EY275508.1, EY275701.1 [ECO:0000332]', 'RNAseq introns': 'single sample supports all introns SAMN02045698, SAMN02401340 [ECO:0000348]'}})\n",
            "--------------------------------------------------------------------\n",
            "CDS, [0:444](+)\n",
            "ATGGTGCATCTGACTCCTGAGGAGAAGAATGCCGTTACCGCCCTGTGGGGCAAAGTGAACGTGGATGAAGTTGGTGGTGAGGCCCTGGGCAGGTTGCTGGTGGTCTACCCTTGGACCCAGAGGTTCTTTGATTCCTTTGGGGATCTGTCCTCTCCTGCTGCTGTTATGGGCAACCCTAAGGTGAAGGCTCATGGCAAGAAAGTGCTTGGTGCCTTTAGTGATGGCCTGAATCACCTGGACAACCTCAAGGGCACCTTTGCCCAGCTCAGTGAGCTGCACTGTGACAAGCTGCATGTGGATCCTGAGAACTTCAAGCTCCTGGGCAACGTGCTGGTGTGTGTGCTGGCCCATCACTTTGGCAAAGAATTCACCCCGCAAGTGCAGGCTGCCTATCAGAAAGTGGTGGCTGGTGTGGCTAATGCCCTGGCCCACAAGTACCACTAA\n",
            "exon, [0:92](+)\n",
            "ATGGTGCATCTGACTCCTGAGGAGAAGAATGCCGTTACCGCCCTGTGGGGCAAAGTGAACGTGGATGAAGTTGGTGGTGAGGCCCTGGGCAG\n",
            "exon, [92:315](+)\n",
            "GTTGCTGGTGGTCTACCCTTGGACCCAGAGGTTCTTTGATTCCTTTGGGGATCTGTCCTCTCCTGCTGCTGTTATGGGCAACCCTAAGGTGAAGGCTCATGGCAAGAAAGTGCTTGGTGCCTTTAGTGATGGCCTGAATCACCTGGACAACCTCAAGGGCACCTTTGCCCAGCTCAGTGAGCTGCACTGTGACAAGCTGCATGTGGATCCTGAGAACTTCAAG\n",
            "exon, [315:444](+)\n",
            "CTCCTGGGCAACGTGCTGGTGTGTGTGCTGGCCCATCACTTTGGCAAAGAATTCACCCCGCAAGTGCAGGCTGCCTATCAGAAAGTGGTGGCTGGTGTGGCTAATGCCCTGGCCCACAAGTACCACTAA\n"
          ]
        }
      ]
    },
    {
      "cell_type": "markdown",
      "source": [
        "# Create a Fasta File"
      ],
      "metadata": {
        "id": "mz7RsKuu6qsc"
      }
    },
    {
      "cell_type": "code",
      "source": [
        "from Bio import SeqIO\n",
        "from Bio.Seq import *\n",
        "from Bio.SeqRecord import *\n",
        "\n",
        "record = SeqIO.parse('/content/HBB-human.gb', 'genbank')\n",
        "\n",
        "for item in record:\n",
        "  fasta = SeqRecord(Seq(str(item.seq)), \n",
        "                    id=item.name, \n",
        "                    description=item.description)\n",
        "  print(fasta.format('fasta'))"
      ],
      "metadata": {
        "id": "EDi-lB7BN-aX",
        "colab": {
          "base_uri": "https://localhost:8080/"
        },
        "outputId": "0b5edfd1-e16a-4a27-838a-cb0996d67b7c"
      },
      "execution_count": null,
      "outputs": [
        {
          "output_type": "stream",
          "name": "stdout",
          "text": [
            ">NM_000518 Homo sapiens hemoglobin subunit beta (HBB), mRNA\n",
            "ACATTTGCTTCTGACACAACTGTGTTCACTAGCAACCTCAAACAGACACCATGGTGCATC\n",
            "TGACTCCTGAGGAGAAGTCTGCCGTTACTGCCCTGTGGGGCAAGGTGAACGTGGATGAAG\n",
            "TTGGTGGTGAGGCCCTGGGCAGGCTGCTGGTGGTCTACCCTTGGACCCAGAGGTTCTTTG\n",
            "AGTCCTTTGGGGATCTGTCCACTCCTGATGCTGTTATGGGCAACCCTAAGGTGAAGGCTC\n",
            "ATGGCAAGAAAGTGCTCGGTGCCTTTAGTGATGGCCTGGCTCACCTGGACAACCTCAAGG\n",
            "GCACCTTTGCCACACTGAGTGAGCTGCACTGTGACAAGCTGCACGTGGATCCTGAGAACT\n",
            "TCAGGCTCCTGGGCAACGTGCTGGTCTGTGTGCTGGCCCATCACTTTGGCAAAGAATTCA\n",
            "CCCCACCAGTGCAGGCTGCCTATCAGAAAGTGGTGGCTGGTGTGGCTAATGCCCTGGCCC\n",
            "ACAAGTATCACTAAGCTCGCTTTCTTGCTGTCCAATTTCTATTAAAGGTTCCTTTGTTCC\n",
            "CTAAGTCCAACTACTAAACTGGGGGATATTATGAAGGGCCTTGAGCATCTGGATTCTGCC\n",
            "TAATAAAAAACATTTATTTTCATTGCAA\n",
            "\n"
          ]
        }
      ]
    },
    {
      "cell_type": "markdown",
      "source": [
        "# Sequence Analysis\n"
      ],
      "metadata": {
        "id": "YdIXDlcHA6BN"
      }
    },
    {
      "cell_type": "markdown",
      "source": [
        "### Central Dogma"
      ],
      "metadata": {
        "id": "dHEKvQQnBATN"
      }
    },
    {
      "cell_type": "markdown",
      "source": [
        "In a DNA molecule, the two antiparallel strands (positive or 5’-> 3’ and negative or 3’-> 5’) are complementary to each other.\n",
        "\n",
        "As per standard notation, we write the DNA sequence in 5’-> 3’ orientation. Therefore, to represent a sequence of the negative strand in 5’-> 3’ orientation we need to perform a reverse complementary of positive strain.\n",
        "https://www.reneshbedre.com/blog/reverse-complementary.html"
      ],
      "metadata": {
        "id": "gvRek1xlDKY7"
      }
    },
    {
      "cell_type": "code",
      "source": [
        "from Bio import SeqIO\n",
        "from Bio.Seq import *\n",
        "record = SeqIO.parse('/content/HBB-human.fasta', 'fasta')\n",
        "for item in record:\n",
        "  dna = str(item.seq) # 5’-> 3’ \n",
        "  print(f'DNA {dna}')\n",
        "  complementary_strand = complement(dna) # 3’-> 5’ \n",
        "  print(f'Complementary strand {complementary_strand}')\n",
        "  reversed_complementary_strand = complementary_strand[::-1] #  5’-> 3’ \n",
        "  print(f'Reversed complementary strand {reversed_complementary_strand}')\n",
        "  reversed_complementary_strand_lib = reverse_complement(dna)\n",
        "  print(f'Reversed complementary strand with lib {reversed_complementary_strand_lib}')\n",
        "  rna = transcribe(dna)\n",
        "  print(f'RNA {rna}')\n",
        "  reversed_rna = back_transcribe(rna)\n",
        "  print(f'Reverse Transcription {reversed_rna}')\n",
        "  translation_first_frame = translate(rna) # uses the default genetic code table. To use another table specify the param table. Example: table=2\n",
        "  print(f'Translation first frame {translation_first_frame}')\n",
        "  translation_second_frame = translate(rna[1:]) # uses the default genetic code table. To use another table specify the param table. Example: table=2\n",
        "  print(f'Translation second frame {translation_second_frame}')\n",
        "  translation_third_frame = translate(rna[2:]) # uses the default genetic code table. To use another table specify the param table. Example: table=2\n",
        "  print(f'Translation third frame {translation_third_frame}')"
      ],
      "metadata": {
        "colab": {
          "base_uri": "https://localhost:8080/"
        },
        "id": "yw4QZ6N58Gfo",
        "outputId": "4c3c46b8-9074-46b5-a680-7fa712611605"
      },
      "execution_count": null,
      "outputs": [
        {
          "output_type": "stream",
          "name": "stdout",
          "text": [
            "DNA ACATTTGCTTCTGACACAACTGTGTTCACTAGCAACCTCAAACAGACACCATGGTGCATCTGACTCCTGAGGAGAAGTCTGCCGTTACTGCCCTGTGGGGCAAGGTGAACGTGGATGAAGTTGGTGGTGAGGCCCTGGGCAGGCTGCTGGTGGTCTACCCTTGGACCCAGAGGTTCTTTGAGTCCTTTGGGGATCTGTCCACTCCTGATGCTGTTATGGGCAACCCTAAGGTGAAGGCTCATGGCAAGAAAGTGCTCGGTGCCTTTAGTGATGGCCTGGCTCACCTGGACAACCTCAAGGGCACCTTTGCCACACTGAGTGAGCTGCACTGTGACAAGCTGCACGTGGATCCTGAGAACTTCAGGCTCCTGGGCAACGTGCTGGTCTGTGTGCTGGCCCATCACTTTGGCAAAGAATTCACCCCACCAGTGCAGGCTGCCTATCAGAAAGTGGTGGCTGGTGTGGCTAATGCCCTGGCCCACAAGTATCACTAAGCTCGCTTTCTTGCTGTCCAATTTCTATTAAAGGTTCCTTTGTTCCCTAAGTCCAACTACTAAACTGGGGGATATTATGAAGGGCCTTGAGCATCTGGATTCTGCCTAATAAAAAACATTTATTTTCATTGCAA\n",
            "Complementary strand TGTAAACGAAGACTGTGTTGACACAAGTGATCGTTGGAGTTTGTCTGTGGTACCACGTAGACTGAGGACTCCTCTTCAGACGGCAATGACGGGACACCCCGTTCCACTTGCACCTACTTCAACCACCACTCCGGGACCCGTCCGACGACCACCAGATGGGAACCTGGGTCTCCAAGAAACTCAGGAAACCCCTAGACAGGTGAGGACTACGACAATACCCGTTGGGATTCCACTTCCGAGTACCGTTCTTTCACGAGCCACGGAAATCACTACCGGACCGAGTGGACCTGTTGGAGTTCCCGTGGAAACGGTGTGACTCACTCGACGTGACACTGTTCGACGTGCACCTAGGACTCTTGAAGTCCGAGGACCCGTTGCACGACCAGACACACGACCGGGTAGTGAAACCGTTTCTTAAGTGGGGTGGTCACGTCCGACGGATAGTCTTTCACCACCGACCACACCGATTACGGGACCGGGTGTTCATAGTGATTCGAGCGAAAGAACGACAGGTTAAAGATAATTTCCAAGGAAACAAGGGATTCAGGTTGATGATTTGACCCCCTATAATACTTCCCGGAACTCGTAGACCTAAGACGGATTATTTTTTGTAAATAAAAGTAACGTT\n",
            "Reversed complementary strand TTGCAATGAAAATAAATGTTTTTTATTAGGCAGAATCCAGATGCTCAAGGCCCTTCATAATATCCCCCAGTTTAGTAGTTGGACTTAGGGAACAAAGGAACCTTTAATAGAAATTGGACAGCAAGAAAGCGAGCTTAGTGATACTTGTGGGCCAGGGCATTAGCCACACCAGCCACCACTTTCTGATAGGCAGCCTGCACTGGTGGGGTGAATTCTTTGCCAAAGTGATGGGCCAGCACACAGACCAGCACGTTGCCCAGGAGCCTGAAGTTCTCAGGATCCACGTGCAGCTTGTCACAGTGCAGCTCACTCAGTGTGGCAAAGGTGCCCTTGAGGTTGTCCAGGTGAGCCAGGCCATCACTAAAGGCACCGAGCACTTTCTTGCCATGAGCCTTCACCTTAGGGTTGCCCATAACAGCATCAGGAGTGGACAGATCCCCAAAGGACTCAAAGAACCTCTGGGTCCAAGGGTAGACCACCAGCAGCCTGCCCAGGGCCTCACCACCAACTTCATCCACGTTCACCTTGCCCCACAGGGCAGTAACGGCAGACTTCTCCTCAGGAGTCAGATGCACCATGGTGTCTGTTTGAGGTTGCTAGTGAACACAGTTGTGTCAGAAGCAAATGT\n",
            "Reversed complementary strand with lib TTGCAATGAAAATAAATGTTTTTTATTAGGCAGAATCCAGATGCTCAAGGCCCTTCATAATATCCCCCAGTTTAGTAGTTGGACTTAGGGAACAAAGGAACCTTTAATAGAAATTGGACAGCAAGAAAGCGAGCTTAGTGATACTTGTGGGCCAGGGCATTAGCCACACCAGCCACCACTTTCTGATAGGCAGCCTGCACTGGTGGGGTGAATTCTTTGCCAAAGTGATGGGCCAGCACACAGACCAGCACGTTGCCCAGGAGCCTGAAGTTCTCAGGATCCACGTGCAGCTTGTCACAGTGCAGCTCACTCAGTGTGGCAAAGGTGCCCTTGAGGTTGTCCAGGTGAGCCAGGCCATCACTAAAGGCACCGAGCACTTTCTTGCCATGAGCCTTCACCTTAGGGTTGCCCATAACAGCATCAGGAGTGGACAGATCCCCAAAGGACTCAAAGAACCTCTGGGTCCAAGGGTAGACCACCAGCAGCCTGCCCAGGGCCTCACCACCAACTTCATCCACGTTCACCTTGCCCCACAGGGCAGTAACGGCAGACTTCTCCTCAGGAGTCAGATGCACCATGGTGTCTGTTTGAGGTTGCTAGTGAACACAGTTGTGTCAGAAGCAAATGT\n",
            "RNA ACAUUUGCUUCUGACACAACUGUGUUCACUAGCAACCUCAAACAGACACCAUGGUGCAUCUGACUCCUGAGGAGAAGUCUGCCGUUACUGCCCUGUGGGGCAAGGUGAACGUGGAUGAAGUUGGUGGUGAGGCCCUGGGCAGGCUGCUGGUGGUCUACCCUUGGACCCAGAGGUUCUUUGAGUCCUUUGGGGAUCUGUCCACUCCUGAUGCUGUUAUGGGCAACCCUAAGGUGAAGGCUCAUGGCAAGAAAGUGCUCGGUGCCUUUAGUGAUGGCCUGGCUCACCUGGACAACCUCAAGGGCACCUUUGCCACACUGAGUGAGCUGCACUGUGACAAGCUGCACGUGGAUCCUGAGAACUUCAGGCUCCUGGGCAACGUGCUGGUCUGUGUGCUGGCCCAUCACUUUGGCAAAGAAUUCACCCCACCAGUGCAGGCUGCCUAUCAGAAAGUGGUGGCUGGUGUGGCUAAUGCCCUGGCCCACAAGUAUCACUAAGCUCGCUUUCUUGCUGUCCAAUUUCUAUUAAAGGUUCCUUUGUUCCCUAAGUCCAACUACUAAACUGGGGGAUAUUAUGAAGGGCCUUGAGCAUCUGGAUUCUGCCUAAUAAAAAACAUUUAUUUUCAUUGCAA\n",
            "Reverse Transcription ACATTTGCTTCTGACACAACTGTGTTCACTAGCAACCTCAAACAGACACCATGGTGCATCTGACTCCTGAGGAGAAGTCTGCCGTTACTGCCCTGTGGGGCAAGGTGAACGTGGATGAAGTTGGTGGTGAGGCCCTGGGCAGGCTGCTGGTGGTCTACCCTTGGACCCAGAGGTTCTTTGAGTCCTTTGGGGATCTGTCCACTCCTGATGCTGTTATGGGCAACCCTAAGGTGAAGGCTCATGGCAAGAAAGTGCTCGGTGCCTTTAGTGATGGCCTGGCTCACCTGGACAACCTCAAGGGCACCTTTGCCACACTGAGTGAGCTGCACTGTGACAAGCTGCACGTGGATCCTGAGAACTTCAGGCTCCTGGGCAACGTGCTGGTCTGTGTGCTGGCCCATCACTTTGGCAAAGAATTCACCCCACCAGTGCAGGCTGCCTATCAGAAAGTGGTGGCTGGTGTGGCTAATGCCCTGGCCCACAAGTATCACTAAGCTCGCTTTCTTGCTGTCCAATTTCTATTAAAGGTTCCTTTGTTCCCTAAGTCCAACTACTAAACTGGGGGATATTATGAAGGGCCTTGAGCATCTGGATTCTGCCTAATAAAAAACATTTATTTTCATTGCAA\n",
            "Translation first frame TFASDTTVFTSNLKQTPWCI*LLRRSLPLLPCGAR*TWMKLVVRPWAGCWWSTLGPRGSLSPLGICPLLMLLWATLR*RLMARKCSVPLVMAWLTWTTSRAPLPH*VSCTVTSCTWILRTSGSWATCWSVCWPITLAKNSPHQCRLPIRKWWLVWLMPWPTSITKLAFLLSNFY*RFLCSLSPTTKLGDIMKGLEHLDSA**KTFIFIA\n",
            "Translation second frame HLLLTQLCSLATSNRHHGASDS*GEVCRYCPVGQGERG*SWW*GPGQAAGGLPLDPEVL*VLWGSVHS*CCYGQP*GEGSWQESARCL**WPGSPGQPQGHLCHTE*AAL*QAARGS*ELQAPGQRAGLCAGPSLWQRIHPTSAGCLSESGGWCG*CPGPQVSLSSLSCCPISIKGSFVP*VQLLNWGIL*RALSIWILPNKKHLFSLQ\n",
            "Translation third frame ICF*HNCVH*QPQTDTMVHLTPEEKSAVTALWGKVNVDEVGGEALGRLLVVYPWTQRFFESFGDLSTPDAVMGNPKVKAHGKKVLGAFSDGLAHLDNLKGTFATLSELHCDKLHVDPENFRLLGNVLVCVLAHHFGKEFTPPVQAAYQKVVAGVANALAHKYH*ARFLAVQFLLKVPLFPKSNY*TGGYYEGP*ASGFCLIKNIYFHC\n"
          ]
        }
      ]
    },
    {
      "cell_type": "code",
      "source": [
        "# https://biopython.org/docs/1.75/api/Bio.SeqUtils.html\n",
        "from Bio import SeqIO\n",
        "from Bio.SeqUtils import *\n",
        "from Bio.Seq import *\n",
        "\n",
        "record = SeqIO.parse('/content/HBB-human.fasta', 'fasta')\n",
        "for item in record:\n",
        "  dna = str(item.seq)\n",
        "  rna = transcribe(dna)\n",
        "  protein = translate(dna[50:494])\n",
        "  # nt_search: Search for a DNA subseq in sequence, return list of [subseq, positions].\n",
        "  print('Protein aminoacids 1 letter', protein)\n",
        "  print('Protein aminoacids 3 letters', seq3(protein))\n",
        "  print('count start codon ATG', nt_search(dna, 'ATG'))\n",
        "  print('C content', nt_search(dna, 'C'))\n",
        "  print('Molecular weight', molecular_weight(dna, 'DNA'))\n"
      ],
      "metadata": {
        "colab": {
          "base_uri": "https://localhost:8080/"
        },
        "id": "xc6v6cmLGznj",
        "outputId": "2b2545fb-ed4c-4599-d367-9b513c7868c0"
      },
      "execution_count": null,
      "outputs": [
        {
          "output_type": "stream",
          "name": "stdout",
          "text": [
            "Protein aminoacids 1 letter MVHLTPEEKSAVTALWGKVNVDEVGGEALGRLLVVYPWTQRFFESFGDLSTPDAVMGNPKVKAHGKKVLGAFSDGLAHLDNLKGTFATLSELHCDKLHVDPENFRLLGNVLVCVLAHHFGKEFTPPVQAAYQKVVAGVANALAHKYH*\n",
            "Protein aminoacids 3 letters MetValHisLeuThrProGluGluLysSerAlaValThrAlaLeuTrpGlyLysValAsnValAspGluValGlyGlyGluAlaLeuGlyArgLeuLeuValValTyrProTrpThrGlnArgPhePheGluSerPheGlyAspLeuSerThrProAspAlaValMetGlyAsnProLysValLysAlaHisGlyLysLysValLeuGlyAlaPheSerAspGlyLeuAlaHisLeuAspAsnLeuLysGlyThrPheAlaThrLeuSerGluLeuHisCysAspLysLeuHisValAspProGluAsnPheArgLeuLeuGlyAsnValLeuValCysValLeuAlaHisHisPheGlyLysGluPheThrProProValGlnAlaAlaTyrGlnLysValValAlaGlyValAlaAsnAlaLeuAlaHisLysTyrHisTer\n",
            "count start codon ATG ['ATG', 50, 114, 207, 215, 240, 270, 468, 570]\n",
            "C content ['C', 1, 7, 10, 14, 16, 19, 26, 28, 32, 35, 36, 38, 42, 46, 48, 49, 56, 59, 63, 65, 66, 78, 81, 82, 87, 90, 91, 92, 100, 109, 132, 133, 134, 139, 143, 146, 154, 157, 158, 159, 165, 166, 167, 175, 183, 184, 194, 198, 199, 201, 203, 204, 210, 220, 223, 224, 225, 237, 239, 244, 254, 256, 261, 262, 274, 275, 279, 281, 283, 284, 289, 292, 293, 295, 301, 303, 304, 309, 310, 312, 314, 323, 326, 328, 334, 338, 341, 343, 350, 351, 358, 361, 365, 367, 368, 373, 376, 380, 385, 392, 396, 397, 398, 401, 403, 409, 418, 420, 421, 422, 423, 425, 426, 431, 435, 438, 439, 443, 456, 465, 471, 472, 473, 477, 478, 479, 481, 488, 490, 495, 497, 499, 503, 507, 511, 512, 518, 530, 531, 538, 539, 540, 546, 547, 550, 553, 558, 578, 579, 585, 588, 595, 598, 599, 610, 620, 625]\n",
            "Molecular weight 194074.49929999988\n"
          ]
        }
      ]
    },
    {
      "cell_type": "code",
      "source": [
        "print('Six frame translations', six_frame_translations(dna[50:494]))"
      ],
      "metadata": {
        "colab": {
          "base_uri": "https://localhost:8080/"
        },
        "id": "WzGmBTxOKysA",
        "outputId": "6fa6c9a0-2d7d-4521-d71a-10764d11bdc0"
      },
      "execution_count": null,
      "outputs": [
        {
          "output_type": "stream",
          "name": "stdout",
          "text": [
            "Six frame translations GC_Frame: a:88 t:107 g:136 c:113\n",
            "Sequence: atggtgcatc ... gtatcactaa, 444 nt, 56.08 %GC\n",
            "\n",
            "\n",
            "1/1\n",
            "  G  A  S  D  S  *  G  E  V  C  R  Y  C  P  V  G  Q  G  E  R\n",
            " W  C  I  *  L  L  R  R  S  L  P  L  L  P  C  G  A  R  *  T\n",
            "M  V  H  L  T  P  E  E  K  S  A  V  T  A  L  W  G  K  V  N\n",
            "atggtgcatctgactcctgaggagaagtctgccgttactgccctgtggggcaaggtgaac   56 %\n",
            "taccacgtagactgaggactcctcttcagacggcaatgacgggacaccccgttccacttg\n",
            "T  C  R  V  G  S  S  F  D  A  T  V  A  R  H  P  L  T  F  T\n",
            " H  H  M  Q  S  R  L  L  L  R  G  N  S  G  Q  P  A  L  H  V\n",
            "  P  A  D  S  E  Q  P  S  T  Q  R  *  Q  G  T  P  C  P  S  R\n",
            "\n",
            "61/21\n",
            "  G  *  S  W  W  *  G  P  G  Q  A  A  G  G  L  P  L  D  P  E\n",
            " W  M  K  L  V  V  R  P  W  A  G  C  W  W  S  T  L  G  P  R\n",
            "V  D  E  V  G  G  E  A  L  G  R  L  L  V  V  Y  P  W  T  Q\n",
            "gtggatgaagttggtggtgaggccctgggcaggctgctggtggtctacccttggacccag   63 %\n",
            "cacctacttcaaccaccactccgggacccgtccgacgaccaccagatgggaacctgggtc\n",
            "S  S  T  P  P  S  A  R  P  L  S  S  T  T  *  G  Q  V  W  L\n",
            " H  I  F  N  T  T  L  G  Q  A  P  Q  Q  H  D  V  R  P  G  L\n",
            "  P  H  L  Q  H  H  P  G  P  C  A  A  P  P  R  G  K  S  G  S\n",
            "\n",
            "121/41\n",
            "  V  L  *  V  L  W  G  S  V  H  S  *  C  C  Y  G  Q  P  *  G\n",
            " G  S  L  S  P  L  G  I  C  P  L  L  M  L  L  W  A  T  L  R\n",
            "R  F  F  E  S  F  G  D  L  S  T  P  D  A  V  M  G  N  P  K\n",
            "aggttctttgagtcctttggggatctgtccactcctgatgctgttatgggcaaccctaag   50 %\n",
            "tccaagaaactcaggaaacccctagacaggtgaggactacgacaatacccgttgggattc\n",
            "N  K  S  D  K  P  S  R  D  V  G  S  A  T  I  P  L  G  L  T\n",
            " P  E  K  L  G  K  P  I  Q  G  S  R  I  S  N  H  A  V  R  L\n",
            "  T  R  Q  T  R  Q  P  D  T  W  E  Q  H  Q  *  P  C  G  *  P\n",
            "\n",
            "181/61\n",
            "  E  G  S  W  Q  E  S  A  R  C  L  *  *  W  P  G  S  P  G  Q\n",
            " *  R  L  M  A  R  K  C  S  V  P  L  V  M  A  W  L  T  W  T\n",
            "V  K  A  H  G  K  K  V  L  G  A  F  S  D  G  L  A  H  L  D\n",
            "gtgaaggctcatggcaagaaagtgctcggtgcctttagtgatggcctggctcacctggac   56 %\n",
            "cacttccgagtaccgttctttcacgagccacggaaatcactaccggaccgagtggacctg\n",
            "F  A  *  P  L  F  T  S  P  A  K  L  S  P  R  A  *  R  S  L\n",
            " H  L  S  M  A  L  F  H  E  T  G  K  T  I  A  Q  S  V  Q  V\n",
            "  S  P  E  H  C  S  L  A  R  H  R  *  H  H  G  P  E  G  P  C\n",
            "\n",
            "241/81\n",
            "  P  Q  G  H  L  C  H  T  E  *  A  A  L  *  Q  A  A  R  G  S\n",
            " T  S  R  A  P  L  P  H  *  V  S  C  T  V  T  S  C  T  W  I\n",
            "N  L  K  G  T  F  A  T  L  S  E  L  H  C  D  K  L  H  V  D\n",
            "aacctcaagggcacctttgccacactgagtgagctgcactgtgacaagctgcacgtggat   55 %\n",
            "ttggagttcccgtggaaacggtgtgactcactcgacgtgacactgttcgacgtgcaccta\n",
            "R  L  P  V  K  A  V  S  L  S  S  C  Q  S  L  S  C  T  S  G\n",
            " V  E  L  A  G  K  G  C  Q  T  L  Q  V  T  V  L  Q  V  H  I\n",
            "  G  *  P  C  R  Q  W  V  S  H  A  A  S  H  C  A  A  R  P  D\n",
            "\n",
            "301/101\n",
            "  *  E  L  Q  A  P  G  Q  R  A  G  L  C  A  G  P  S  L  W  Q\n",
            " L  R  T  S  G  S  W  A  T  C  W  S  V  C  W  P  I  T  L  A\n",
            "P  E  N  F  R  L  L  G  N  V  L  V  C  V  L  A  H  H  F  G\n",
            "cctgagaacttcaggctcctgggcaacgtgctggtctgtgtgctggcccatcactttggc   60 %\n",
            "ggactcttgaagtccgaggacccgttgcacgaccagacacacgaccgggtagtgaaaccg\n",
            "S  F  K  L  S  R  P  L  T  S  T  Q  T  S  A  W  *  K  P  L\n",
            " R  L  V  E  P  E  Q  A  V  H  Q  D  T  H  Q  G  M  V  K  A\n",
            "  Q  S  S  *  A  G  P  C  R  A  P  R  H  A  P  G  D  S  Q  C\n",
            "\n",
            "361/121\n",
            "  R  I  H  P  T  S  A  G  C  L  S  E  S  G  G  W  C  G  *  C\n",
            " K  N  S  P  H  Q  C  R  L  P  I  R  K  W  W  L  V  W  L  M\n",
            "K  E  F  T  P  P  V  Q  A  A  Y  Q  K  V  V  A  G  V  A  N\n",
            "aaagaattcaccccaccagtgcaggctgcctatcagaaagtggtggctggtgtggctaat   51 %\n",
            "tttcttaagtggggtggtcacgtccgacggatagtctttcaccaccgaccacaccgatta\n",
            "S  N  V  G  G  T  C  A  A  *  *  F  T  T  A  P  T  A  L  A\n",
            " F  F  E  G  W  W  H  L  S  G  I  L  F  H  H  S  T  H  S  I\n",
            "  L  I  *  G  V  L  A  P  Q  R  D  S  L  P  P  Q  H  P  *  H\n",
            "\n",
            "421/141\n",
            "  P  G  P  Q  V  S  L\n",
            " P  W  P  T  S  I  T\n",
            "A  L  A  H  K  Y  H  *\n",
            "gccctggcccacaagtatcactaa   54 %\n",
            "cgggaccgggtgttcatagtgatt\n",
            "R  A  W  L  Y  *  *\n",
            " G  Q  G  V  L  I  V  L\n",
            "  G  P  G  C  T  D  S\n",
            "\n",
            "\n"
          ]
        },
        {
          "output_type": "stream",
          "name": "stderr",
          "text": [
            "/usr/local/lib/python3.8/dist-packages/Bio/SeqUtils/__init__.py:144: BiopythonDeprecationWarning: GC is deprecated; please use gc_fraction instead.\n",
            "  warnings.warn(\n"
          ]
        }
      ]
    },
    {
      "cell_type": "markdown",
      "source": [
        "# Sequence Alignment\n",
        "\n",
        "Pairwise Sequence Alignment is a process in which two sequences are compared at a time and the best possible sequence alignment is provided. Pairwise sequence alignment uses a dynamic programming algorithm. Biopython has a special module Bio.pairwise2 which identifies the alignment sequence using pairwise method. Biopython provides the best algorithm to find alignment sequence as compared to other software.\n",
        "\n",
        "https://biopython.org/docs/1.75/api/Bio.pairwise2.html\n",
        "\n",
        "https://www.geeksforgeeks.org/biopython-pairwise-alignment/ \n",
        "\n",
        "https://rob-p.github.io/CSE549F17/lectures/Lec08.pdf\n",
        "\n",
        "https://qcbsciprolab2019.readthedocs.io/en/latest/docs/Practical10.pdf"
      ],
      "metadata": {
        "id": "oaRhdSxwL9Cp"
      }
    },
    {
      "cell_type": "markdown",
      "source": [
        "### Global\n",
        "\n",
        "Compara sequences bastante similares com algumas divergências"
      ],
      "metadata": {
        "id": "CPkUGrfGMLEo"
      }
    },
    {
      "cell_type": "code",
      "source": [
        "from Bio import SeqIO\n",
        "from Bio.SeqUtils import *\n",
        "from Bio.Seq import *\n",
        "from Bio import pairwise2\n",
        "from Bio.pairwise2 import *\n",
        "\n",
        "human = ''\n",
        "rat = ''\n",
        "\n",
        "for record in SeqIO.parse('/content/HBB-human.fasta', 'fasta'):\n",
        "  human = str(record.seq)\n",
        "for record in SeqIO.parse('/content/HBB-rat.fasta', 'fasta'):\n",
        "  rat = str(record.seq)\n",
        "\n",
        "print(human)\n",
        "print(rat)\n",
        "#print(help(pairwise2))\n",
        "global_aligment = pairwise2.align.globalxx(human, rat) # returns a list with all comparisons\n",
        "print(len(global_aligment))\n",
        "print(global_aligment[0])\n",
        "print(global_aligment[431])\n",
        "print(format_alignment(*global_aligment[0]))\n"
      ],
      "metadata": {
        "colab": {
          "base_uri": "https://localhost:8080/"
        },
        "id": "0orj7bqFL8kP",
        "outputId": "1a17da58-26db-4666-e5ec-ebb6c7eaeb74"
      },
      "execution_count": null,
      "outputs": [
        {
          "output_type": "stream",
          "name": "stdout",
          "text": [
            "ACATTTGCTTCTGACACAACTGTGTTCACTAGCAACCTCAAACAGACACCATGGTGCATCTGACTCCTGAGGAGAAGTCTGCCGTTACTGCCCTGTGGGGCAAGGTGAACGTGGATGAAGTTGGTGGTGAGGCCCTGGGCAGGCTGCTGGTGGTCTACCCTTGGACCCAGAGGTTCTTTGAGTCCTTTGGGGATCTGTCCACTCCTGATGCTGTTATGGGCAACCCTAAGGTGAAGGCTCATGGCAAGAAAGTGCTCGGTGCCTTTAGTGATGGCCTGGCTCACCTGGACAACCTCAAGGGCACCTTTGCCACACTGAGTGAGCTGCACTGTGACAAGCTGCACGTGGATCCTGAGAACTTCAGGCTCCTGGGCAACGTGCTGGTCTGTGTGCTGGCCCATCACTTTGGCAAAGAATTCACCCCACCAGTGCAGGCTGCCTATCAGAAAGTGGTGGCTGGTGTGGCTAATGCCCTGGCCCACAAGTATCACTAAGCTCGCTTTCTTGCTGTCCAATTTCTATTAAAGGTTCCTTTGTTCCCTAAGTCCAACTACTAAACTGGGGGATATTATGAAGGGCCTTGAGCATCTGGATTCTGCCTAATAAAAAACATTTATTTTCATTGCAA\n",
            "TGCTTCTGACATAGTTGTGTTGACTCACAAACTCAGAAACAGACACCATGGTGCACCTGACTGATGCTGAGAAGGCTGCTGTTAATGGCCTGTGGGGAAAGGTGAACCCTGATGATGTTGGTGGCGAGGCCCTGGGCAGGCTGCTGGTTGTCTACCCTTGGACCCAGAGGTACTTTGATAGCTTTGGGGACCTGTCCTCTGCCTCTGCTATCATGGGTAACCCTAAGGTGAAGGCCCATGGCAAGAAGGTGATAAACGCCTTCAATGATGGCCTGAAACACTTGGACAACCTCAAGGGCACCTTTGCTCATCTGAGTGAACTCCACTGTGACAAGCTGCATGTGGATCCTGAGAACTTCAGGCTCCTGGGCAATATGATTGTGATTGTGTTGGGCCACCACCTGGGCAAGGAATTCACCCCCTGTGCACAGGCTGCCTTCCAGAAGGTGGTGGCTGGAGTGGCCAGTGCCCTGGCTCACAAGTACCACTAAACCTCTTTTCCTGCTCTTGTCTTTGTGCAATGGTCAATTGTTCCCAAGAGAGCATCTGTCAGTTGTTGTCAAAATGACAAAGACCTTTGAAAATCTGTCCTACTAATAAAAGGCATTTACTTTCACTGC\n",
            "432\n",
            "Alignment(seqA='ACATTTGCTTCTGACACA-AC-T-GTGTTC-ACT-AGCAAC-CTCA-AA-CAGACACCATGGTGCATC-TGACTCCTGA-G--GAGAAGT-CTGCC-GTTAC-TGC-CCTGTGGGGCAA-GGTGAACG--TGGATGAA-GTTGGTGGT-GAGGCCCTGGGCAGGCTGCTGGTG-GTCTACCCTTGGACCCAGAGGTT-CTTTGAGTC--CTTTGGGGATC-TGTCCACTCCTGA--TGCTG-T-T-ATGGGC-AACCCTAAGGTGAAGGCTC-ATGGCAAGAAAGTGCTCGG-T----GCCTTT-AG-TGATGGCCTGGCTCA--C-CT-GGACAACCTCAAGGGCACCTTTGCCA-CA-CTGAGTGAG-CTGC-ACTGTGACAAGCTGCAC-GTGGATCCTGAGAACTTCAGGCTCCTGGGCAACGT--GC-T-G-G-TCTGTGTGCTGGC-CCATC-ACTT-TGG-CAAAG-AATTCACCCCACCA-GTGCA--GGCTGCCTATC-AGAAAG-TGGTGGCTGGT-GTGGCTA-A-TGCCCTGGCC-CACAAGTATC-ACTAAGCT-CGCT-TTCTTGC-TGTC-CAATT-TCTATTA----AA-GGTTCCT--TTGTTCCCTAAGTCCA-A-CTACTAAACTGGG---G--GATAT-T-A---TGA-AGG--G-CCTT-GAGCATCTGGAT-TCTG-CCTAA-TAA-AAAA--CATTTAT-TTTCAT-TGCAA', seqB='-----TGCTTCTG--ACATA-GTTGTGTT-GACTCA-CAA-ACTCAGAAACAGACACCATGGTGCA-CCTGA---CTGATGCTGAGAAG-GCTG-CTGTTA-ATG-GCCTGTGGGG-AAAGGTGAAC-CCT-GATG-ATGTTGGTGG-CGAGGCCCTGGGCAGGCTGCTGGT-TGTCTACCCTTGGACCCAGAGG-TACTTTGA-T-AGCTTTGGGGA-CCTGT-C-CT-CTG-CCT-CTGCTATCATGGG-TAACCCTAAGGTGAAGGC-CCATGGCAAG-AAG-G-T--GATAAACGCC-TTCA-ATGATGGCCT-G---AAACACTTGGACAACCTCAAGGGCACCTTTG-C-TCATCTGAGTGA-ACT-CCACTGTGACAAGCTGCA-TGTGGATCCTGAGAACTTCAGGCTCCTGGGCAA--TATG-ATTGTGAT-TGTGT--TGG-GCCA-CCAC--CTGGGC-AAGGAATTCA-CCC-CC-TGTGCACAGGCTGCCT-TCCAG-AAGGTGGTGGCTGG-AGTGGC--CAGTGCCCTGG-CTCACAAGTA-CCACTAA---AC-CTCTT-TT-CCTG-CTC--TTGTCT-TT-GTGCAATGG-T-C-AATTGTTCCC-AAG---AGAGC-A-T---CT--GTCAGTTG-T-TGTCAAAATGACA--AAGACCTTTGA--A-----A-ATCTGTCCT-ACTAATAAAAGGCATTTA-CTTTCA-CTGC--', score=513.0, start=0, end=735)\n",
            "Alignment(seqA='ACATTTGCTTCTGACACA-ACTGTGTTC-ACT-AGCAACCTCA-AA-CAGACACCATGGTGCATC-TGACTCCTGA-G--GAGAAGT-CTGCC-GTTAC-TGC-CCTGTGGGGCAA-GGTGAACG--TGGATGAA-GTTGGTGGT-GAGGCCCTGGGCAGGCTGCTGGTG-GTCTACCCTTGGACCCAGAGGTT-CTTTGAGTC--CTTTGGGGATC-TGTCCACTCCTGA--TGCTG-T-T-ATGGGC-AACCCTAAGGTGAAGGCTC-ATGGCAAGAAAGTGCTCGG-T----GCCTTT-AG-TGATGGCCTGGCTCA--C-CT-GGACAACCTCAAGGGCACCTTTGCCA-CA-CTGAGTGAG-CTGC-ACTGTGACAAGCTGCAC-GTGGATCCTGAGAACTTCAGGCTCCTGGGCAACGT--GC-T-G-G-TCTGTGTGCTGGC-CCATC-ACTT-TGG-CAAAG-AATTCACCCCACCA-GTGCA--GGCTGCCTATC-AGAAAG-TGGTGGCTGGT-GTGGCTA-A-TGCCCTGGCC-CACAAGTATC-ACTAAGCT-CGCT-TTCTTGC-TGTC-CAATT-TCTATTA----AA-GGTTCCT--TTGTTCCCTAAGTCCA-A-CTACTAAACTGGG---G--GATAT-T-A---TGA-AGG--G-CCTT-GAGCATCTGGAT-TCTG-CCTAA-TAA-AAAA--CATTTAT-TTTCAT-TGCAA', seqB='---T--GCTTCTGACATAGT-TGTGTT-GACTCA-CAAACTCAGAAACAGACACCATGGTGCA-CCTGA---CTGATGCTGAGAAG-GCTG-CTGTTA-ATG-GCCTGTGGGG-AAAGGTGAAC-CCT-GATG-ATGTTGGTGG-CGAGGCCCTGGGCAGGCTGCTGGT-TGTCTACCCTTGGACCCAGAGG-TACTTTGA-T-AGCTTTGGGGA-CCTGT-C-CT-CTG-CCT-CTGCTATCATGGG-TAACCCTAAGGTGAAGGC-CCATGGCAAG-AAG-G-T--GATAAACGCC-TTCA-ATGATGGCCT-G---AAACACTTGGACAACCTCAAGGGCACCTTTG-C-TCATCTGAGTGA-ACT-CCACTGTGACAAGCTGCA-TGTGGATCCTGAGAACTTCAGGCTCCTGGGCAA--TATG-ATTGTGAT-TGTGT--TGG-GCCA-CCAC--CTGGGC-AAGGAATTCA-CCC-CC-TGTGCACAGGCTGCCT-TCCAG-AAGGTGGTGGCTGG-AGTGGC--CAGTGCCCTGG-CTCACAAGTA-CCACTAA---AC-CTCTT-TT-CCTG-CTC--TTGTCT-TT-GTGCAATGG-T-C-AATTGTTCCC-AAG---AGAGC-A-T---CT--GTCAGTTG-T-TGTCAAAATGACA--AAGACCTTTGA--A-----A-ATCTGTCCT-ACTAATAAAAGGCATTTA-CTTTCA-CTGC--', score=513.0, start=0, end=732)\n",
            "ACATTTGCTTCTGACACA-AC-T-GTGTTC-ACT-AGCAAC-CTCA-AA-CAGACACCATGGTGCATC-TGACTCCTGA-G--GAGAAGT-CTGCC-GTTAC-TGC-CCTGTGGGGCAA-GGTGAACG--TGGATGAA-GTTGGTGGT-GAGGCCCTGGGCAGGCTGCTGGTG-GTCTACCCTTGGACCCAGAGGTT-CTTTGAGTC--CTTTGGGGATC-TGTCCACTCCTGA--TGCTG-T-T-ATGGGC-AACCCTAAGGTGAAGGCTC-ATGGCAAGAAAGTGCTCGG-T----GCCTTT-AG-TGATGGCCTGGCTCA--C-CT-GGACAACCTCAAGGGCACCTTTGCCA-CA-CTGAGTGAG-CTGC-ACTGTGACAAGCTGCAC-GTGGATCCTGAGAACTTCAGGCTCCTGGGCAACGT--GC-T-G-G-TCTGTGTGCTGGC-CCATC-ACTT-TGG-CAAAG-AATTCACCCCACCA-GTGCA--GGCTGCCTATC-AGAAAG-TGGTGGCTGGT-GTGGCTA-A-TGCCCTGGCC-CACAAGTATC-ACTAAGCT-CGCT-TTCTTGC-TGTC-CAATT-TCTATTA----AA-GGTTCCT--TTGTTCCCTAAGTCCA-A-CTACTAAACTGGG---G--GATAT-T-A---TGA-AGG--G-CCTT-GAGCATCTGGAT-TCTG-CCTAA-TAA-AAAA--CATTTAT-TTTCAT-TGCAA\n",
            "     ||||||||  ||| |  | |||||  ||| | |||  |||| || |||||||||||||||| | |||   |||| |  ||||||  ||| | ||||  ||  ||||||||| || |||||||   | |||| | ||||||||  |||||||||||||||||||||||  ||||||||||||||||||||| | |||||| |   ||||||||| | ||| | || |||   | ||| | | |||||  ||||||||||||||||| | |||||||| ||| | |  | |    ||| || |  ||||||||| |   |  | || ||||||||||||||||||||||| |  || ||||||||  || | ||||||||||||||||  ||||||||||||||||||||||||||||||||  |  |  | | | | |||||  |||  ||| | ||   ||| | ||| |||||| ||| ||  |||||  |||||||| || || ||| ||||||||||  |||||   | |||||||| | |||||||| | |||||    | || || || | || | |  || ||| ||     || || | |   |||||||| |||   | | | | |   ||  |   |  | | | | |   ||| |    | |||| ||  |     |  |||| ||| | ||| ||||  ||||||  |||||  |||  \n",
            "-----TGCTTCTG--ACATA-GTTGTGTT-GACTCA-CAA-ACTCAGAAACAGACACCATGGTGCA-CCTGA---CTGATGCTGAGAAG-GCTG-CTGTTA-ATG-GCCTGTGGGG-AAAGGTGAAC-CCT-GATG-ATGTTGGTGG-CGAGGCCCTGGGCAGGCTGCTGGT-TGTCTACCCTTGGACCCAGAGG-TACTTTGA-T-AGCTTTGGGGA-CCTGT-C-CT-CTG-CCT-CTGCTATCATGGG-TAACCCTAAGGTGAAGGC-CCATGGCAAG-AAG-G-T--GATAAACGCC-TTCA-ATGATGGCCT-G---AAACACTTGGACAACCTCAAGGGCACCTTTG-C-TCATCTGAGTGA-ACT-CCACTGTGACAAGCTGCA-TGTGGATCCTGAGAACTTCAGGCTCCTGGGCAA--TATG-ATTGTGAT-TGTGT--TGG-GCCA-CCAC--CTGGGC-AAGGAATTCA-CCC-CC-TGTGCACAGGCTGCCT-TCCAG-AAGGTGGTGGCTGG-AGTGGC--CAGTGCCCTGG-CTCACAAGTA-CCACTAA---AC-CTCTT-TT-CCTG-CTC--TTGTCT-TT-GTGCAATGG-T-C-AATTGTTCCC-AAG---AGAGC-A-T---CT--GTCAGTTG-T-TGTCAAAATGACA--AAGACCTTTGA--A-----A-ATCTGTCCT-ACTAATAAAAGGCATTTA-CTTTCA-CTGC--\n",
            "  Score=513\n",
            "\n"
          ]
        }
      ]
    },
    {
      "cell_type": "markdown",
      "source": [
        "### Local\n",
        "\n",
        "Compara qequencias bastante divergentes que apresentam algumas regiões de similaridade"
      ],
      "metadata": {
        "id": "U9QqWrJLMN5m"
      }
    },
    {
      "cell_type": "code",
      "source": [
        "from Bio import SeqIO\n",
        "from Bio.SeqUtils import *\n",
        "from Bio.Seq import *\n",
        "from Bio import pairwise2\n",
        "from Bio.pairwise2 import *\n",
        "\n",
        "human = ''\n",
        "rat = ''\n",
        "\n",
        "for record in SeqIO.parse('/content/HBB-human.fasta', 'fasta'):\n",
        "  human = str(record.seq)\n",
        "for record in SeqIO.parse('/content/HBB-rat.fasta', 'fasta'):\n",
        "  rat = str(record.seq)\n",
        "\n",
        "# The function localxx aligns the sequences with no gap penalties, but if you do want to penalize gaps use localxs instead.\n",
        "\n",
        "print(human)\n",
        "print(rat)\n",
        "#print(help(pairwise2.align.localxx))\n",
        "local_aligment = pairwise2.align.localxx(human, rat) # returns a list with all comparisons\n",
        "print(len(local_aligment))\n",
        "print(local_aligment[0])\n",
        "print(format_alignment(*global_aligment[0]))\n",
        "\n",
        "# Extended gap\n",
        "#print(help(pairwise2.align.localxs))\n",
        "local_aligment = pairwise2.align.localxs(human, rat, -10, -0.1) # returns a list with all comparisons\n",
        "print(len(local_aligment))\n",
        "print(local_aligment[0])\n",
        "print(format_alignment(*global_aligment[0]))"
      ],
      "metadata": {
        "colab": {
          "base_uri": "https://localhost:8080/"
        },
        "id": "iPlAKyNuMQBj",
        "outputId": "453bab51-0175-4255-ed3e-cc4a202fcb2a"
      },
      "execution_count": null,
      "outputs": [
        {
          "output_type": "stream",
          "name": "stdout",
          "text": [
            "ACATTTGCTTCTGACACAACTGTGTTCACTAGCAACCTCAAACAGACACCATGGTGCATCTGACTCCTGAGGAGAAGTCTGCCGTTACTGCCCTGTGGGGCAAGGTGAACGTGGATGAAGTTGGTGGTGAGGCCCTGGGCAGGCTGCTGGTGGTCTACCCTTGGACCCAGAGGTTCTTTGAGTCCTTTGGGGATCTGTCCACTCCTGATGCTGTTATGGGCAACCCTAAGGTGAAGGCTCATGGCAAGAAAGTGCTCGGTGCCTTTAGTGATGGCCTGGCTCACCTGGACAACCTCAAGGGCACCTTTGCCACACTGAGTGAGCTGCACTGTGACAAGCTGCACGTGGATCCTGAGAACTTCAGGCTCCTGGGCAACGTGCTGGTCTGTGTGCTGGCCCATCACTTTGGCAAAGAATTCACCCCACCAGTGCAGGCTGCCTATCAGAAAGTGGTGGCTGGTGTGGCTAATGCCCTGGCCCACAAGTATCACTAAGCTCGCTTTCTTGCTGTCCAATTTCTATTAAAGGTTCCTTTGTTCCCTAAGTCCAACTACTAAACTGGGGGATATTATGAAGGGCCTTGAGCATCTGGATTCTGCCTAATAAAAAACATTTATTTTCATTGCAA\n",
            "TGCTTCTGACATAGTTGTGTTGACTCACAAACTCAGAAACAGACACCATGGTGCACCTGACTGATGCTGAGAAGGCTGCTGTTAATGGCCTGTGGGGAAAGGTGAACCCTGATGATGTTGGTGGCGAGGCCCTGGGCAGGCTGCTGGTTGTCTACCCTTGGACCCAGAGGTACTTTGATAGCTTTGGGGACCTGTCCTCTGCCTCTGCTATCATGGGTAACCCTAAGGTGAAGGCCCATGGCAAGAAGGTGATAAACGCCTTCAATGATGGCCTGAAACACTTGGACAACCTCAAGGGCACCTTTGCTCATCTGAGTGAACTCCACTGTGACAAGCTGCATGTGGATCCTGAGAACTTCAGGCTCCTGGGCAATATGATTGTGATTGTGTTGGGCCACCACCTGGGCAAGGAATTCACCCCCTGTGCACAGGCTGCCTTCCAGAAGGTGGTGGCTGGAGTGGCCAGTGCCCTGGCTCACAAGTACCACTAAACCTCTTTTCCTGCTCTTGTCTTTGTGCAATGGTCAATTGTTCCCAAGAGAGCATCTGTCAGTTGTTGTCAAAATGACAAAGACCTTTGAAAATCTGTCCTACTAATAAAAGGCATTTACTTTCACTGC\n",
            "432\n",
            "Alignment(seqA='ACATTTGCTTCTGACACA-AC-T-GTGTTC-ACT-AGCAAC-CTCA-AA-CAGACACCATGGTGCATC-TGACTCCTGA-G--GAGAAGT-CTGCC-GTTAC-TGC-CCTGTGGGGCAA-GGTGAACG--TGGATGAA-GTTGGTGGT-GAGGCCCTGGGCAGGCTGCTGGTG-GTCTACCCTTGGACCCAGAGGTT-CTTTGAGTC--CTTTGGGGATC-TGTCCACTCCTGA--TGCTG-T-T-ATGGGC-AACCCTAAGGTGAAGGCTC-ATGGCAAGAAAGTGCTCGG-T----GCCTTT-AG-TGATGGCCTGGCTCA--C-CT-GGACAACCTCAAGGGCACCTTTGCCA-CA-CTGAGTGAG-CTGC-ACTGTGACAAGCTGCAC-GTGGATCCTGAGAACTTCAGGCTCCTGGGCAACGT--GC-T-G-G-TCTGTGTGCTGGC-CCATC-ACTT-TGG-CAAAG-AATTCACCCCACCA-GTGCA--GGCTGCCTATC-AGAAAG-TGGTGGCTGGT-GTGGCTA-A-TGCCCTGGCC-CACAAGTATC-ACTAAGCT-CGCT-TTCTTGC-TGTC-CAATT-TCTATTA----AA-GGTTCCT--TTGTTCCCTAAGTCCA-A-CTACTAAACTGGG---G--GATAT-T-A---TGA-AGG--G-CCTT-GAGCATCTGGAT-TCTG-CCTAA-TAA-AAAA--CATTTAT-TTTCAT-TGCAA', seqB='-----TGCTTCTG--ACATA-GTTGTGTT-GACTCA-CAA-ACTCAGAAACAGACACCATGGTGCA-CCTGA---CTGATGCTGAGAAG-GCTG-CTGTTA-ATG-GCCTGTGGGG-AAAGGTGAAC-CCT-GATG-ATGTTGGTGG-CGAGGCCCTGGGCAGGCTGCTGGT-TGTCTACCCTTGGACCCAGAGG-TACTTTGA-T-AGCTTTGGGGA-CCTGT-C-CT-CTG-CCT-CTGCTATCATGGG-TAACCCTAAGGTGAAGGC-CCATGGCAAG-AAG-G-T--GATAAACGCC-TTCA-ATGATGGCCT-G---AAACACTTGGACAACCTCAAGGGCACCTTTG-C-TCATCTGAGTGA-ACT-CCACTGTGACAAGCTGCA-TGTGGATCCTGAGAACTTCAGGCTCCTGGGCAA--TATG-ATTGTGAT-TGTGT--TGG-GCCA-CCAC--CTGGGC-AAGGAATTCA-CCC-CC-TGTGCACAGGCTGCCT-TCCAG-AAGGTGGTGGCTGG-AGTGGC--CAGTGCCCTGG-CTCACAAGTA-CCACTAA---AC-CTCTT-TT-CCTG-CTC--TTGTCT-TT-GTGCAATGG-T-C-AATTGTTCCC-AAG---AGAGC-A-T---CT--GTCAGTTG-T-TGTCAAAATGACA--AAGACCTTTGA--A-----A-ATCTGTCCT-ACTAATAAAAGGCATTTA-CTTTCA-CTGC--', score=513.0, start=5, end=733)\n",
            "ACATTTGCTTCTGACACA-AC-T-GTGTTC-ACT-AGCAAC-CTCA-AA-CAGACACCATGGTGCATC-TGACTCCTGA-G--GAGAAGT-CTGCC-GTTAC-TGC-CCTGTGGGGCAA-GGTGAACG--TGGATGAA-GTTGGTGGT-GAGGCCCTGGGCAGGCTGCTGGTG-GTCTACCCTTGGACCCAGAGGTT-CTTTGAGTC--CTTTGGGGATC-TGTCCACTCCTGA--TGCTG-T-T-ATGGGC-AACCCTAAGGTGAAGGCTC-ATGGCAAGAAAGTGCTCGG-T----GCCTTT-AG-TGATGGCCTGGCTCA--C-CT-GGACAACCTCAAGGGCACCTTTGCCA-CA-CTGAGTGAG-CTGC-ACTGTGACAAGCTGCAC-GTGGATCCTGAGAACTTCAGGCTCCTGGGCAACGT--GC-T-G-G-TCTGTGTGCTGGC-CCATC-ACTT-TGG-CAAAG-AATTCACCCCACCA-GTGCA--GGCTGCCTATC-AGAAAG-TGGTGGCTGGT-GTGGCTA-A-TGCCCTGGCC-CACAAGTATC-ACTAAGCT-CGCT-TTCTTGC-TGTC-CAATT-TCTATTA----AA-GGTTCCT--TTGTTCCCTAAGTCCA-A-CTACTAAACTGGG---G--GATAT-T-A---TGA-AGG--G-CCTT-GAGCATCTGGAT-TCTG-CCTAA-TAA-AAAA--CATTTAT-TTTCAT-TGCAA\n",
            "     ||||||||  ||| |  | |||||  ||| | |||  |||| || |||||||||||||||| | |||   |||| |  ||||||  ||| | ||||  ||  ||||||||| || |||||||   | |||| | ||||||||  |||||||||||||||||||||||  ||||||||||||||||||||| | |||||| |   ||||||||| | ||| | || |||   | ||| | | |||||  ||||||||||||||||| | |||||||| ||| | |  | |    ||| || |  ||||||||| |   |  | || ||||||||||||||||||||||| |  || ||||||||  || | ||||||||||||||||  ||||||||||||||||||||||||||||||||  |  |  | | | | |||||  |||  ||| | ||   ||| | ||| |||||| ||| ||  |||||  |||||||| || || ||| ||||||||||  |||||   | |||||||| | |||||||| | |||||    | || || || | || | |  || ||| ||     || || | |   |||||||| |||   | | | | |   ||  |   |  | | | | |   ||| |    | |||| ||  |     |  |||| ||| | ||| ||||  ||||||  |||||  |||  \n",
            "-----TGCTTCTG--ACATA-GTTGTGTT-GACTCA-CAA-ACTCAGAAACAGACACCATGGTGCA-CCTGA---CTGATGCTGAGAAG-GCTG-CTGTTA-ATG-GCCTGTGGGG-AAAGGTGAAC-CCT-GATG-ATGTTGGTGG-CGAGGCCCTGGGCAGGCTGCTGGT-TGTCTACCCTTGGACCCAGAGG-TACTTTGA-T-AGCTTTGGGGA-CCTGT-C-CT-CTG-CCT-CTGCTATCATGGG-TAACCCTAAGGTGAAGGC-CCATGGCAAG-AAG-G-T--GATAAACGCC-TTCA-ATGATGGCCT-G---AAACACTTGGACAACCTCAAGGGCACCTTTG-C-TCATCTGAGTGA-ACT-CCACTGTGACAAGCTGCA-TGTGGATCCTGAGAACTTCAGGCTCCTGGGCAA--TATG-ATTGTGAT-TGTGT--TGG-GCCA-CCAC--CTGGGC-AAGGAATTCA-CCC-CC-TGTGCACAGGCTGCCT-TCCAG-AAGGTGGTGGCTGG-AGTGGC--CAGTGCCCTGG-CTCACAAGTA-CCACTAA---AC-CTCTT-TT-CCTG-CTC--TTGTCT-TT-GTGCAATGG-T-C-AATTGTTCCC-AAG---AGAGC-A-T---CT--GTCAGTTG-T-TGTCAAAATGACA--AAGACCTTTGA--A-----A-ATCTGTCCT-ACTAATAAAAGGCATTTA-CTTTCA-CTGC--\n",
            "  Score=513\n",
            "\n",
            "2\n",
            "Alignment(seqA='ACATTTGCTTCTGACACAACTGTGTTCACTAGCAACCTC--AAACAGACACCATGGTGCATCTGACTCCTGAGGAGAAGTCTGCCGTTACTGCCCTGTGGGGCAAGGTGAACGTGGATGAAGTTGGTGGTGAGGCCCTGGGCAGGCTGCTGGTGGTCTACCCTTGGACCCAGAGGTTCTTTGAGTCCTTTGGGGATCTGTCCACTCCTGATGCTGTTATGGGCAACCCTAAGGTGAAGGCTCATGGCAAGAAAGTGCTCGGTGCCTTTAGTGATGGCCTGGCTCACCTGGACAACCTCAAGGGCACCTTTGCCACACTGAGTGAGCTGCACTGTGACAAGCTGCACGTGGATCCTGAGAACTTCAGGCTCCTGGGCAACGTGCTGGTCTGTGTGCTGGCCCATCACTTTGGCAAAGAATTCACCCCACCAGTGCAGGCTGCCTATCAGAAAGTGGTGGCTGGTGTGGCTAATGCCCTGGCCCACAAGTATCACTAAGCTCGCTTTCTTGCTGTCCAATTTCTATTAAAGGTTCCTTTGTTCCCTAAGTCCAACTACTAAACTGGGGGATATTATGAAGGGCCTTGAGCATCTGGATTCTGCCTAATAAAAAACATTTATTTTCATTGCAA', seqB='-----TGCTTCTGACATAGTTGTGTTGACTCACAAACTCAGAAACAGACACCATGGTGCACCTGACTGATGCTGAGAAGGCTGCTGTTAATGGCCTGTGGGGAAAGGTGAACCCTGATGATGTTGGTGGCGAGGCCCTGGGCAGGCTGCTGGTTGTCTACCCTTGGACCCAGAGGTACTTTGATAGCTTTGGGGACCTGTCCTCTGCCTCTGCTATCATGGGTAACCCTAAGGTGAAGGCCCATGGCAAGAAGGTGATAAACGCCTTCAATGATGGCCTGAAACACTTGGACAACCTCAAGGGCACCTTTGCTCATCTGAGTGAACTCCACTGTGACAAGCTGCATGTGGATCCTGAGAACTTCAGGCTCCTGGGCAATATGATTGTGATTGTGTTGGGCCACCACCTGGGCAAGGAATTCACCCCCTGTGCACAGGCTGCCTTCCAGAAGGTGGTGGCTGGAGTGGCCAGTGCCCTGGCTCACAAGTACCACTAAACCTCTTTTCCTGCTCTTGTCTTTGTGCAATGGTCAATTGTTCCCAAGAGAGCATCTGTCAGTTGTTGTCAAAATGACAAAGACCTTTGAAAATCTG---TCCTACTAATAAAAGGCATTTACTTTCACTGC--', score=451.69999999999993, start=5, end=628)\n",
            "ACATTTGCTTCTGACACA-AC-T-GTGTTC-ACT-AGCAAC-CTCA-AA-CAGACACCATGGTGCATC-TGACTCCTGA-G--GAGAAGT-CTGCC-GTTAC-TGC-CCTGTGGGGCAA-GGTGAACG--TGGATGAA-GTTGGTGGT-GAGGCCCTGGGCAGGCTGCTGGTG-GTCTACCCTTGGACCCAGAGGTT-CTTTGAGTC--CTTTGGGGATC-TGTCCACTCCTGA--TGCTG-T-T-ATGGGC-AACCCTAAGGTGAAGGCTC-ATGGCAAGAAAGTGCTCGG-T----GCCTTT-AG-TGATGGCCTGGCTCA--C-CT-GGACAACCTCAAGGGCACCTTTGCCA-CA-CTGAGTGAG-CTGC-ACTGTGACAAGCTGCAC-GTGGATCCTGAGAACTTCAGGCTCCTGGGCAACGT--GC-T-G-G-TCTGTGTGCTGGC-CCATC-ACTT-TGG-CAAAG-AATTCACCCCACCA-GTGCA--GGCTGCCTATC-AGAAAG-TGGTGGCTGGT-GTGGCTA-A-TGCCCTGGCC-CACAAGTATC-ACTAAGCT-CGCT-TTCTTGC-TGTC-CAATT-TCTATTA----AA-GGTTCCT--TTGTTCCCTAAGTCCA-A-CTACTAAACTGGG---G--GATAT-T-A---TGA-AGG--G-CCTT-GAGCATCTGGAT-TCTG-CCTAA-TAA-AAAA--CATTTAT-TTTCAT-TGCAA\n",
            "     ||||||||  ||| |  | |||||  ||| | |||  |||| || |||||||||||||||| | |||   |||| |  ||||||  ||| | ||||  ||  ||||||||| || |||||||   | |||| | ||||||||  |||||||||||||||||||||||  ||||||||||||||||||||| | |||||| |   ||||||||| | ||| | || |||   | ||| | | |||||  ||||||||||||||||| | |||||||| ||| | |  | |    ||| || |  ||||||||| |   |  | || ||||||||||||||||||||||| |  || ||||||||  || | ||||||||||||||||  ||||||||||||||||||||||||||||||||  |  |  | | | | |||||  |||  ||| | ||   ||| | ||| |||||| ||| ||  |||||  |||||||| || || ||| ||||||||||  |||||   | |||||||| | |||||||| | |||||    | || || || | || | |  || ||| ||     || || | |   |||||||| |||   | | | | |   ||  |   |  | | | | |   ||| |    | |||| ||  |     |  |||| ||| | ||| ||||  ||||||  |||||  |||  \n",
            "-----TGCTTCTG--ACATA-GTTGTGTT-GACTCA-CAA-ACTCAGAAACAGACACCATGGTGCA-CCTGA---CTGATGCTGAGAAG-GCTG-CTGTTA-ATG-GCCTGTGGGG-AAAGGTGAAC-CCT-GATG-ATGTTGGTGG-CGAGGCCCTGGGCAGGCTGCTGGT-TGTCTACCCTTGGACCCAGAGG-TACTTTGA-T-AGCTTTGGGGA-CCTGT-C-CT-CTG-CCT-CTGCTATCATGGG-TAACCCTAAGGTGAAGGC-CCATGGCAAG-AAG-G-T--GATAAACGCC-TTCA-ATGATGGCCT-G---AAACACTTGGACAACCTCAAGGGCACCTTTG-C-TCATCTGAGTGA-ACT-CCACTGTGACAAGCTGCA-TGTGGATCCTGAGAACTTCAGGCTCCTGGGCAA--TATG-ATTGTGAT-TGTGT--TGG-GCCA-CCAC--CTGGGC-AAGGAATTCA-CCC-CC-TGTGCACAGGCTGCCT-TCCAG-AAGGTGGTGGCTGG-AGTGGC--CAGTGCCCTGG-CTCACAAGTA-CCACTAA---AC-CTCTT-TT-CCTG-CTC--TTGTCT-TT-GTGCAATGG-T-C-AATTGTTCCC-AAG---AGAGC-A-T---CT--GTCAGTTG-T-TGTCAAAATGACA--AAGACCTTTGA--A-----A-ATCTGTCCT-ACTAATAAAAGGCATTTA-CTTTCA-CTGC--\n",
            "  Score=513\n",
            "\n"
          ]
        }
      ]
    },
    {
      "cell_type": "code",
      "source": [
        "local_no_penalties = pairwise2.align.localxx(\"PREFIX\", \"PREFIXPART_LOOONGSUFFIXPART\")\n",
        "for res in local_no_penalties:\n",
        "  print(res)\n",
        "local_with_penalties = pairwise2.align.localxs(\"PREFIX\", \"PREFIXPART_LOOONGSUFFIXPART\", -1, -1)\n",
        "for res in local_with_penalties: \n",
        "  print(res)"
      ],
      "metadata": {
        "colab": {
          "base_uri": "https://localhost:8080/"
        },
        "id": "NnJlGr5HTUNc",
        "outputId": "077c1506-0a7a-4a0f-99a9-0cb62dcf536b"
      },
      "execution_count": null,
      "outputs": [
        {
          "output_type": "stream",
          "name": "stdout",
          "text": [
            "Alignment(seqA='PREFI-----------------X----', seqB='PREFIXPART_LOOONGSUFFIXPART', score=6.0, start=0, end=23)\n",
            "Alignment(seqA='PREFIX---------------------', seqB='PREFIXPART_LOOONGSUFFIXPART', score=6.0, start=0, end=6)\n"
          ]
        }
      ]
    },
    {
      "cell_type": "markdown",
      "source": [
        "### Multiple"
      ],
      "metadata": {
        "id": "29dRLL9KMWU6"
      }
    },
    {
      "cell_type": "markdown",
      "source": [
        "#### Clustal"
      ],
      "metadata": {
        "id": "LVJ8dcUrGRCe"
      }
    },
    {
      "cell_type": "code",
      "source": [
        "!wget http://www.clustal.org/omega/clustal-omega-1.2.4.tar.gz"
      ],
      "metadata": {
        "colab": {
          "base_uri": "https://localhost:8080/"
        },
        "id": "PEnIuEm9CKlz",
        "outputId": "0d24f2c6-a4d7-49f4-8433-2c5224d4811a"
      },
      "execution_count": null,
      "outputs": [
        {
          "output_type": "stream",
          "name": "stdout",
          "text": [
            "--2023-02-21 22:12:25--  http://www.clustal.org/omega/clustal-omega-1.2.4.tar.gz\n",
            "Resolving www.clustal.org (www.clustal.org)... 137.43.93.206\n",
            "Connecting to www.clustal.org (www.clustal.org)|137.43.93.206|:80... connected.\n",
            "HTTP request sent, awaiting response... 200 OK\n",
            "Length: 1170516 (1.1M) [application/x-gzip]\n",
            "Saving to: ‘clustal-omega-1.2.4.tar.gz’\n",
            "\n",
            "clustal-omega-1.2.4 100%[===================>]   1.12M  2.07MB/s    in 0.5s    \n",
            "\n",
            "2023-02-21 22:12:26 (2.07 MB/s) - ‘clustal-omega-1.2.4.tar.gz’ saved [1170516/1170516]\n",
            "\n"
          ]
        }
      ]
    },
    {
      "cell_type": "code",
      "source": [
        "!tar -xf clustal-omega-1.2.4.tar.gz"
      ],
      "metadata": {
        "id": "9p62N_VUCjEV"
      },
      "execution_count": null,
      "outputs": []
    },
    {
      "cell_type": "code",
      "source": [
        "# clustal dependency\n",
        "!wget http://prdownloads.sourceforge.net/argtable/argtable2-13.tar.gz"
      ],
      "metadata": {
        "colab": {
          "base_uri": "https://localhost:8080/"
        },
        "id": "9JvF4lAnEDU8",
        "outputId": "5af953ff-e969-4023-f9c7-21a761fe8749"
      },
      "execution_count": null,
      "outputs": [
        {
          "output_type": "stream",
          "name": "stdout",
          "text": [
            "--2023-02-21 22:20:30--  http://prdownloads.sourceforge.net/argtable/argtable2-13.tar.gz\n",
            "Resolving prdownloads.sourceforge.net (prdownloads.sourceforge.net)... 204.68.111.105\n",
            "Connecting to prdownloads.sourceforge.net (prdownloads.sourceforge.net)|204.68.111.105|:80... connected.\n",
            "HTTP request sent, awaiting response... 301 Moved Permanently\n",
            "Location: http://downloads.sourceforge.net/project/argtable/argtable/argtable-2.13/argtable2-13.tar.gz [following]\n",
            "--2023-02-21 22:20:31--  http://downloads.sourceforge.net/project/argtable/argtable/argtable-2.13/argtable2-13.tar.gz\n",
            "Resolving downloads.sourceforge.net (downloads.sourceforge.net)... 204.68.111.105\n",
            "Reusing existing connection to prdownloads.sourceforge.net:80.\n",
            "HTTP request sent, awaiting response... 302 Found\n",
            "Location: http://pilotfiber.dl.sourceforge.net/project/argtable/argtable/argtable-2.13/argtable2-13.tar.gz [following]\n",
            "--2023-02-21 22:20:31--  http://pilotfiber.dl.sourceforge.net/project/argtable/argtable/argtable-2.13/argtable2-13.tar.gz\n",
            "Resolving pilotfiber.dl.sourceforge.net (pilotfiber.dl.sourceforge.net)... 69.12.26.12\n",
            "Connecting to pilotfiber.dl.sourceforge.net (pilotfiber.dl.sourceforge.net)|69.12.26.12|:80... connected.\n",
            "HTTP request sent, awaiting response... 200 OK\n",
            "Length: 3326444 (3.2M) [application/x-gzip]\n",
            "Saving to: ‘argtable2-13.tar.gz’\n",
            "\n",
            "argtable2-13.tar.gz 100%[===================>]   3.17M  12.8MB/s    in 0.2s    \n",
            "\n",
            "2023-02-21 22:20:31 (12.8 MB/s) - ‘argtable2-13.tar.gz’ saved [3326444/3326444]\n",
            "\n"
          ]
        }
      ]
    },
    {
      "cell_type": "code",
      "source": [
        "!tar -xf argtable2-13.tar.gz"
      ],
      "metadata": {
        "id": "vj90wFxZEMrl"
      },
      "execution_count": null,
      "outputs": []
    },
    {
      "cell_type": "code",
      "source": [
        "%%bash\n",
        "cd argtable2-13\n",
        "./configure\n",
        "make\n",
        "sudo make install\n",
        "make clean"
      ],
      "metadata": {
        "colab": {
          "base_uri": "https://localhost:8080/"
        },
        "id": "Iwsf23pCESgE",
        "outputId": "a6bb6062-39b4-482e-a952-d6cf0e9bfa3a"
      },
      "execution_count": null,
      "outputs": [
        {
          "output_type": "stream",
          "name": "stdout",
          "text": [
            "checking build system type... x86_64-unknown-linux-gnu\n",
            "checking host system type... x86_64-unknown-linux-gnu\n",
            "checking target system type... x86_64-unknown-linux-gnu\n",
            "checking for a BSD-compatible install... /usr/bin/install -c\n",
            "checking whether build environment is sane... yes\n",
            "checking for a thread-safe mkdir -p... /usr/bin/mkdir -p\n",
            "checking for gawk... no\n",
            "checking for mawk... mawk\n",
            "checking whether make sets $(MAKE)... yes\n",
            "checking for gcc... gcc\n",
            "checking whether the C compiler works... yes\n",
            "checking for C compiler default output file name... a.out\n",
            "checking for suffix of executables... \n",
            "checking whether we are cross compiling... no\n",
            "checking for suffix of object files... o\n",
            "checking whether we are using the GNU C compiler... yes\n",
            "checking whether gcc accepts -g... yes\n",
            "checking for gcc option to accept ISO C89... none needed\n",
            "checking for style of include used by make... GNU\n",
            "checking dependency style of gcc... gcc3\n",
            "checking for a sed that does not truncate output... /usr/bin/sed\n",
            "checking for grep that handles long lines and -e... /usr/bin/grep\n",
            "checking for egrep... /usr/bin/grep -E\n",
            "checking for fgrep... /usr/bin/grep -F\n",
            "checking for ld used by gcc... /usr/bin/ld\n",
            "checking if the linker (/usr/bin/ld) is GNU ld... yes\n",
            "checking for BSD- or MS-compatible name lister (nm)... /usr/bin/nm -B\n",
            "checking the name lister (/usr/bin/nm -B) interface... BSD nm\n",
            "checking whether ln -s works... yes\n",
            "checking the maximum length of command line arguments... 1572864\n",
            "checking whether the shell understands some XSI constructs... yes\n",
            "checking whether the shell understands \"+=\"... yes\n",
            "checking for /usr/bin/ld option to reload object files... -r\n",
            "checking for objdump... objdump\n",
            "checking how to recognize dependent libraries... pass_all\n",
            "checking for ar... ar\n",
            "checking for strip... strip\n",
            "checking for ranlib... ranlib\n",
            "checking command to parse /usr/bin/nm -B output from gcc object... ok\n",
            "checking how to run the C preprocessor... gcc -E\n",
            "checking for ANSI C header files... yes\n",
            "checking for sys/types.h... yes\n",
            "checking for sys/stat.h... yes\n",
            "checking for stdlib.h... yes\n",
            "checking for string.h... yes\n",
            "checking for memory.h... yes\n",
            "checking for strings.h... yes\n",
            "checking for inttypes.h... yes\n",
            "checking for stdint.h... yes\n",
            "checking for unistd.h... yes\n",
            "checking for dlfcn.h... yes\n",
            "checking for objdir... .libs\n",
            "checking if gcc supports -fno-rtti -fno-exceptions... no\n",
            "checking for gcc option to produce PIC... -fPIC -DPIC\n",
            "checking if gcc PIC flag -fPIC -DPIC works... yes\n",
            "checking if gcc static flag -static works... yes\n",
            "checking if gcc supports -c -o file.o... yes\n",
            "checking if gcc supports -c -o file.o... (cached) yes\n",
            "checking whether the gcc linker (/usr/bin/ld -m elf_x86_64) supports shared libraries... yes\n",
            "checking whether -lc should be explicitly linked in... no\n",
            "checking dynamic linker characteristics... GNU/Linux ld.so\n",
            "checking how to hardcode library paths into programs... immediate\n",
            "checking whether stripping libraries is possible... yes\n",
            "checking if libtool supports shared libraries... yes\n",
            "checking whether to build shared libraries... yes\n",
            "checking whether to build static libraries... yes\n",
            "checking whether make sets $(MAKE)... (cached) yes\n",
            "checking for ANSI C header files... (cached) yes\n",
            "checking libintl.h usability... yes\n",
            "checking libintl.h presence... yes\n",
            "checking for libintl.h... yes\n",
            "checking for stdlib.h... (cached) yes\n",
            "checking for string.h... (cached) yes\n",
            "checking for strings.h... (cached) yes\n",
            "checking for unistd.h... (cached) yes\n",
            "checking getopt.h usability... yes\n",
            "checking getopt.h presence... yes\n",
            "checking for getopt.h... yes\n",
            "checking for an ANSI C-conforming const... yes\n",
            "checking for size_t... yes\n",
            "checking whether struct tm is in sys/time.h or time.h... time.h\n",
            "checking for strftime... yes\n",
            "checking for working strtod... yes\n",
            "checking for bzero... yes\n",
            "checking for strchr... yes\n",
            "checking for strcspn... yes\n",
            "checking for strrchr... yes\n",
            "checking for strtol... yes\n",
            "checking for getopt_long... yes\n",
            "checking for regcomp... yes\n",
            "checking for strptime... yes\n",
            "configure: creating ./config.status\n",
            "config.status: creating Makefile\n",
            "config.status: creating example/Makefile\n",
            "config.status: creating src/Makefile\n",
            "config.status: creating doc/Makefile\n",
            "config.status: creating doc/argtable2.3\n",
            "config.status: creating doc/argtable2.html\n",
            "config.status: creating tests/Makefile\n",
            "config.status: creating argtable2.pc\n",
            "config.status: creating argtable2-uninstalled.pc\n",
            "config.status: creating src/config.h\n",
            "config.status: executing depfiles commands\n",
            "config.status: executing libtool commands\n",
            "Making all in src\n",
            "make[1]: Entering directory '/content/argtable2-13/src'\n",
            "make  all-am\n",
            "make[2]: Entering directory '/content/argtable2-13/src'\n",
            "/bin/bash ../libtool --tag=CC   --mode=compile gcc -DHAVE_CONFIG_H -I.     -g -O2 -MT argtable2.lo -MD -MP -MF .deps/argtable2.Tpo -c -o argtable2.lo argtable2.c\n",
            "libtool: compile:  gcc -DHAVE_CONFIG_H -I. -g -O2 -MT argtable2.lo -MD -MP -MF .deps/argtable2.Tpo -c argtable2.c  -fPIC -DPIC -o .libs/argtable2.o\n",
            "libtool: compile:  gcc -DHAVE_CONFIG_H -I. -g -O2 -MT argtable2.lo -MD -MP -MF .deps/argtable2.Tpo -c argtable2.c -o argtable2.o >/dev/null 2>&1\n",
            "mv -f .deps/argtable2.Tpo .deps/argtable2.Plo\n",
            "/bin/bash ../libtool --tag=CC   --mode=compile gcc -DHAVE_CONFIG_H -I.     -g -O2 -MT arg_end.lo -MD -MP -MF .deps/arg_end.Tpo -c -o arg_end.lo arg_end.c\n",
            "libtool: compile:  gcc -DHAVE_CONFIG_H -I. -g -O2 -MT arg_end.lo -MD -MP -MF .deps/arg_end.Tpo -c arg_end.c  -fPIC -DPIC -o .libs/arg_end.o\n",
            "libtool: compile:  gcc -DHAVE_CONFIG_H -I. -g -O2 -MT arg_end.lo -MD -MP -MF .deps/arg_end.Tpo -c arg_end.c -o arg_end.o >/dev/null 2>&1\n",
            "mv -f .deps/arg_end.Tpo .deps/arg_end.Plo\n",
            "/bin/bash ../libtool --tag=CC   --mode=compile gcc -DHAVE_CONFIG_H -I.     -g -O2 -MT arg_rem.lo -MD -MP -MF .deps/arg_rem.Tpo -c -o arg_rem.lo arg_rem.c\n",
            "libtool: compile:  gcc -DHAVE_CONFIG_H -I. -g -O2 -MT arg_rem.lo -MD -MP -MF .deps/arg_rem.Tpo -c arg_rem.c  -fPIC -DPIC -o .libs/arg_rem.o\n",
            "libtool: compile:  gcc -DHAVE_CONFIG_H -I. -g -O2 -MT arg_rem.lo -MD -MP -MF .deps/arg_rem.Tpo -c arg_rem.c -o arg_rem.o >/dev/null 2>&1\n",
            "mv -f .deps/arg_rem.Tpo .deps/arg_rem.Plo\n",
            "/bin/bash ../libtool --tag=CC   --mode=compile gcc -DHAVE_CONFIG_H -I.     -g -O2 -MT arg_lit.lo -MD -MP -MF .deps/arg_lit.Tpo -c -o arg_lit.lo arg_lit.c\n",
            "libtool: compile:  gcc -DHAVE_CONFIG_H -I. -g -O2 -MT arg_lit.lo -MD -MP -MF .deps/arg_lit.Tpo -c arg_lit.c  -fPIC -DPIC -o .libs/arg_lit.o\n",
            "libtool: compile:  gcc -DHAVE_CONFIG_H -I. -g -O2 -MT arg_lit.lo -MD -MP -MF .deps/arg_lit.Tpo -c arg_lit.c -o arg_lit.o >/dev/null 2>&1\n",
            "mv -f .deps/arg_lit.Tpo .deps/arg_lit.Plo\n",
            "/bin/bash ../libtool --tag=CC   --mode=compile gcc -DHAVE_CONFIG_H -I.     -g -O2 -MT arg_int.lo -MD -MP -MF .deps/arg_int.Tpo -c -o arg_int.lo arg_int.c\n",
            "libtool: compile:  gcc -DHAVE_CONFIG_H -I. -g -O2 -MT arg_int.lo -MD -MP -MF .deps/arg_int.Tpo -c arg_int.c  -fPIC -DPIC -o .libs/arg_int.o\n",
            "libtool: compile:  gcc -DHAVE_CONFIG_H -I. -g -O2 -MT arg_int.lo -MD -MP -MF .deps/arg_int.Tpo -c arg_int.c -o arg_int.o >/dev/null 2>&1\n",
            "mv -f .deps/arg_int.Tpo .deps/arg_int.Plo\n",
            "/bin/bash ../libtool --tag=CC   --mode=compile gcc -DHAVE_CONFIG_H -I.     -g -O2 -MT arg_dbl.lo -MD -MP -MF .deps/arg_dbl.Tpo -c -o arg_dbl.lo arg_dbl.c\n",
            "libtool: compile:  gcc -DHAVE_CONFIG_H -I. -g -O2 -MT arg_dbl.lo -MD -MP -MF .deps/arg_dbl.Tpo -c arg_dbl.c  -fPIC -DPIC -o .libs/arg_dbl.o\n",
            "libtool: compile:  gcc -DHAVE_CONFIG_H -I. -g -O2 -MT arg_dbl.lo -MD -MP -MF .deps/arg_dbl.Tpo -c arg_dbl.c -o arg_dbl.o >/dev/null 2>&1\n",
            "mv -f .deps/arg_dbl.Tpo .deps/arg_dbl.Plo\n",
            "/bin/bash ../libtool --tag=CC   --mode=compile gcc -DHAVE_CONFIG_H -I.     -g -O2 -MT arg_str.lo -MD -MP -MF .deps/arg_str.Tpo -c -o arg_str.lo arg_str.c\n",
            "libtool: compile:  gcc -DHAVE_CONFIG_H -I. -g -O2 -MT arg_str.lo -MD -MP -MF .deps/arg_str.Tpo -c arg_str.c  -fPIC -DPIC -o .libs/arg_str.o\n",
            "libtool: compile:  gcc -DHAVE_CONFIG_H -I. -g -O2 -MT arg_str.lo -MD -MP -MF .deps/arg_str.Tpo -c arg_str.c -o arg_str.o >/dev/null 2>&1\n",
            "mv -f .deps/arg_str.Tpo .deps/arg_str.Plo\n",
            "/bin/bash ../libtool --tag=CC   --mode=compile gcc -DHAVE_CONFIG_H -I.     -g -O2 -MT arg_file.lo -MD -MP -MF .deps/arg_file.Tpo -c -o arg_file.lo arg_file.c\n",
            "libtool: compile:  gcc -DHAVE_CONFIG_H -I. -g -O2 -MT arg_file.lo -MD -MP -MF .deps/arg_file.Tpo -c arg_file.c  -fPIC -DPIC -o .libs/arg_file.o\n",
            "libtool: compile:  gcc -DHAVE_CONFIG_H -I. -g -O2 -MT arg_file.lo -MD -MP -MF .deps/arg_file.Tpo -c arg_file.c -o arg_file.o >/dev/null 2>&1\n",
            "mv -f .deps/arg_file.Tpo .deps/arg_file.Plo\n",
            "/bin/bash ../libtool --tag=CC   --mode=compile gcc -DHAVE_CONFIG_H -I.     -g -O2 -MT arg_rex.lo -MD -MP -MF .deps/arg_rex.Tpo -c -o arg_rex.lo arg_rex.c\n",
            "libtool: compile:  gcc -DHAVE_CONFIG_H -I. -g -O2 -MT arg_rex.lo -MD -MP -MF .deps/arg_rex.Tpo -c arg_rex.c  -fPIC -DPIC -o .libs/arg_rex.o\n",
            "libtool: compile:  gcc -DHAVE_CONFIG_H -I. -g -O2 -MT arg_rex.lo -MD -MP -MF .deps/arg_rex.Tpo -c arg_rex.c -o arg_rex.o >/dev/null 2>&1\n",
            "mv -f .deps/arg_rex.Tpo .deps/arg_rex.Plo\n",
            "/bin/bash ../libtool --tag=CC   --mode=compile gcc -DHAVE_CONFIG_H -I.     -g -O2 -MT arg_date.lo -MD -MP -MF .deps/arg_date.Tpo -c -o arg_date.lo arg_date.c\n",
            "libtool: compile:  gcc -DHAVE_CONFIG_H -I. -g -O2 -MT arg_date.lo -MD -MP -MF .deps/arg_date.Tpo -c arg_date.c  -fPIC -DPIC -o .libs/arg_date.o\n",
            "libtool: compile:  gcc -DHAVE_CONFIG_H -I. -g -O2 -MT arg_date.lo -MD -MP -MF .deps/arg_date.Tpo -c arg_date.c -o arg_date.o >/dev/null 2>&1\n",
            "mv -f .deps/arg_date.Tpo .deps/arg_date.Plo\n",
            "/bin/bash ../libtool --tag=CC   --mode=link gcc  -g -O2 -version-info 1:8:1  -o libargtable2.la -rpath /usr/local/lib argtable2.lo arg_end.lo arg_rem.lo arg_lit.lo arg_int.lo arg_dbl.lo arg_str.lo arg_file.lo  arg_rex.lo arg_date.lo  \n",
            "libtool: link: gcc -shared  .libs/argtable2.o .libs/arg_end.o .libs/arg_rem.o .libs/arg_lit.o .libs/arg_int.o .libs/arg_dbl.o .libs/arg_str.o .libs/arg_file.o .libs/arg_rex.o .libs/arg_date.o      -Wl,-soname -Wl,libargtable2.so.0 -o .libs/libargtable2.so.0.1.8\n",
            "libtool: link: (cd \".libs\" && rm -f \"libargtable2.so.0\" && ln -s \"libargtable2.so.0.1.8\" \"libargtable2.so.0\")\n",
            "libtool: link: (cd \".libs\" && rm -f \"libargtable2.so\" && ln -s \"libargtable2.so.0.1.8\" \"libargtable2.so\")\n",
            "libtool: link: ar cru .libs/libargtable2.a  argtable2.o arg_end.o arg_rem.o arg_lit.o arg_int.o arg_dbl.o arg_str.o arg_file.o arg_rex.o arg_date.o\n",
            "libtool: link: ranlib .libs/libargtable2.a\n",
            "libtool: link: ( cd \".libs\" && rm -f \"libargtable2.la\" && ln -s \"../libargtable2.la\" \"libargtable2.la\" )\n",
            "make[2]: Leaving directory '/content/argtable2-13/src'\n",
            "make[1]: Leaving directory '/content/argtable2-13/src'\n",
            "Making all in tests\n",
            "make[1]: Entering directory '/content/argtable2-13/tests'\n",
            "make[1]: Nothing to be done for 'all'.\n",
            "make[1]: Leaving directory '/content/argtable2-13/tests'\n",
            "Making all in doc\n",
            "make[1]: Entering directory '/content/argtable2-13/doc'\n",
            "cp argtable2.3 argtable.3\t\n",
            "make[1]: Leaving directory '/content/argtable2-13/doc'\n",
            "make[1]: Entering directory '/content/argtable2-13'\n",
            "make[1]: Nothing to be done for 'all-am'.\n",
            "make[1]: Leaving directory '/content/argtable2-13'\n",
            "Making install in src\n",
            "make[1]: Entering directory '/content/argtable2-13/src'\n",
            "make[2]: Entering directory '/content/argtable2-13/src'\n",
            "test -z \"/usr/local/lib\" || /usr/bin/mkdir -p \"/usr/local/lib\"\n",
            " /bin/bash ../libtool   --mode=install /usr/bin/install -c  'libargtable2.la' '/usr/local/lib/libargtable2.la'\n",
            "libtool: install: /usr/bin/install -c .libs/libargtable2.so.0.1.8 /usr/local/lib/libargtable2.so.0.1.8\n",
            "libtool: install: (cd /usr/local/lib && { ln -s -f libargtable2.so.0.1.8 libargtable2.so.0 || { rm -f libargtable2.so.0 && ln -s libargtable2.so.0.1.8 libargtable2.so.0; }; })\n",
            "libtool: install: (cd /usr/local/lib && { ln -s -f libargtable2.so.0.1.8 libargtable2.so || { rm -f libargtable2.so && ln -s libargtable2.so.0.1.8 libargtable2.so; }; })\n",
            "libtool: install: /usr/bin/install -c .libs/libargtable2.lai /usr/local/lib/libargtable2.la\n",
            "libtool: install: /usr/bin/install -c .libs/libargtable2.a /usr/local/lib/libargtable2.a\n",
            "libtool: install: chmod 644 /usr/local/lib/libargtable2.a\n",
            "libtool: install: ranlib /usr/local/lib/libargtable2.a\n",
            "libtool: finish: PATH=\"/usr/local/sbin:/usr/local/bin:/usr/sbin:/usr/bin:/sbin:/bin:/snap/bin:/sbin\" ldconfig -n /usr/local/lib\n",
            "----------------------------------------------------------------------\n",
            "Libraries have been installed in:\n",
            "   /usr/local/lib\n",
            "\n",
            "If you ever happen to want to link against installed libraries\n",
            "in a given directory, LIBDIR, you must either use libtool, and\n",
            "specify the full pathname of the library, or use the `-LLIBDIR'\n",
            "flag during linking and do at least one of the following:\n",
            "   - add LIBDIR to the `LD_LIBRARY_PATH' environment variable\n",
            "     during execution\n",
            "   - add LIBDIR to the `LD_RUN_PATH' environment variable\n",
            "     during linking\n",
            "   - use the `-Wl,-rpath -Wl,LIBDIR' linker flag\n",
            "   - have your system administrator add LIBDIR to `/etc/ld.so.conf'\n",
            "\n",
            "See any operating system documentation about shared libraries for\n",
            "more information, such as the ld(1) and ld.so(8) manual pages.\n",
            "----------------------------------------------------------------------\n",
            "test -z \"/usr/local/include\" || /usr/bin/mkdir -p \"/usr/local/include\"\n",
            " /usr/bin/install -c -m 644 'argtable2.h' '/usr/local/include/argtable2.h'\n",
            "make[2]: Leaving directory '/content/argtable2-13/src'\n",
            "make[1]: Leaving directory '/content/argtable2-13/src'\n",
            "Making install in tests\n",
            "make[1]: Entering directory '/content/argtable2-13/tests'\n",
            "make[2]: Entering directory '/content/argtable2-13/tests'\n",
            "make[2]: Nothing to be done for 'install-exec-am'.\n",
            "make[2]: Nothing to be done for 'install-data-am'.\n",
            "make[2]: Leaving directory '/content/argtable2-13/tests'\n",
            "make[1]: Leaving directory '/content/argtable2-13/tests'\n",
            "Making install in doc\n",
            "make[1]: Entering directory '/content/argtable2-13/doc'\n",
            "make[2]: Entering directory '/content/argtable2-13/doc'\n",
            "make[2]: Nothing to be done for 'install-exec-am'.\n",
            "test -z \"/usr/local/share/doc/argtable2\" || /usr/bin/mkdir -p \"/usr/local/share/doc/argtable2\"\n",
            " /usr/bin/install -c -m 644 'argtable2-advanced.html' '/usr/local/share/doc/argtable2/argtable2-advanced.html'\n",
            " /usr/bin/install -c -m 644 'argtable2-advanced.pdf' '/usr/local/share/doc/argtable2/argtable2-advanced.pdf'\n",
            " /usr/bin/install -c -m 644 'argtable2-advanced.ps' '/usr/local/share/doc/argtable2/argtable2-advanced.ps'\n",
            " /usr/bin/install -c -m 644 'argtable2-intro.html' '/usr/local/share/doc/argtable2/argtable2-intro.html'\n",
            " /usr/bin/install -c -m 644 'argtable2-intro.pdf' '/usr/local/share/doc/argtable2/argtable2-intro.pdf'\n",
            " /usr/bin/install -c -m 644 'argtable2-intro.ps' '/usr/local/share/doc/argtable2/argtable2-intro.ps'\n",
            " /usr/bin/install -c -m 644 'argtable2.html' '/usr/local/share/doc/argtable2/argtable2.html'\n",
            " /usr/bin/install -c -m 644 'argtable2.pdf' '/usr/local/share/doc/argtable2/argtable2.pdf'\n",
            " /usr/bin/install -c -m 644 'argtable2.ps' '/usr/local/share/doc/argtable2/argtable2.ps'\n",
            " /usr/bin/install -c -m 644 'argxxx.gif' '/usr/local/share/doc/argtable2/argxxx.gif'\n",
            " /usr/bin/install -c -m 644 'arg_int.gif' '/usr/local/share/doc/argtable2/arg_int.gif'\n",
            "test -z \"/usr/local/share/man/man3\" || /usr/bin/mkdir -p \"/usr/local/share/man/man3\"\n",
            " /usr/bin/install -c -m 644 'argtable2.3' '/usr/local/share/man/man3/argtable2.3'\n",
            " /usr/bin/install -c -m 644 'argtable.3' '/usr/local/share/man/man3/argtable.3'\n",
            "make[2]: Leaving directory '/content/argtable2-13/doc'\n",
            "make[1]: Leaving directory '/content/argtable2-13/doc'\n",
            "make[1]: Entering directory '/content/argtable2-13'\n",
            "make[2]: Entering directory '/content/argtable2-13'\n",
            "make[2]: Nothing to be done for 'install-exec-am'.\n",
            "test -z \"/usr/local/share/doc/argtable2/example\" || /usr/bin/mkdir -p \"/usr/local/share/doc/argtable2/example\"\n",
            " /usr/bin/install -c -m 644 'example/Makefile' '/usr/local/share/doc/argtable2/example/Makefile'\n",
            " /usr/bin/install -c -m 644 'example/README.txt' '/usr/local/share/doc/argtable2/example/README.txt'\n",
            " /usr/bin/install -c -m 644 'example/argcustom.c' '/usr/local/share/doc/argtable2/example/argcustom.c'\n",
            " /usr/bin/install -c -m 644 'example/argxxx.c' '/usr/local/share/doc/argtable2/example/argxxx.c'\n",
            " /usr/bin/install -c -m 644 'example/argxxx.h' '/usr/local/share/doc/argtable2/example/argxxx.h'\n",
            " /usr/bin/install -c -m 644 'example/callbacks.c' '/usr/local/share/doc/argtable2/example/callbacks.c'\n",
            " /usr/bin/install -c -m 644 'example/echo.c' '/usr/local/share/doc/argtable2/example/echo.c'\n",
            " /usr/bin/install -c -m 644 'example/hasoptvalue.c' '/usr/local/share/doc/argtable2/example/hasoptvalue.c'\n",
            " /usr/bin/install -c -m 644 'example/ls.c' '/usr/local/share/doc/argtable2/example/ls.c'\n",
            " /usr/bin/install -c -m 644 'example/multisyntax.c' '/usr/local/share/doc/argtable2/example/multisyntax.c'\n",
            " /usr/bin/install -c -m 644 'example/mv.c' '/usr/local/share/doc/argtable2/example/mv.c'\n",
            " /usr/bin/install -c -m 644 'example/myprog.c' '/usr/local/share/doc/argtable2/example/myprog.c'\n",
            " /usr/bin/install -c -m 644 'example/myprog_C89.c' '/usr/local/share/doc/argtable2/example/myprog_C89.c'\n",
            " /usr/bin/install -c -m 644 'example/rm.c' '/usr/local/share/doc/argtable2/example/rm.c'\n",
            " /usr/bin/install -c -m 644 'example/uname.c' '/usr/local/share/doc/argtable2/example/uname.c'\n",
            "test -z \"/usr/local/lib/pkgconfig\" || /usr/bin/mkdir -p \"/usr/local/lib/pkgconfig\"\n",
            " /usr/bin/install -c -m 644 'argtable2.pc' '/usr/local/lib/pkgconfig/argtable2.pc'\n",
            "make[2]: Leaving directory '/content/argtable2-13'\n",
            "make[1]: Leaving directory '/content/argtable2-13'\n",
            "Making clean in doc\n",
            "make[1]: Entering directory '/content/argtable2-13/doc'\n",
            "rm -rf .libs _libs\n",
            "rm -f *.lo\n",
            "make[1]: Leaving directory '/content/argtable2-13/doc'\n",
            "Making clean in tests\n",
            "make[1]: Entering directory '/content/argtable2-13/tests'\n",
            "rm -f fntests test_lit test_int test_dbl test_rex test_file\n",
            "make[1]: Leaving directory '/content/argtable2-13/tests'\n",
            "Making clean in src\n",
            "make[1]: Entering directory '/content/argtable2-13/src'\n",
            "test -z \"libargtable2.la\" || rm -f libargtable2.la\n",
            "rm -f \"./so_locations\"\n",
            "rm -rf .libs _libs\n",
            "rm -f *.o\n",
            "rm -f *.lo\n",
            "make[1]: Leaving directory '/content/argtable2-13/src'\n",
            "Making clean in .\n",
            "make[1]: Entering directory '/content/argtable2-13'\n",
            "rm -rf .libs _libs\n",
            "rm -f *.lo\n",
            "make[1]: Leaving directory '/content/argtable2-13'\n"
          ]
        },
        {
          "output_type": "stream",
          "name": "stderr",
          "text": [
            "arg_int.c: In function ‘strtol0X’:\n",
            "arg_int.c:60:12: warning: implicit declaration of function ‘isspace’ [-Wimplicit-function-declaration]\n",
            "   60 |     while (isspace(*ptr))\n",
            "      |            ^~~~~~~\n",
            "arg_int.c:89:8: warning: implicit declaration of function ‘toupper’ [-Wimplicit-function-declaration]\n",
            "   89 |    if (toupper(*ptr++)!=toupper(X))\n",
            "      |        ^~~~~~~\n",
            "ar: `u' modifier ignored since `D' is the default (see `U')\n"
          ]
        }
      ]
    },
    {
      "cell_type": "code",
      "source": [
        "%%bash\n",
        "\n",
        "cd clustal-omega-1.2.4\n",
        "./configure\n",
        "make\n",
        "sudo make install"
      ],
      "metadata": {
        "colab": {
          "base_uri": "https://localhost:8080/"
        },
        "id": "uGPds7lcDCZc",
        "outputId": "0c84a1b9-54ea-4835-f3d0-5b294f6e4b26"
      },
      "execution_count": null,
      "outputs": [
        {
          "output_type": "stream",
          "name": "stdout",
          "text": [
            "configure:\n",
            "\n",
            "    Welcome to Clustal Omega - version 1.2.4 (AndreaGiacomo)\n",
            "\n",
            "                       +NMMMMMMMMMS=\n",
            "                    MMMMM?      :MMMMM8\n",
            "                  IMMMMS           MMMMM,\n",
            "                ~MMMMN              ,MMMMM\n",
            "               =MMMMM                 MMMMM\n",
            "              ?MMMMM                  +MMMMM\n",
            "              MMMMMS                   MMMMM\n",
            "              MMMMM                    MMMMM:\n",
            "              MMMMM                    MMMMM+\n",
            "              MMMMM                    MMMMM~\n",
            "              MMMMM                    MMMMM\n",
            "              MMMMMZ                   MMMMM\n",
            "               MMMMM                  ,MMMMZ\n",
            "                MMMM8                 MMMM+\n",
            "                 MMMMS               MMMM,\n",
            "                   MMMMO           MMMM\n",
            "            ,N       SMMM        MMM8       +8\n",
            "            ,M7         M+       M+        :M8\n",
            "            ,MMMMMMMMMMMMI       MMMMMMMMMMMM8\n",
            "            ,MMMMMMMMMMMM8       MMMMMMMMMMMM8\n",
            "            ,MMMMMMMMMMMMN       MMMMMMMMMMMM8\n",
            "\n",
            "              \n",
            "checking for a BSD-compatible install... /usr/bin/install -c\n",
            "checking whether build environment is sane... yes\n",
            "checking for a thread-safe mkdir -p... /usr/bin/mkdir -p\n",
            "checking for gawk... no\n",
            "checking for mawk... mawk\n",
            "checking whether make sets $(MAKE)... yes\n",
            "checking for style of include used by make... GNU\n",
            "checking for gcc... gcc\n",
            "checking for C compiler default output file name... a.out\n",
            "checking whether the C compiler works... yes\n",
            "checking whether we are cross compiling... no\n",
            "checking for suffix of executables... \n",
            "checking for suffix of object files... o\n",
            "checking whether we are using the GNU C compiler... yes\n",
            "checking whether gcc accepts -g... yes\n",
            "checking for gcc option to accept ISO C89... none needed\n",
            "checking dependency style of gcc... gcc3\n",
            "checking how to run the C preprocessor... gcc -E\n",
            "checking for grep that handles long lines and -e... /usr/bin/grep\n",
            "checking for egrep... /usr/bin/grep -E\n",
            "checking for ANSI C header files... yes\n",
            "checking for sys/types.h... yes\n",
            "checking for sys/stat.h... yes\n",
            "checking for stdlib.h... yes\n",
            "checking for string.h... yes\n",
            "checking for memory.h... yes\n",
            "checking for strings.h... yes\n",
            "checking for inttypes.h... yes\n",
            "checking for stdint.h... yes\n",
            "checking for unistd.h... yes\n",
            "checking minix/config.h usability... no\n",
            "checking minix/config.h presence... no\n",
            "checking for minix/config.h... no\n",
            "checking whether it is safe to define __EXTENSIONS__... yes\n",
            "checking build system type... x86_64-unknown-linux-gnu\n",
            "checking host system type... x86_64-unknown-linux-gnu\n",
            "checking whether make sets $(MAKE)... (cached) yes\n",
            "checking for a sed that does not truncate output... /usr/bin/sed\n",
            "checking for fgrep... /usr/bin/grep -F\n",
            "checking for ld used by gcc... /usr/bin/ld\n",
            "checking if the linker (/usr/bin/ld) is GNU ld... yes\n",
            "checking for BSD- or MS-compatible name lister (nm)... /usr/bin/nm -B\n",
            "checking the name lister (/usr/bin/nm -B) interface... BSD nm\n",
            "checking whether ln -s works... yes\n",
            "checking the maximum length of command line arguments... 1572864\n",
            "checking whether the shell understands some XSI constructs... yes\n",
            "checking whether the shell understands \"+=\"... yes\n",
            "checking for /usr/bin/ld option to reload object files... -r\n",
            "checking for objdump... objdump\n",
            "checking how to recognize dependent libraries... pass_all\n",
            "checking for ar... ar\n",
            "checking for strip... strip\n",
            "checking for ranlib... ranlib\n",
            "checking command to parse /usr/bin/nm -B output from gcc object... ok\n",
            "checking for dlfcn.h... yes\n",
            "checking for objdir... .libs\n",
            "checking if gcc supports -fno-rtti -fno-exceptions... no\n",
            "checking for gcc option to produce PIC... -fPIC -DPIC\n",
            "checking if gcc PIC flag -fPIC -DPIC works... yes\n",
            "checking if gcc static flag -static works... yes\n",
            "checking if gcc supports -c -o file.o... yes\n",
            "checking if gcc supports -c -o file.o... (cached) yes\n",
            "checking whether the gcc linker (/usr/bin/ld -m elf_x86_64) supports shared libraries... yes\n",
            "checking whether -lc should be explicitly linked in... no\n",
            "checking dynamic linker characteristics... GNU/Linux ld.so\n",
            "checking how to hardcode library paths into programs... immediate\n",
            "checking whether stripping libraries is possible... yes\n",
            "checking if libtool supports shared libraries... yes\n",
            "checking whether to build shared libraries... yes\n",
            "checking whether to build static libraries... yes\n",
            "checking for a BSD-compatible install... /usr/bin/install -c\n",
            "checking for gcc... (cached) gcc\n",
            "checking whether we are using the GNU C compiler... (cached) yes\n",
            "checking whether gcc accepts -g... (cached) yes\n",
            "checking for gcc option to accept ISO C89... (cached) none needed\n",
            "checking dependency style of gcc... (cached) gcc3\n",
            "checking how to run the C preprocessor... gcc -E\n",
            "checking for g++... g++\n",
            "checking whether we are using the GNU C++ compiler... yes\n",
            "checking whether g++ accepts -g... yes\n",
            "checking dependency style of g++... gcc3\n",
            "checking whether we are using the GNU C++ compiler... (cached) yes\n",
            "checking whether g++ accepts -g... (cached) yes\n",
            "checking dependency style of g++... (cached) gcc3\n",
            "checking how to run the C++ preprocessor... g++ -E\n",
            "checking for ld used by g++... /usr/bin/ld -m elf_x86_64\n",
            "checking if the linker (/usr/bin/ld -m elf_x86_64) is GNU ld... yes\n",
            "checking whether the g++ linker (/usr/bin/ld -m elf_x86_64) supports shared libraries... yes\n",
            "checking for g++ option to produce PIC... -fPIC -DPIC\n",
            "checking if g++ PIC flag -fPIC -DPIC works... yes\n",
            "checking if g++ static flag -static works... yes\n",
            "checking if g++ supports -c -o file.o... yes\n",
            "checking if g++ supports -c -o file.o... (cached) yes\n",
            "checking whether the g++ linker (/usr/bin/ld -m elf_x86_64) supports shared libraries... yes\n",
            "checking dynamic linker characteristics... GNU/Linux ld.so\n",
            "checking how to hardcode library paths into programs... immediate\n",
            "checking how to run the C++ preprocessor... g++ -E\n",
            "checking for ANSI C header files... (cached) yes\n",
            "checking assert.h usability... yes\n",
            "checking assert.h presence... yes\n",
            "checking for assert.h... yes\n",
            "checking ctype.h usability... yes\n",
            "checking ctype.h presence... yes\n",
            "checking for ctype.h... yes\n",
            "checking float.h usability... yes\n",
            "checking float.h presence... yes\n",
            "checking for float.h... yes\n",
            "checking limits.h usability... yes\n",
            "checking limits.h presence... yes\n",
            "checking for limits.h... yes\n",
            "checking math.h usability... yes\n",
            "checking math.h presence... yes\n",
            "checking for math.h... yes\n",
            "checking for memory.h... (cached) yes\n",
            "checking stdarg.h usability... yes\n",
            "checking stdarg.h presence... yes\n",
            "checking for stdarg.h... yes\n",
            "checking stdio.h usability... yes\n",
            "checking stdio.h presence... yes\n",
            "checking for stdio.h... yes\n",
            "checking for stdlib.h... (cached) yes\n",
            "checking for string.h... (cached) yes\n",
            "checking time.h usability... yes\n",
            "checking time.h presence... yes\n",
            "checking for time.h... yes\n",
            "checking for unistd.h... (cached) yes\n",
            "checking for an ANSI C-conforming const... yes\n",
            "checking for size_t... yes\n",
            "checking for inline... inline\n",
            "checking for log in -lm... yes\n",
            "checking for log2 in -lm... yes\n",
            "checking argtable2.h usability... yes\n",
            "checking argtable2.h presence... yes\n",
            "checking for argtable2.h... yes\n",
            "checking for arg_parse in -largtable2... yes\n",
            "checking for OpenMP flag of C compiler... -fopenmp\n",
            "checking whether byte ordering is bigendian... no\n",
            "checking for ntohs... yes\n",
            "checking for ntohl... yes\n",
            "checking for ntons... no\n",
            "checking for ntonl... no\n",
            "checking size of unsigned short... 2\n",
            "checking size of unsigned int... 4\n",
            "checking size of unsigned long... 8\n",
            "checking size of unsigned long long... 8\n",
            "checking for stroul... no\n",
            "checking for strtoull... yes\n",
            "checking for ftello... yes\n",
            "checking for fseeko... yes\n",
            "checking for ftello64... yes\n",
            "checking for fseeko64... yes\n",
            "checking for ftell64... no\n",
            "checking for fseek64... no\n",
            "checking for off_t... yes\n",
            "checking size of fpos_t... 16\n",
            "checking if malloc debugging is wanted... no\n",
            "checking whether to build with debug information... no\n",
            "configure: creating ./config.status\n",
            "config.status: creating Makefile\n",
            "config.status: creating src/Makefile\n",
            "config.status: creating clustalo.pc\n",
            "config.status: creating Doxyfile\n",
            "config.status: creating src/clustal/Makefile\n",
            "config.status: creating src/hhalign/Makefile\n",
            "config.status: creating src/kmpp/Makefile\n",
            "config.status: creating src/squid/Makefile\n",
            "config.status: creating src/config.h\n",
            "config.status: executing src/clustal-omega-config.h commands\n",
            "config.status: creating src/clustal-omega-config.h - prefix CLUSTAL_OMEGA for src/config.h defines\n",
            "config.status: src/clustal-omega-config.h is unchanged\n",
            "config.status: executing depfiles commands\n",
            "config.status: executing libtool commands\n",
            "Making all in src\n",
            "make[1]: Entering directory '/content/clustal-omega-1.2.4/src'\n",
            "make  all-recursive\n",
            "make[2]: Entering directory '/content/clustal-omega-1.2.4/src'\n",
            "Making all in hhalign\n",
            "make[3]: Entering directory '/content/clustal-omega-1.2.4/src/hhalign'\n",
            "/bin/bash ../../libtool --tag=CXX   --mode=compile g++ -DHAVE_CONFIG_H -I. -I../../src    -fno-strict-aliasing -DCLUSTALO -DCLUSTALO_NOFILE -DDEFAULT_FILTER=90 -fopenmp  -O3  -g -O2 -MT hhalign.lo -MD -MP -MF .deps/hhalign.Tpo -c -o hhalign.lo hhalign.cpp\n",
            "libtool: compile:  g++ -DHAVE_CONFIG_H -I. -I../../src -fno-strict-aliasing -DCLUSTALO -DCLUSTALO_NOFILE -DDEFAULT_FILTER=90 -fopenmp -O3 -g -O2 -MT hhalign.lo -MD -MP -MF .deps/hhalign.Tpo -c hhalign.cpp  -fPIC -DPIC -o .libs/hhalign.o\n",
            "libtool: compile:  g++ -DHAVE_CONFIG_H -I. -I../../src -fno-strict-aliasing -DCLUSTALO -DCLUSTALO_NOFILE -DDEFAULT_FILTER=90 -fopenmp -O3 -g -O2 -MT hhalign.lo -MD -MP -MF .deps/hhalign.Tpo -c hhalign.cpp -o hhalign.o >/dev/null 2>&1\n",
            "mv -f .deps/hhalign.Tpo .deps/hhalign.Plo\n",
            "/bin/bash ../../libtool --tag=CXX   --mode=link g++ -fno-strict-aliasing -DCLUSTALO -DCLUSTALO_NOFILE -DDEFAULT_FILTER=90 -fopenmp  -O3  -g -O2   -o libhhalign.la  hhalign.lo  -largtable2 -lm \n",
            "libtool: link: ar cru .libs/libhhalign.a .libs/hhalign.o \n",
            "libtool: link: ranlib .libs/libhhalign.a\n",
            "libtool: link: ( cd \".libs\" && rm -f \"libhhalign.la\" && ln -s \"../libhhalign.la\" \"libhhalign.la\" )\n",
            "make[3]: Leaving directory '/content/clustal-omega-1.2.4/src/hhalign'\n",
            "Making all in squid\n",
            "make[3]: Entering directory '/content/clustal-omega-1.2.4/src/squid'\n",
            "/bin/bash ../../libtool --tag=CC   --mode=compile gcc -DHAVE_CONFIG_H -I. -I../../src    -DCLUSTALO  -O3  -g -O2 -MT a2m.lo -MD -MP -MF .deps/a2m.Tpo -c -o a2m.lo a2m.c\n",
            "libtool: compile:  gcc -DHAVE_CONFIG_H -I. -I../../src -DCLUSTALO -O3 -g -O2 -MT a2m.lo -MD -MP -MF .deps/a2m.Tpo -c a2m.c  -fPIC -DPIC -o .libs/a2m.o\n",
            "libtool: compile:  gcc -DHAVE_CONFIG_H -I. -I../../src -DCLUSTALO -O3 -g -O2 -MT a2m.lo -MD -MP -MF .deps/a2m.Tpo -c a2m.c -o a2m.o >/dev/null 2>&1\n",
            "mv -f .deps/a2m.Tpo .deps/a2m.Plo\n",
            "/bin/bash ../../libtool --tag=CC   --mode=compile gcc -DHAVE_CONFIG_H -I. -I../../src    -DCLUSTALO  -O3  -g -O2 -MT aligneval.lo -MD -MP -MF .deps/aligneval.Tpo -c -o aligneval.lo aligneval.c\n",
            "libtool: compile:  gcc -DHAVE_CONFIG_H -I. -I../../src -DCLUSTALO -O3 -g -O2 -MT aligneval.lo -MD -MP -MF .deps/aligneval.Tpo -c aligneval.c  -fPIC -DPIC -o .libs/aligneval.o\n",
            "libtool: compile:  gcc -DHAVE_CONFIG_H -I. -I../../src -DCLUSTALO -O3 -g -O2 -MT aligneval.lo -MD -MP -MF .deps/aligneval.Tpo -c aligneval.c -o aligneval.o >/dev/null 2>&1\n",
            "mv -f .deps/aligneval.Tpo .deps/aligneval.Plo\n",
            "/bin/bash ../../libtool --tag=CC   --mode=compile gcc -DHAVE_CONFIG_H -I. -I../../src    -DCLUSTALO  -O3  -g -O2 -MT alignio.lo -MD -MP -MF .deps/alignio.Tpo -c -o alignio.lo alignio.c\n",
            "libtool: compile:  gcc -DHAVE_CONFIG_H -I. -I../../src -DCLUSTALO -O3 -g -O2 -MT alignio.lo -MD -MP -MF .deps/alignio.Tpo -c alignio.c  -fPIC -DPIC -o .libs/alignio.o\n",
            "libtool: compile:  gcc -DHAVE_CONFIG_H -I. -I../../src -DCLUSTALO -O3 -g -O2 -MT alignio.lo -MD -MP -MF .deps/alignio.Tpo -c alignio.c -o alignio.o >/dev/null 2>&1\n",
            "mv -f .deps/alignio.Tpo .deps/alignio.Plo\n",
            "/bin/bash ../../libtool --tag=CC   --mode=compile gcc -DHAVE_CONFIG_H -I. -I../../src    -DCLUSTALO  -O3  -g -O2 -MT clustal.lo -MD -MP -MF .deps/clustal.Tpo -c -o clustal.lo clustal.c\n",
            "libtool: compile:  gcc -DHAVE_CONFIG_H -I. -I../../src -DCLUSTALO -O3 -g -O2 -MT clustal.lo -MD -MP -MF .deps/clustal.Tpo -c clustal.c  -fPIC -DPIC -o .libs/clustal.o\n",
            "libtool: compile:  gcc -DHAVE_CONFIG_H -I. -I../../src -DCLUSTALO -O3 -g -O2 -MT clustal.lo -MD -MP -MF .deps/clustal.Tpo -c clustal.c -o clustal.o >/dev/null 2>&1\n",
            "mv -f .deps/clustal.Tpo .deps/clustal.Plo\n",
            "/bin/bash ../../libtool --tag=CC   --mode=compile gcc -DHAVE_CONFIG_H -I. -I../../src    -DCLUSTALO  -O3  -g -O2 -MT cluster.lo -MD -MP -MF .deps/cluster.Tpo -c -o cluster.lo cluster.c\n",
            "libtool: compile:  gcc -DHAVE_CONFIG_H -I. -I../../src -DCLUSTALO -O3 -g -O2 -MT cluster.lo -MD -MP -MF .deps/cluster.Tpo -c cluster.c  -fPIC -DPIC -o .libs/cluster.o\n",
            "libtool: compile:  gcc -DHAVE_CONFIG_H -I. -I../../src -DCLUSTALO -O3 -g -O2 -MT cluster.lo -MD -MP -MF .deps/cluster.Tpo -c cluster.c -o cluster.o >/dev/null 2>&1\n",
            "mv -f .deps/cluster.Tpo .deps/cluster.Plo\n",
            "/bin/bash ../../libtool --tag=CC   --mode=compile gcc -DHAVE_CONFIG_H -I. -I../../src    -DCLUSTALO  -O3  -g -O2 -MT dayhoff.lo -MD -MP -MF .deps/dayhoff.Tpo -c -o dayhoff.lo dayhoff.c\n",
            "libtool: compile:  gcc -DHAVE_CONFIG_H -I. -I../../src -DCLUSTALO -O3 -g -O2 -MT dayhoff.lo -MD -MP -MF .deps/dayhoff.Tpo -c dayhoff.c  -fPIC -DPIC -o .libs/dayhoff.o\n",
            "libtool: compile:  gcc -DHAVE_CONFIG_H -I. -I../../src -DCLUSTALO -O3 -g -O2 -MT dayhoff.lo -MD -MP -MF .deps/dayhoff.Tpo -c dayhoff.c -o dayhoff.o >/dev/null 2>&1\n",
            "mv -f .deps/dayhoff.Tpo .deps/dayhoff.Plo\n",
            "/bin/bash ../../libtool --tag=CC   --mode=compile gcc -DHAVE_CONFIG_H -I. -I../../src    -DCLUSTALO  -O3  -g -O2 -MT eps.lo -MD -MP -MF .deps/eps.Tpo -c -o eps.lo eps.c\n",
            "libtool: compile:  gcc -DHAVE_CONFIG_H -I. -I../../src -DCLUSTALO -O3 -g -O2 -MT eps.lo -MD -MP -MF .deps/eps.Tpo -c eps.c  -fPIC -DPIC -o .libs/eps.o\n",
            "libtool: compile:  gcc -DHAVE_CONFIG_H -I. -I../../src -DCLUSTALO -O3 -g -O2 -MT eps.lo -MD -MP -MF .deps/eps.Tpo -c eps.c -o eps.o >/dev/null 2>&1\n",
            "mv -f .deps/eps.Tpo .deps/eps.Plo\n",
            "/bin/bash ../../libtool --tag=CC   --mode=compile gcc -DHAVE_CONFIG_H -I. -I../../src    -DCLUSTALO  -O3  -g -O2 -MT file.lo -MD -MP -MF .deps/file.Tpo -c -o file.lo file.c\n",
            "libtool: compile:  gcc -DHAVE_CONFIG_H -I. -I../../src -DCLUSTALO -O3 -g -O2 -MT file.lo -MD -MP -MF .deps/file.Tpo -c file.c  -fPIC -DPIC -o .libs/file.o\n",
            "libtool: compile:  gcc -DHAVE_CONFIG_H -I. -I../../src -DCLUSTALO -O3 -g -O2 -MT file.lo -MD -MP -MF .deps/file.Tpo -c file.c -o file.o >/dev/null 2>&1\n",
            "mv -f .deps/file.Tpo .deps/file.Plo\n",
            "/bin/bash ../../libtool --tag=CC   --mode=compile gcc -DHAVE_CONFIG_H -I. -I../../src    -DCLUSTALO  -O3  -g -O2 -MT getopt.lo -MD -MP -MF .deps/getopt.Tpo -c -o getopt.lo getopt.c\n",
            "libtool: compile:  gcc -DHAVE_CONFIG_H -I. -I../../src -DCLUSTALO -O3 -g -O2 -MT getopt.lo -MD -MP -MF .deps/getopt.Tpo -c getopt.c  -fPIC -DPIC -o .libs/getopt.o\n",
            "libtool: compile:  gcc -DHAVE_CONFIG_H -I. -I../../src -DCLUSTALO -O3 -g -O2 -MT getopt.lo -MD -MP -MF .deps/getopt.Tpo -c getopt.c -o getopt.o >/dev/null 2>&1\n",
            "mv -f .deps/getopt.Tpo .deps/getopt.Plo\n",
            "/bin/bash ../../libtool --tag=CC   --mode=compile gcc -DHAVE_CONFIG_H -I. -I../../src    -DCLUSTALO  -O3  -g -O2 -MT gki.lo -MD -MP -MF .deps/gki.Tpo -c -o gki.lo gki.c\n",
            "libtool: compile:  gcc -DHAVE_CONFIG_H -I. -I../../src -DCLUSTALO -O3 -g -O2 -MT gki.lo -MD -MP -MF .deps/gki.Tpo -c gki.c  -fPIC -DPIC -o .libs/gki.o\n",
            "libtool: compile:  gcc -DHAVE_CONFIG_H -I. -I../../src -DCLUSTALO -O3 -g -O2 -MT gki.lo -MD -MP -MF .deps/gki.Tpo -c gki.c -o gki.o >/dev/null 2>&1\n",
            "mv -f .deps/gki.Tpo .deps/gki.Plo\n",
            "/bin/bash ../../libtool --tag=CC   --mode=compile gcc -DHAVE_CONFIG_H -I. -I../../src    -DCLUSTALO  -O3  -g -O2 -MT gsi.lo -MD -MP -MF .deps/gsi.Tpo -c -o gsi.lo gsi.c\n",
            "libtool: compile:  gcc -DHAVE_CONFIG_H -I. -I../../src -DCLUSTALO -O3 -g -O2 -MT gsi.lo -MD -MP -MF .deps/gsi.Tpo -c gsi.c  -fPIC -DPIC -o .libs/gsi.o\n",
            "libtool: compile:  gcc -DHAVE_CONFIG_H -I. -I../../src -DCLUSTALO -O3 -g -O2 -MT gsi.lo -MD -MP -MF .deps/gsi.Tpo -c gsi.c -o gsi.o >/dev/null 2>&1\n",
            "mv -f .deps/gsi.Tpo .deps/gsi.Plo\n",
            "/bin/bash ../../libtool --tag=CC   --mode=compile gcc -DHAVE_CONFIG_H -I. -I../../src    -DCLUSTALO  -O3  -g -O2 -MT gsi64.lo -MD -MP -MF .deps/gsi64.Tpo -c -o gsi64.lo gsi64.c\n",
            "libtool: compile:  gcc -DHAVE_CONFIG_H -I. -I../../src -DCLUSTALO -O3 -g -O2 -MT gsi64.lo -MD -MP -MF .deps/gsi64.Tpo -c gsi64.c  -fPIC -DPIC -o .libs/gsi64.o\n",
            "libtool: compile:  gcc -DHAVE_CONFIG_H -I. -I../../src -DCLUSTALO -O3 -g -O2 -MT gsi64.lo -MD -MP -MF .deps/gsi64.Tpo -c gsi64.c -o gsi64.o >/dev/null 2>&1\n",
            "mv -f .deps/gsi64.Tpo .deps/gsi64.Plo\n",
            "/bin/bash ../../libtool --tag=CC   --mode=compile gcc -DHAVE_CONFIG_H -I. -I../../src    -DCLUSTALO  -O3  -g -O2 -MT hsregex.lo -MD -MP -MF .deps/hsregex.Tpo -c -o hsregex.lo hsregex.c\n",
            "libtool: compile:  gcc -DHAVE_CONFIG_H -I. -I../../src -DCLUSTALO -O3 -g -O2 -MT hsregex.lo -MD -MP -MF .deps/hsregex.Tpo -c hsregex.c  -fPIC -DPIC -o .libs/hsregex.o\n",
            "libtool: compile:  gcc -DHAVE_CONFIG_H -I. -I../../src -DCLUSTALO -O3 -g -O2 -MT hsregex.lo -MD -MP -MF .deps/hsregex.Tpo -c hsregex.c -o hsregex.o >/dev/null 2>&1\n",
            "mv -f .deps/hsregex.Tpo .deps/hsregex.Plo\n",
            "/bin/bash ../../libtool --tag=CC   --mode=compile gcc -DHAVE_CONFIG_H -I. -I../../src    -DCLUSTALO  -O3  -g -O2 -MT iupac.lo -MD -MP -MF .deps/iupac.Tpo -c -o iupac.lo iupac.c\n",
            "libtool: compile:  gcc -DHAVE_CONFIG_H -I. -I../../src -DCLUSTALO -O3 -g -O2 -MT iupac.lo -MD -MP -MF .deps/iupac.Tpo -c iupac.c  -fPIC -DPIC -o .libs/iupac.o\n",
            "libtool: compile:  gcc -DHAVE_CONFIG_H -I. -I../../src -DCLUSTALO -O3 -g -O2 -MT iupac.lo -MD -MP -MF .deps/iupac.Tpo -c iupac.c -o iupac.o >/dev/null 2>&1\n",
            "mv -f .deps/iupac.Tpo .deps/iupac.Plo\n",
            "/bin/bash ../../libtool --tag=CC   --mode=compile gcc -DHAVE_CONFIG_H -I. -I../../src    -DCLUSTALO  -O3  -g -O2 -MT msa.lo -MD -MP -MF .deps/msa.Tpo -c -o msa.lo msa.c\n",
            "libtool: compile:  gcc -DHAVE_CONFIG_H -I. -I../../src -DCLUSTALO -O3 -g -O2 -MT msa.lo -MD -MP -MF .deps/msa.Tpo -c msa.c  -fPIC -DPIC -o .libs/msa.o\n",
            "libtool: compile:  gcc -DHAVE_CONFIG_H -I. -I../../src -DCLUSTALO -O3 -g -O2 -MT msa.lo -MD -MP -MF .deps/msa.Tpo -c msa.c -o msa.o >/dev/null 2>&1\n",
            "mv -f .deps/msa.Tpo .deps/msa.Plo\n",
            "/bin/bash ../../libtool --tag=CC   --mode=compile gcc -DHAVE_CONFIG_H -I. -I../../src    -DCLUSTALO  -O3  -g -O2 -MT msf.lo -MD -MP -MF .deps/msf.Tpo -c -o msf.lo msf.c\n",
            "libtool: compile:  gcc -DHAVE_CONFIG_H -I. -I../../src -DCLUSTALO -O3 -g -O2 -MT msf.lo -MD -MP -MF .deps/msf.Tpo -c msf.c  -fPIC -DPIC -o .libs/msf.o\n",
            "libtool: compile:  gcc -DHAVE_CONFIG_H -I. -I../../src -DCLUSTALO -O3 -g -O2 -MT msf.lo -MD -MP -MF .deps/msf.Tpo -c msf.c -o msf.o >/dev/null 2>&1\n",
            "mv -f .deps/msf.Tpo .deps/msf.Plo\n",
            "/bin/bash ../../libtool --tag=CC   --mode=compile gcc -DHAVE_CONFIG_H -I. -I../../src    -DCLUSTALO  -O3  -g -O2 -MT phylip.lo -MD -MP -MF .deps/phylip.Tpo -c -o phylip.lo phylip.c\n",
            "libtool: compile:  gcc -DHAVE_CONFIG_H -I. -I../../src -DCLUSTALO -O3 -g -O2 -MT phylip.lo -MD -MP -MF .deps/phylip.Tpo -c phylip.c  -fPIC -DPIC -o .libs/phylip.o\n",
            "libtool: compile:  gcc -DHAVE_CONFIG_H -I. -I../../src -DCLUSTALO -O3 -g -O2 -MT phylip.lo -MD -MP -MF .deps/phylip.Tpo -c phylip.c -o phylip.o >/dev/null 2>&1\n",
            "mv -f .deps/phylip.Tpo .deps/phylip.Plo\n",
            "/bin/bash ../../libtool --tag=CC   --mode=compile gcc -DHAVE_CONFIG_H -I. -I../../src    -DCLUSTALO  -O3  -g -O2 -MT revcomp.lo -MD -MP -MF .deps/revcomp.Tpo -c -o revcomp.lo revcomp.c\n",
            "libtool: compile:  gcc -DHAVE_CONFIG_H -I. -I../../src -DCLUSTALO -O3 -g -O2 -MT revcomp.lo -MD -MP -MF .deps/revcomp.Tpo -c revcomp.c  -fPIC -DPIC -o .libs/revcomp.o\n",
            "libtool: compile:  gcc -DHAVE_CONFIG_H -I. -I../../src -DCLUSTALO -O3 -g -O2 -MT revcomp.lo -MD -MP -MF .deps/revcomp.Tpo -c revcomp.c -o revcomp.o >/dev/null 2>&1\n",
            "mv -f .deps/revcomp.Tpo .deps/revcomp.Plo\n",
            "/bin/bash ../../libtool --tag=CC   --mode=compile gcc -DHAVE_CONFIG_H -I. -I../../src    -DCLUSTALO  -O3  -g -O2 -MT rk.lo -MD -MP -MF .deps/rk.Tpo -c -o rk.lo rk.c\n",
            "libtool: compile:  gcc -DHAVE_CONFIG_H -I. -I../../src -DCLUSTALO -O3 -g -O2 -MT rk.lo -MD -MP -MF .deps/rk.Tpo -c rk.c  -fPIC -DPIC -o .libs/rk.o\n",
            "libtool: compile:  gcc -DHAVE_CONFIG_H -I. -I../../src -DCLUSTALO -O3 -g -O2 -MT rk.lo -MD -MP -MF .deps/rk.Tpo -c rk.c -o rk.o >/dev/null 2>&1\n",
            "mv -f .deps/rk.Tpo .deps/rk.Plo\n",
            "/bin/bash ../../libtool --tag=CC   --mode=compile gcc -DHAVE_CONFIG_H -I. -I../../src    -DCLUSTALO  -O3  -g -O2 -MT selex.lo -MD -MP -MF .deps/selex.Tpo -c -o selex.lo selex.c\n",
            "libtool: compile:  gcc -DHAVE_CONFIG_H -I. -I../../src -DCLUSTALO -O3 -g -O2 -MT selex.lo -MD -MP -MF .deps/selex.Tpo -c selex.c  -fPIC -DPIC -o .libs/selex.o\n",
            "libtool: compile:  gcc -DHAVE_CONFIG_H -I. -I../../src -DCLUSTALO -O3 -g -O2 -MT selex.lo -MD -MP -MF .deps/selex.Tpo -c selex.c -o selex.o >/dev/null 2>&1\n",
            "mv -f .deps/selex.Tpo .deps/selex.Plo\n",
            "/bin/bash ../../libtool --tag=CC   --mode=compile gcc -DHAVE_CONFIG_H -I. -I../../src    -DCLUSTALO  -O3  -g -O2 -MT seqencode.lo -MD -MP -MF .deps/seqencode.Tpo -c -o seqencode.lo seqencode.c\n",
            "libtool: compile:  gcc -DHAVE_CONFIG_H -I. -I../../src -DCLUSTALO -O3 -g -O2 -MT seqencode.lo -MD -MP -MF .deps/seqencode.Tpo -c seqencode.c  -fPIC -DPIC -o .libs/seqencode.o\n",
            "libtool: compile:  gcc -DHAVE_CONFIG_H -I. -I../../src -DCLUSTALO -O3 -g -O2 -MT seqencode.lo -MD -MP -MF .deps/seqencode.Tpo -c seqencode.c -o seqencode.o >/dev/null 2>&1\n",
            "mv -f .deps/seqencode.Tpo .deps/seqencode.Plo\n",
            "/bin/bash ../../libtool --tag=CC   --mode=compile gcc -DHAVE_CONFIG_H -I. -I../../src    -DCLUSTALO  -O3  -g -O2 -MT shuffle.lo -MD -MP -MF .deps/shuffle.Tpo -c -o shuffle.lo shuffle.c\n",
            "libtool: compile:  gcc -DHAVE_CONFIG_H -I. -I../../src -DCLUSTALO -O3 -g -O2 -MT shuffle.lo -MD -MP -MF .deps/shuffle.Tpo -c shuffle.c  -fPIC -DPIC -o .libs/shuffle.o\n",
            "libtool: compile:  gcc -DHAVE_CONFIG_H -I. -I../../src -DCLUSTALO -O3 -g -O2 -MT shuffle.lo -MD -MP -MF .deps/shuffle.Tpo -c shuffle.c -o shuffle.o >/dev/null 2>&1\n",
            "mv -f .deps/shuffle.Tpo .deps/shuffle.Plo\n",
            "/bin/bash ../../libtool --tag=CC   --mode=compile gcc -DHAVE_CONFIG_H -I. -I../../src    -DCLUSTALO  -O3  -g -O2 -MT sqerror.lo -MD -MP -MF .deps/sqerror.Tpo -c -o sqerror.lo sqerror.c\n",
            "libtool: compile:  gcc -DHAVE_CONFIG_H -I. -I../../src -DCLUSTALO -O3 -g -O2 -MT sqerror.lo -MD -MP -MF .deps/sqerror.Tpo -c sqerror.c  -fPIC -DPIC -o .libs/sqerror.o\n",
            "libtool: compile:  gcc -DHAVE_CONFIG_H -I. -I../../src -DCLUSTALO -O3 -g -O2 -MT sqerror.lo -MD -MP -MF .deps/sqerror.Tpo -c sqerror.c -o sqerror.o >/dev/null 2>&1\n",
            "mv -f .deps/sqerror.Tpo .deps/sqerror.Plo\n",
            "/bin/bash ../../libtool --tag=CC   --mode=compile gcc -DHAVE_CONFIG_H -I. -I../../src    -DCLUSTALO  -O3  -g -O2 -MT sqio.lo -MD -MP -MF .deps/sqio.Tpo -c -o sqio.lo sqio.c\n",
            "libtool: compile:  gcc -DHAVE_CONFIG_H -I. -I../../src -DCLUSTALO -O3 -g -O2 -MT sqio.lo -MD -MP -MF .deps/sqio.Tpo -c sqio.c  -fPIC -DPIC -o .libs/sqio.o\n",
            "libtool: compile:  gcc -DHAVE_CONFIG_H -I. -I../../src -DCLUSTALO -O3 -g -O2 -MT sqio.lo -MD -MP -MF .deps/sqio.Tpo -c sqio.c -o sqio.o >/dev/null 2>&1\n",
            "mv -f .deps/sqio.Tpo .deps/sqio.Plo\n",
            "/bin/bash ../../libtool --tag=CC   --mode=compile gcc -DHAVE_CONFIG_H -I. -I../../src    -DCLUSTALO  -O3  -g -O2 -MT squidcore.lo -MD -MP -MF .deps/squidcore.Tpo -c -o squidcore.lo squidcore.c\n",
            "libtool: compile:  gcc -DHAVE_CONFIG_H -I. -I../../src -DCLUSTALO -O3 -g -O2 -MT squidcore.lo -MD -MP -MF .deps/squidcore.Tpo -c squidcore.c  -fPIC -DPIC -o .libs/squidcore.o\n",
            "libtool: compile:  gcc -DHAVE_CONFIG_H -I. -I../../src -DCLUSTALO -O3 -g -O2 -MT squidcore.lo -MD -MP -MF .deps/squidcore.Tpo -c squidcore.c -o squidcore.o >/dev/null 2>&1\n",
            "mv -f .deps/squidcore.Tpo .deps/squidcore.Plo\n",
            "/bin/bash ../../libtool --tag=CC   --mode=compile gcc -DHAVE_CONFIG_H -I. -I../../src    -DCLUSTALO  -O3  -g -O2 -MT sre_ctype.lo -MD -MP -MF .deps/sre_ctype.Tpo -c -o sre_ctype.lo sre_ctype.c\n",
            "libtool: compile:  gcc -DHAVE_CONFIG_H -I. -I../../src -DCLUSTALO -O3 -g -O2 -MT sre_ctype.lo -MD -MP -MF .deps/sre_ctype.Tpo -c sre_ctype.c  -fPIC -DPIC -o .libs/sre_ctype.o\n",
            "libtool: compile:  gcc -DHAVE_CONFIG_H -I. -I../../src -DCLUSTALO -O3 -g -O2 -MT sre_ctype.lo -MD -MP -MF .deps/sre_ctype.Tpo -c sre_ctype.c -o sre_ctype.o >/dev/null 2>&1\n",
            "mv -f .deps/sre_ctype.Tpo .deps/sre_ctype.Plo\n",
            "/bin/bash ../../libtool --tag=CC   --mode=compile gcc -DHAVE_CONFIG_H -I. -I../../src    -DCLUSTALO  -O3  -g -O2 -MT sre_math.lo -MD -MP -MF .deps/sre_math.Tpo -c -o sre_math.lo sre_math.c\n",
            "libtool: compile:  gcc -DHAVE_CONFIG_H -I. -I../../src -DCLUSTALO -O3 -g -O2 -MT sre_math.lo -MD -MP -MF .deps/sre_math.Tpo -c sre_math.c  -fPIC -DPIC -o .libs/sre_math.o\n",
            "libtool: compile:  gcc -DHAVE_CONFIG_H -I. -I../../src -DCLUSTALO -O3 -g -O2 -MT sre_math.lo -MD -MP -MF .deps/sre_math.Tpo -c sre_math.c -o sre_math.o >/dev/null 2>&1\n",
            "mv -f .deps/sre_math.Tpo .deps/sre_math.Plo\n",
            "/bin/bash ../../libtool --tag=CC   --mode=compile gcc -DHAVE_CONFIG_H -I. -I../../src    -DCLUSTALO  -O3  -g -O2 -MT sre_random.lo -MD -MP -MF .deps/sre_random.Tpo -c -o sre_random.lo sre_random.c\n",
            "libtool: compile:  gcc -DHAVE_CONFIG_H -I. -I../../src -DCLUSTALO -O3 -g -O2 -MT sre_random.lo -MD -MP -MF .deps/sre_random.Tpo -c sre_random.c  -fPIC -DPIC -o .libs/sre_random.o\n",
            "libtool: compile:  gcc -DHAVE_CONFIG_H -I. -I../../src -DCLUSTALO -O3 -g -O2 -MT sre_random.lo -MD -MP -MF .deps/sre_random.Tpo -c sre_random.c -o sre_random.o >/dev/null 2>&1\n",
            "mv -f .deps/sre_random.Tpo .deps/sre_random.Plo\n",
            "/bin/bash ../../libtool --tag=CC   --mode=compile gcc -DHAVE_CONFIG_H -I. -I../../src    -DCLUSTALO  -O3  -g -O2 -MT sre_string.lo -MD -MP -MF .deps/sre_string.Tpo -c -o sre_string.lo sre_string.c\n",
            "libtool: compile:  gcc -DHAVE_CONFIG_H -I. -I../../src -DCLUSTALO -O3 -g -O2 -MT sre_string.lo -MD -MP -MF .deps/sre_string.Tpo -c sre_string.c  -fPIC -DPIC -o .libs/sre_string.o\n",
            "libtool: compile:  gcc -DHAVE_CONFIG_H -I. -I../../src -DCLUSTALO -O3 -g -O2 -MT sre_string.lo -MD -MP -MF .deps/sre_string.Tpo -c sre_string.c -o sre_string.o >/dev/null 2>&1\n",
            "mv -f .deps/sre_string.Tpo .deps/sre_string.Plo\n",
            "/bin/bash ../../libtool --tag=CC   --mode=compile gcc -DHAVE_CONFIG_H -I. -I../../src    -DCLUSTALO  -O3  -g -O2 -MT ssi.lo -MD -MP -MF .deps/ssi.Tpo -c -o ssi.lo ssi.c\n",
            "libtool: compile:  gcc -DHAVE_CONFIG_H -I. -I../../src -DCLUSTALO -O3 -g -O2 -MT ssi.lo -MD -MP -MF .deps/ssi.Tpo -c ssi.c  -fPIC -DPIC -o .libs/ssi.o\n",
            "libtool: compile:  gcc -DHAVE_CONFIG_H -I. -I../../src -DCLUSTALO -O3 -g -O2 -MT ssi.lo -MD -MP -MF .deps/ssi.Tpo -c ssi.c -o ssi.o >/dev/null 2>&1\n",
            "mv -f .deps/ssi.Tpo .deps/ssi.Plo\n",
            "/bin/bash ../../libtool --tag=CC   --mode=compile gcc -DHAVE_CONFIG_H -I. -I../../src    -DCLUSTALO  -O3  -g -O2 -MT stack.lo -MD -MP -MF .deps/stack.Tpo -c -o stack.lo stack.c\n",
            "libtool: compile:  gcc -DHAVE_CONFIG_H -I. -I../../src -DCLUSTALO -O3 -g -O2 -MT stack.lo -MD -MP -MF .deps/stack.Tpo -c stack.c  -fPIC -DPIC -o .libs/stack.o\n",
            "libtool: compile:  gcc -DHAVE_CONFIG_H -I. -I../../src -DCLUSTALO -O3 -g -O2 -MT stack.lo -MD -MP -MF .deps/stack.Tpo -c stack.c -o stack.o >/dev/null 2>&1\n",
            "mv -f .deps/stack.Tpo .deps/stack.Plo\n",
            "/bin/bash ../../libtool --tag=CC   --mode=compile gcc -DHAVE_CONFIG_H -I. -I../../src    -DCLUSTALO  -O3  -g -O2 -MT stockholm.lo -MD -MP -MF .deps/stockholm.Tpo -c -o stockholm.lo stockholm.c\n",
            "libtool: compile:  gcc -DHAVE_CONFIG_H -I. -I../../src -DCLUSTALO -O3 -g -O2 -MT stockholm.lo -MD -MP -MF .deps/stockholm.Tpo -c stockholm.c  -fPIC -DPIC -o .libs/stockholm.o\n",
            "libtool: compile:  gcc -DHAVE_CONFIG_H -I. -I../../src -DCLUSTALO -O3 -g -O2 -MT stockholm.lo -MD -MP -MF .deps/stockholm.Tpo -c stockholm.c -o stockholm.o >/dev/null 2>&1\n",
            "mv -f .deps/stockholm.Tpo .deps/stockholm.Plo\n",
            "/bin/bash ../../libtool --tag=CC   --mode=compile gcc -DHAVE_CONFIG_H -I. -I../../src    -DCLUSTALO  -O3  -g -O2 -MT stopwatch.lo -MD -MP -MF .deps/stopwatch.Tpo -c -o stopwatch.lo stopwatch.c\n",
            "libtool: compile:  gcc -DHAVE_CONFIG_H -I. -I../../src -DCLUSTALO -O3 -g -O2 -MT stopwatch.lo -MD -MP -MF .deps/stopwatch.Tpo -c stopwatch.c  -fPIC -DPIC -o .libs/stopwatch.o\n",
            "libtool: compile:  gcc -DHAVE_CONFIG_H -I. -I../../src -DCLUSTALO -O3 -g -O2 -MT stopwatch.lo -MD -MP -MF .deps/stopwatch.Tpo -c stopwatch.c -o stopwatch.o >/dev/null 2>&1\n",
            "mv -f .deps/stopwatch.Tpo .deps/stopwatch.Plo\n",
            "/bin/bash ../../libtool --tag=CC   --mode=compile gcc -DHAVE_CONFIG_H -I. -I../../src    -DCLUSTALO  -O3  -g -O2 -MT translate.lo -MD -MP -MF .deps/translate.Tpo -c -o translate.lo translate.c\n",
            "libtool: compile:  gcc -DHAVE_CONFIG_H -I. -I../../src -DCLUSTALO -O3 -g -O2 -MT translate.lo -MD -MP -MF .deps/translate.Tpo -c translate.c  -fPIC -DPIC -o .libs/translate.o\n",
            "libtool: compile:  gcc -DHAVE_CONFIG_H -I. -I../../src -DCLUSTALO -O3 -g -O2 -MT translate.lo -MD -MP -MF .deps/translate.Tpo -c translate.c -o translate.o >/dev/null 2>&1\n",
            "mv -f .deps/translate.Tpo .deps/translate.Plo\n",
            "/bin/bash ../../libtool --tag=CC   --mode=compile gcc -DHAVE_CONFIG_H -I. -I../../src    -DCLUSTALO  -O3  -g -O2 -MT types.lo -MD -MP -MF .deps/types.Tpo -c -o types.lo types.c\n",
            "libtool: compile:  gcc -DHAVE_CONFIG_H -I. -I../../src -DCLUSTALO -O3 -g -O2 -MT types.lo -MD -MP -MF .deps/types.Tpo -c types.c  -fPIC -DPIC -o .libs/types.o\n",
            "libtool: compile:  gcc -DHAVE_CONFIG_H -I. -I../../src -DCLUSTALO -O3 -g -O2 -MT types.lo -MD -MP -MF .deps/types.Tpo -c types.c -o types.o >/dev/null 2>&1\n",
            "mv -f .deps/types.Tpo .deps/types.Plo\n",
            "/bin/bash ../../libtool --tag=CC   --mode=compile gcc -DHAVE_CONFIG_H -I. -I../../src    -DCLUSTALO  -O3  -g -O2 -MT vectorops.lo -MD -MP -MF .deps/vectorops.Tpo -c -o vectorops.lo vectorops.c\n",
            "libtool: compile:  gcc -DHAVE_CONFIG_H -I. -I../../src -DCLUSTALO -O3 -g -O2 -MT vectorops.lo -MD -MP -MF .deps/vectorops.Tpo -c vectorops.c  -fPIC -DPIC -o .libs/vectorops.o\n",
            "libtool: compile:  gcc -DHAVE_CONFIG_H -I. -I../../src -DCLUSTALO -O3 -g -O2 -MT vectorops.lo -MD -MP -MF .deps/vectorops.Tpo -c vectorops.c -o vectorops.o >/dev/null 2>&1\n",
            "mv -f .deps/vectorops.Tpo .deps/vectorops.Plo\n",
            "/bin/bash ../../libtool --tag=CC   --mode=compile gcc -DHAVE_CONFIG_H -I. -I../../src    -DCLUSTALO  -O3  -g -O2 -MT weight.lo -MD -MP -MF .deps/weight.Tpo -c -o weight.lo weight.c\n",
            "libtool: compile:  gcc -DHAVE_CONFIG_H -I. -I../../src -DCLUSTALO -O3 -g -O2 -MT weight.lo -MD -MP -MF .deps/weight.Tpo -c weight.c  -fPIC -DPIC -o .libs/weight.o\n",
            "libtool: compile:  gcc -DHAVE_CONFIG_H -I. -I../../src -DCLUSTALO -O3 -g -O2 -MT weight.lo -MD -MP -MF .deps/weight.Tpo -c weight.c -o weight.o >/dev/null 2>&1\n",
            "mv -f .deps/weight.Tpo .deps/weight.Plo\n",
            "/bin/bash ../../libtool --tag=CC   --mode=link gcc -DCLUSTALO  -O3  -g -O2   -o libsquid.la  a2m.lo aligneval.lo alignio.lo clustal.lo cluster.lo dayhoff.lo eps.lo file.lo getopt.lo gki.lo gsi.lo gsi64.lo hsregex.lo iupac.lo msa.lo msf.lo phylip.lo revcomp.lo rk.lo selex.lo seqencode.lo shuffle.lo sqerror.lo sqio.lo squidcore.lo sre_ctype.lo sre_math.lo sre_random.lo sre_string.lo ssi.lo stack.lo stockholm.lo stopwatch.lo translate.lo types.lo vectorops.lo weight.lo  -largtable2 -lm \n",
            "libtool: link: ar cru .libs/libsquid.a .libs/a2m.o .libs/aligneval.o .libs/alignio.o .libs/clustal.o .libs/cluster.o .libs/dayhoff.o .libs/eps.o .libs/file.o .libs/getopt.o .libs/gki.o .libs/gsi.o .libs/gsi64.o .libs/hsregex.o .libs/iupac.o .libs/msa.o .libs/msf.o .libs/phylip.o .libs/revcomp.o .libs/rk.o .libs/selex.o .libs/seqencode.o .libs/shuffle.o .libs/sqerror.o .libs/sqio.o .libs/squidcore.o .libs/sre_ctype.o .libs/sre_math.o .libs/sre_random.o .libs/sre_string.o .libs/ssi.o .libs/stack.o .libs/stockholm.o .libs/stopwatch.o .libs/translate.o .libs/types.o .libs/vectorops.o .libs/weight.o \n",
            "libtool: link: ranlib .libs/libsquid.a\n",
            "libtool: link: ( cd \".libs\" && rm -f \"libsquid.la\" && ln -s \"../libsquid.la\" \"libsquid.la\" )\n",
            "make[3]: Leaving directory '/content/clustal-omega-1.2.4/src/squid'\n",
            "Making all in kmpp\n",
            "make[3]: Entering directory '/content/clustal-omega-1.2.4/src/kmpp'\n",
            "/bin/bash ../../libtool --tag=CXX   --mode=compile g++ -DHAVE_CONFIG_H -I. -I../../src    -DCLUSTALO  -O3  -g -O2 -MT KMeans.lo -MD -MP -MF .deps/KMeans.Tpo -c -o KMeans.lo KMeans.cpp\n",
            "libtool: compile:  g++ -DHAVE_CONFIG_H -I. -I../../src -DCLUSTALO -O3 -g -O2 -MT KMeans.lo -MD -MP -MF .deps/KMeans.Tpo -c KMeans.cpp  -fPIC -DPIC -o .libs/KMeans.o\n",
            "libtool: compile:  g++ -DHAVE_CONFIG_H -I. -I../../src -DCLUSTALO -O3 -g -O2 -MT KMeans.lo -MD -MP -MF .deps/KMeans.Tpo -c KMeans.cpp -o KMeans.o >/dev/null 2>&1\n",
            "mv -f .deps/KMeans.Tpo .deps/KMeans.Plo\n",
            "/bin/bash ../../libtool --tag=CXX   --mode=compile g++ -DHAVE_CONFIG_H -I. -I../../src    -DCLUSTALO  -O3  -g -O2 -MT KmTree.lo -MD -MP -MF .deps/KmTree.Tpo -c -o KmTree.lo KmTree.cpp\n",
            "libtool: compile:  g++ -DHAVE_CONFIG_H -I. -I../../src -DCLUSTALO -O3 -g -O2 -MT KmTree.lo -MD -MP -MF .deps/KmTree.Tpo -c KmTree.cpp  -fPIC -DPIC -o .libs/KmTree.o\n",
            "libtool: compile:  g++ -DHAVE_CONFIG_H -I. -I../../src -DCLUSTALO -O3 -g -O2 -MT KmTree.lo -MD -MP -MF .deps/KmTree.Tpo -c KmTree.cpp -o KmTree.o >/dev/null 2>&1\n",
            "mv -f .deps/KmTree.Tpo .deps/KmTree.Plo\n",
            "/bin/bash ../../libtool --tag=CXX   --mode=compile g++ -DHAVE_CONFIG_H -I. -I../../src    -DCLUSTALO  -O3  -g -O2 -MT KmUtils.lo -MD -MP -MF .deps/KmUtils.Tpo -c -o KmUtils.lo KmUtils.cpp\n",
            "libtool: compile:  g++ -DHAVE_CONFIG_H -I. -I../../src -DCLUSTALO -O3 -g -O2 -MT KmUtils.lo -MD -MP -MF .deps/KmUtils.Tpo -c KmUtils.cpp  -fPIC -DPIC -o .libs/KmUtils.o\n",
            "libtool: compile:  g++ -DHAVE_CONFIG_H -I. -I../../src -DCLUSTALO -O3 -g -O2 -MT KmUtils.lo -MD -MP -MF .deps/KmUtils.Tpo -c KmUtils.cpp -o KmUtils.o >/dev/null 2>&1\n",
            "mv -f .deps/KmUtils.Tpo .deps/KmUtils.Plo\n",
            "/bin/bash ../../libtool --tag=CXX   --mode=link g++ -DCLUSTALO  -O3  -g -O2   -o libkmpp.la  KMeans.lo KmTree.lo KmUtils.lo  -largtable2 -lm \n",
            "libtool: link: ar cru .libs/libkmpp.a .libs/KMeans.o .libs/KmTree.o .libs/KmUtils.o \n",
            "libtool: link: ranlib .libs/libkmpp.a\n",
            "libtool: link: ( cd \".libs\" && rm -f \"libkmpp.la\" && ln -s \"../libkmpp.la\" \"libkmpp.la\" )\n",
            "make[3]: Leaving directory '/content/clustal-omega-1.2.4/src/kmpp'\n",
            "Making all in clustal\n",
            "make[3]: Entering directory '/content/clustal-omega-1.2.4/src/clustal'\n",
            "/bin/bash ../../libtool --tag=CC   --mode=compile gcc -DHAVE_CONFIG_H -I. -I../../src    -fopenmp  -O3 -g -O2 -MT hhalign_wrapper.lo -MD -MP -MF .deps/hhalign_wrapper.Tpo -c -o hhalign_wrapper.lo hhalign_wrapper.c\n",
            "libtool: compile:  gcc -DHAVE_CONFIG_H -I. -I../../src -fopenmp -O3 -g -O2 -MT hhalign_wrapper.lo -MD -MP -MF .deps/hhalign_wrapper.Tpo -c hhalign_wrapper.c  -fPIC -DPIC -o .libs/hhalign_wrapper.o\n",
            "libtool: compile:  gcc -DHAVE_CONFIG_H -I. -I../../src -fopenmp -O3 -g -O2 -MT hhalign_wrapper.lo -MD -MP -MF .deps/hhalign_wrapper.Tpo -c hhalign_wrapper.c -o hhalign_wrapper.o >/dev/null 2>&1\n",
            "mv -f .deps/hhalign_wrapper.Tpo .deps/hhalign_wrapper.Plo\n",
            "/bin/bash ../../libtool --tag=CC   --mode=compile gcc -DHAVE_CONFIG_H -I. -I../../src    -fopenmp  -O3 -g -O2 -MT ktuple_pair.lo -MD -MP -MF .deps/ktuple_pair.Tpo -c -o ktuple_pair.lo ktuple_pair.c\n",
            "libtool: compile:  gcc -DHAVE_CONFIG_H -I. -I../../src -fopenmp -O3 -g -O2 -MT ktuple_pair.lo -MD -MP -MF .deps/ktuple_pair.Tpo -c ktuple_pair.c  -fPIC -DPIC -o .libs/ktuple_pair.o\n",
            "libtool: compile:  gcc -DHAVE_CONFIG_H -I. -I../../src -fopenmp -O3 -g -O2 -MT ktuple_pair.lo -MD -MP -MF .deps/ktuple_pair.Tpo -c ktuple_pair.c -o ktuple_pair.o >/dev/null 2>&1\n",
            "mv -f .deps/ktuple_pair.Tpo .deps/ktuple_pair.Plo\n",
            "/bin/bash ../../libtool --tag=CC   --mode=compile gcc -DHAVE_CONFIG_H -I. -I../../src    -fopenmp  -O3 -g -O2 -MT list.lo -MD -MP -MF .deps/list.Tpo -c -o list.lo list.c\n",
            "libtool: compile:  gcc -DHAVE_CONFIG_H -I. -I../../src -fopenmp -O3 -g -O2 -MT list.lo -MD -MP -MF .deps/list.Tpo -c list.c  -fPIC -DPIC -o .libs/list.o\n",
            "libtool: compile:  gcc -DHAVE_CONFIG_H -I. -I../../src -fopenmp -O3 -g -O2 -MT list.lo -MD -MP -MF .deps/list.Tpo -c list.c -o list.o >/dev/null 2>&1\n",
            "mv -f .deps/list.Tpo .deps/list.Plo\n",
            "/bin/bash ../../libtool --tag=CC   --mode=compile gcc -DHAVE_CONFIG_H -I. -I../../src    -fopenmp  -O3 -g -O2 -MT log.lo -MD -MP -MF .deps/log.Tpo -c -o log.lo log.c\n",
            "libtool: compile:  gcc -DHAVE_CONFIG_H -I. -I../../src -fopenmp -O3 -g -O2 -MT log.lo -MD -MP -MF .deps/log.Tpo -c log.c  -fPIC -DPIC -o .libs/log.o\n",
            "libtool: compile:  gcc -DHAVE_CONFIG_H -I. -I../../src -fopenmp -O3 -g -O2 -MT log.lo -MD -MP -MF .deps/log.Tpo -c log.c -o log.o >/dev/null 2>&1\n",
            "mv -f .deps/log.Tpo .deps/log.Plo\n",
            "/bin/bash ../../libtool --tag=CC   --mode=compile gcc -DHAVE_CONFIG_H -I. -I../../src    -fopenmp  -O3 -g -O2 -MT muscle_upgma.lo -MD -MP -MF .deps/muscle_upgma.Tpo -c -o muscle_upgma.lo muscle_upgma.c\n",
            "libtool: compile:  gcc -DHAVE_CONFIG_H -I. -I../../src -fopenmp -O3 -g -O2 -MT muscle_upgma.lo -MD -MP -MF .deps/muscle_upgma.Tpo -c muscle_upgma.c  -fPIC -DPIC -o .libs/muscle_upgma.o\n",
            "libtool: compile:  gcc -DHAVE_CONFIG_H -I. -I../../src -fopenmp -O3 -g -O2 -MT muscle_upgma.lo -MD -MP -MF .deps/muscle_upgma.Tpo -c muscle_upgma.c -o muscle_upgma.o >/dev/null 2>&1\n",
            "mv -f .deps/muscle_upgma.Tpo .deps/muscle_upgma.Plo\n",
            "/bin/bash ../../libtool --tag=CC   --mode=compile gcc -DHAVE_CONFIG_H -I. -I../../src    -fopenmp  -O3 -g -O2 -MT muscle_tree.lo -MD -MP -MF .deps/muscle_tree.Tpo -c -o muscle_tree.lo muscle_tree.c\n",
            "libtool: compile:  gcc -DHAVE_CONFIG_H -I. -I../../src -fopenmp -O3 -g -O2 -MT muscle_tree.lo -MD -MP -MF .deps/muscle_tree.Tpo -c muscle_tree.c  -fPIC -DPIC -o .libs/muscle_tree.o\n",
            "libtool: compile:  gcc -DHAVE_CONFIG_H -I. -I../../src -fopenmp -O3 -g -O2 -MT muscle_tree.lo -MD -MP -MF .deps/muscle_tree.Tpo -c muscle_tree.c -o muscle_tree.o >/dev/null 2>&1\n",
            "mv -f .deps/muscle_tree.Tpo .deps/muscle_tree.Plo\n",
            "/bin/bash ../../libtool --tag=CC   --mode=compile gcc -DHAVE_CONFIG_H -I. -I../../src    -fopenmp  -O3 -g -O2 -MT mbed.lo -MD -MP -MF .deps/mbed.Tpo -c -o mbed.lo mbed.c\n",
            "libtool: compile:  gcc -DHAVE_CONFIG_H -I. -I../../src -fopenmp -O3 -g -O2 -MT mbed.lo -MD -MP -MF .deps/mbed.Tpo -c mbed.c  -fPIC -DPIC -o .libs/mbed.o\n",
            "libtool: compile:  gcc -DHAVE_CONFIG_H -I. -I../../src -fopenmp -O3 -g -O2 -MT mbed.lo -MD -MP -MF .deps/mbed.Tpo -c mbed.c -o mbed.o >/dev/null 2>&1\n",
            "mv -f .deps/mbed.Tpo .deps/mbed.Plo\n",
            "/bin/bash ../../libtool --tag=CC   --mode=compile gcc -DHAVE_CONFIG_H -I. -I../../src    -fopenmp  -O3 -g -O2 -MT pair_dist.lo -MD -MP -MF .deps/pair_dist.Tpo -c -o pair_dist.lo pair_dist.c\n",
            "libtool: compile:  gcc -DHAVE_CONFIG_H -I. -I../../src -fopenmp -O3 -g -O2 -MT pair_dist.lo -MD -MP -MF .deps/pair_dist.Tpo -c pair_dist.c  -fPIC -DPIC -o .libs/pair_dist.o\n",
            "libtool: compile:  gcc -DHAVE_CONFIG_H -I. -I../../src -fopenmp -O3 -g -O2 -MT pair_dist.lo -MD -MP -MF .deps/pair_dist.Tpo -c pair_dist.c -o pair_dist.o >/dev/null 2>&1\n",
            "mv -f .deps/pair_dist.Tpo .deps/pair_dist.Plo\n",
            "/bin/bash ../../libtool --tag=CC   --mode=compile gcc -DHAVE_CONFIG_H -I. -I../../src    -fopenmp  -O3 -g -O2 -MT progress.lo -MD -MP -MF .deps/progress.Tpo -c -o progress.lo progress.c\n",
            "libtool: compile:  gcc -DHAVE_CONFIG_H -I. -I../../src -fopenmp -O3 -g -O2 -MT progress.lo -MD -MP -MF .deps/progress.Tpo -c progress.c  -fPIC -DPIC -o .libs/progress.o\n",
            "libtool: compile:  gcc -DHAVE_CONFIG_H -I. -I../../src -fopenmp -O3 -g -O2 -MT progress.lo -MD -MP -MF .deps/progress.Tpo -c progress.c -o progress.o >/dev/null 2>&1\n",
            "mv -f .deps/progress.Tpo .deps/progress.Plo\n",
            "/bin/bash ../../libtool --tag=CC   --mode=compile gcc -DHAVE_CONFIG_H -I. -I../../src    -fopenmp  -O3 -g -O2 -MT seq.lo -MD -MP -MF .deps/seq.Tpo -c -o seq.lo seq.c\n",
            "libtool: compile:  gcc -DHAVE_CONFIG_H -I. -I../../src -fopenmp -O3 -g -O2 -MT seq.lo -MD -MP -MF .deps/seq.Tpo -c seq.c  -fPIC -DPIC -o .libs/seq.o\n",
            "libtool: compile:  gcc -DHAVE_CONFIG_H -I. -I../../src -fopenmp -O3 -g -O2 -MT seq.lo -MD -MP -MF .deps/seq.Tpo -c seq.c -o seq.o >/dev/null 2>&1\n",
            "mv -f .deps/seq.Tpo .deps/seq.Plo\n",
            "/bin/bash ../../libtool --tag=CC   --mode=compile gcc -DHAVE_CONFIG_H -I. -I../../src    -fopenmp  -O3 -g -O2 -MT symmatrix.lo -MD -MP -MF .deps/symmatrix.Tpo -c -o symmatrix.lo symmatrix.c\n",
            "libtool: compile:  gcc -DHAVE_CONFIG_H -I. -I../../src -fopenmp -O3 -g -O2 -MT symmatrix.lo -MD -MP -MF .deps/symmatrix.Tpo -c symmatrix.c  -fPIC -DPIC -o .libs/symmatrix.o\n",
            "libtool: compile:  gcc -DHAVE_CONFIG_H -I. -I../../src -fopenmp -O3 -g -O2 -MT symmatrix.lo -MD -MP -MF .deps/symmatrix.Tpo -c symmatrix.c -o symmatrix.o >/dev/null 2>&1\n",
            "mv -f .deps/symmatrix.Tpo .deps/symmatrix.Plo\n",
            "/bin/bash ../../libtool --tag=CC   --mode=compile gcc -DHAVE_CONFIG_H -I. -I../../src    -fopenmp  -O3 -g -O2 -MT tree.lo -MD -MP -MF .deps/tree.Tpo -c -o tree.lo tree.c\n",
            "libtool: compile:  gcc -DHAVE_CONFIG_H -I. -I../../src -fopenmp -O3 -g -O2 -MT tree.lo -MD -MP -MF .deps/tree.Tpo -c tree.c  -fPIC -DPIC -o .libs/tree.o\n",
            "libtool: compile:  gcc -DHAVE_CONFIG_H -I. -I../../src -fopenmp -O3 -g -O2 -MT tree.lo -MD -MP -MF .deps/tree.Tpo -c tree.c -o tree.o >/dev/null 2>&1\n",
            "mv -f .deps/tree.Tpo .deps/tree.Plo\n",
            "/bin/bash ../../libtool --tag=CC   --mode=compile gcc -DHAVE_CONFIG_H -I. -I../../src    -fopenmp  -O3 -g -O2 -MT util.lo -MD -MP -MF .deps/util.Tpo -c -o util.lo util.c\n",
            "libtool: compile:  gcc -DHAVE_CONFIG_H -I. -I../../src -fopenmp -O3 -g -O2 -MT util.lo -MD -MP -MF .deps/util.Tpo -c util.c  -fPIC -DPIC -o .libs/util.o\n",
            "libtool: compile:  gcc -DHAVE_CONFIG_H -I. -I../../src -fopenmp -O3 -g -O2 -MT util.lo -MD -MP -MF .deps/util.Tpo -c util.c -o util.o >/dev/null 2>&1\n",
            "mv -f .deps/util.Tpo .deps/util.Plo\n",
            "/bin/bash ../../libtool --tag=CC   --mode=compile gcc -DHAVE_CONFIG_H -I. -I../../src    -fopenmp  -O3 -g -O2 -MT weights.lo -MD -MP -MF .deps/weights.Tpo -c -o weights.lo weights.c\n",
            "libtool: compile:  gcc -DHAVE_CONFIG_H -I. -I../../src -fopenmp -O3 -g -O2 -MT weights.lo -MD -MP -MF .deps/weights.Tpo -c weights.c  -fPIC -DPIC -o .libs/weights.o\n",
            "libtool: compile:  gcc -DHAVE_CONFIG_H -I. -I../../src -fopenmp -O3 -g -O2 -MT weights.lo -MD -MP -MF .deps/weights.Tpo -c weights.c -o weights.o >/dev/null 2>&1\n",
            "mv -f .deps/weights.Tpo .deps/weights.Plo\n",
            "/bin/bash ../../libtool --tag=CC   --mode=link gcc -fopenmp  -O3 -g -O2   -o libclustal.la  hhalign_wrapper.lo ktuple_pair.lo list.lo log.lo muscle_upgma.lo muscle_tree.lo mbed.lo pair_dist.lo progress.lo seq.lo symmatrix.lo tree.lo util.lo weights.lo  -largtable2 -lm \n",
            "libtool: link: ar cru .libs/libclustal.a .libs/hhalign_wrapper.o .libs/ktuple_pair.o .libs/list.o .libs/log.o .libs/muscle_upgma.o .libs/muscle_tree.o .libs/mbed.o .libs/pair_dist.o .libs/progress.o .libs/seq.o .libs/symmatrix.o .libs/tree.o .libs/util.o .libs/weights.o \n",
            "libtool: link: ranlib .libs/libclustal.a\n",
            "libtool: link: ( cd \".libs\" && rm -f \"libclustal.la\" && ln -s \"../libclustal.la\" \"libclustal.la\" )\n",
            "make[3]: Leaving directory '/content/clustal-omega-1.2.4/src/clustal'\n",
            "make[3]: Entering directory '/content/clustal-omega-1.2.4/src'\n",
            "/bin/bash ../libtool --tag=CC   --mode=compile gcc -DHAVE_CONFIG_H -I.    -O3 -fopenmp -g -O2 -MT clustal-omega.lo -MD -MP -MF .deps/clustal-omega.Tpo -c -o clustal-omega.lo clustal-omega.c\n",
            "libtool: compile:  gcc -DHAVE_CONFIG_H -I. -O3 -fopenmp -g -O2 -MT clustal-omega.lo -MD -MP -MF .deps/clustal-omega.Tpo -c clustal-omega.c  -fPIC -DPIC -o .libs/clustal-omega.o\n",
            "libtool: compile:  gcc -DHAVE_CONFIG_H -I. -O3 -fopenmp -g -O2 -MT clustal-omega.lo -MD -MP -MF .deps/clustal-omega.Tpo -c clustal-omega.c -o clustal-omega.o >/dev/null 2>&1\n",
            "mv -f .deps/clustal-omega.Tpo .deps/clustal-omega.Plo\n",
            "/bin/bash ../libtool --tag=CC   --mode=link gcc -O3 -fopenmp -g -O2 -static  -o libclustalo.la -rpath /usr/local/lib clustal-omega.lo clustal/libclustal.la hhalign/libhhalign.la squid/libsquid.la kmpp/libkmpp.la  -largtable2 -lm \n",
            "libtool: link: (cd .libs/libclustalo.lax/libclustal.a && ar x \"/content/clustal-omega-1.2.4/src/clustal/.libs/libclustal.a\")\n",
            "libtool: link: (cd .libs/libclustalo.lax/libhhalign.a && ar x \"/content/clustal-omega-1.2.4/src/hhalign/.libs/libhhalign.a\")\n",
            "libtool: link: (cd .libs/libclustalo.lax/libsquid.a && ar x \"/content/clustal-omega-1.2.4/src/squid/.libs/libsquid.a\")\n",
            "libtool: link: (cd .libs/libclustalo.lax/libkmpp.a && ar x \"/content/clustal-omega-1.2.4/src/kmpp/.libs/libkmpp.a\")\n",
            "libtool: link: ar cru .libs/libclustalo.a  clustal-omega.o  .libs/libclustalo.lax/libclustal.a/muscle_tree.o .libs/libclustalo.lax/libclustal.a/weights.o .libs/libclustalo.lax/libclustal.a/log.o .libs/libclustalo.lax/libclustal.a/muscle_upgma.o .libs/libclustalo.lax/libclustal.a/progress.o .libs/libclustalo.lax/libclustal.a/util.o .libs/libclustalo.lax/libclustal.a/pair_dist.o .libs/libclustalo.lax/libclustal.a/symmatrix.o .libs/libclustalo.lax/libclustal.a/list.o .libs/libclustalo.lax/libclustal.a/ktuple_pair.o .libs/libclustalo.lax/libclustal.a/seq.o .libs/libclustalo.lax/libclustal.a/mbed.o .libs/libclustalo.lax/libclustal.a/hhalign_wrapper.o .libs/libclustalo.lax/libclustal.a/tree.o  .libs/libclustalo.lax/libhhalign.a/hhalign.o  .libs/libclustalo.lax/libsquid.a/sre_ctype.o .libs/libclustalo.lax/libsquid.a/phylip.o .libs/libclustalo.lax/libsquid.a/file.o .libs/libclustalo.lax/libsquid.a/types.o .libs/libclustalo.lax/libsquid.a/ssi.o .libs/libclustalo.lax/libsquid.a/msf.o .libs/libclustalo.lax/libsquid.a/vectorops.o .libs/libclustalo.lax/libsquid.a/sqio.o .libs/libclustalo.lax/libsquid.a/a2m.o .libs/libclustalo.lax/libsquid.a/gki.o .libs/libclustalo.lax/libsquid.a/gsi64.o .libs/libclustalo.lax/libsquid.a/selex.o .libs/libclustalo.lax/libsquid.a/getopt.o .libs/libclustalo.lax/libsquid.a/aligneval.o .libs/libclustalo.lax/libsquid.a/stack.o .libs/libclustalo.lax/libsquid.a/clustal.o .libs/libclustalo.lax/libsquid.a/sre_math.o .libs/libclustalo.lax/libsquid.a/squidcore.o .libs/libclustalo.lax/libsquid.a/sre_string.o .libs/libclustalo.lax/libsquid.a/hsregex.o .libs/libclustalo.lax/libsquid.a/stockholm.o .libs/libclustalo.lax/libsquid.a/eps.o .libs/libclustalo.lax/libsquid.a/cluster.o .libs/libclustalo.lax/libsquid.a/msa.o .libs/libclustalo.lax/libsquid.a/sre_random.o .libs/libclustalo.lax/libsquid.a/seqencode.o .libs/libclustalo.lax/libsquid.a/dayhoff.o .libs/libclustalo.lax/libsquid.a/gsi.o .libs/libclustalo.lax/libsquid.a/iupac.o .libs/libclustalo.lax/libsquid.a/sqerror.o .libs/libclustalo.lax/libsquid.a/revcomp.o .libs/libclustalo.lax/libsquid.a/shuffle.o .libs/libclustalo.lax/libsquid.a/alignio.o .libs/libclustalo.lax/libsquid.a/translate.o .libs/libclustalo.lax/libsquid.a/rk.o .libs/libclustalo.lax/libsquid.a/stopwatch.o .libs/libclustalo.lax/libsquid.a/weight.o  .libs/libclustalo.lax/libkmpp.a/KMeans.o .libs/libclustalo.lax/libkmpp.a/KmTree.o .libs/libclustalo.lax/libkmpp.a/KmUtils.o \n",
            "libtool: link: ranlib .libs/libclustalo.a\n",
            "libtool: link: rm -fr .libs/libclustalo.lax\n",
            "libtool: link: ( cd \".libs\" && rm -f \"libclustalo.la\" && ln -s \"../libclustalo.la\" \"libclustalo.la\" )\n",
            "g++ -DHAVE_CONFIG_H -I.    -O3 -fopenmp -g -O2 -MT main.o -MD -MP -MF .deps/main.Tpo -c -o main.o main.cpp\n",
            "mv -f .deps/main.Tpo .deps/main.Po\n",
            "gcc -DHAVE_CONFIG_H -I.    -O3 -fopenmp -g -O2 -MT mymain.o -MD -MP -MF .deps/mymain.Tpo -c -o mymain.o mymain.c\n",
            "mv -f .deps/mymain.Tpo .deps/mymain.Po\n",
            "/bin/bash ../libtool --tag=CXX   --mode=link g++ -O3 -fopenmp -g -O2   -o clustalo main.o mymain.o libclustalo.la -largtable2 -lm \n",
            "libtool: link: g++ -O3 -fopenmp -g -O2 -o clustalo main.o mymain.o  ./.libs/libclustalo.a -largtable2 -lm\n",
            "make[3]: Leaving directory '/content/clustal-omega-1.2.4/src'\n",
            "make[2]: Leaving directory '/content/clustal-omega-1.2.4/src'\n",
            "make[1]: Leaving directory '/content/clustal-omega-1.2.4/src'\n",
            "make[1]: Entering directory '/content/clustal-omega-1.2.4'\n",
            "make[1]: Nothing to be done for 'all-am'.\n",
            "make[1]: Leaving directory '/content/clustal-omega-1.2.4'\n",
            "Making install in src\n",
            "make[1]: Entering directory '/content/clustal-omega-1.2.4/src'\n",
            "Making install in hhalign\n",
            "make[2]: Entering directory '/content/clustal-omega-1.2.4/src/hhalign'\n",
            "make[3]: Entering directory '/content/clustal-omega-1.2.4/src/hhalign'\n",
            "make[3]: Nothing to be done for 'install-exec-am'.\n",
            "test -z \"/usr/local/include/clustalo/hhalign\" || /usr/bin/mkdir -p \"/usr/local/include/clustalo/hhalign\"\n",
            " /usr/bin/install -c -m 644 'general.h' '/usr/local/include/clustalo/hhalign/general.h'\n",
            " /usr/bin/install -c -m 644 'hhfunc.h' '/usr/local/include/clustalo/hhalign/hhfunc.h'\n",
            "make[3]: Leaving directory '/content/clustal-omega-1.2.4/src/hhalign'\n",
            "make[2]: Leaving directory '/content/clustal-omega-1.2.4/src/hhalign'\n",
            "Making install in squid\n",
            "make[2]: Entering directory '/content/clustal-omega-1.2.4/src/squid'\n",
            "make[3]: Entering directory '/content/clustal-omega-1.2.4/src/squid'\n",
            "make[3]: Nothing to be done for 'install-exec-am'.\n",
            "test -z \"/usr/local/include/clustalo/squid\" || /usr/bin/mkdir -p \"/usr/local/include/clustalo/squid\"\n",
            " /usr/bin/install -c -m 644 'gki.h' '/usr/local/include/clustalo/squid/gki.h'\n",
            " /usr/bin/install -c -m 644 'gsi64.h' '/usr/local/include/clustalo/squid/gsi64.h'\n",
            " /usr/bin/install -c -m 644 'msa.h' '/usr/local/include/clustalo/squid/msa.h'\n",
            " /usr/bin/install -c -m 644 'rk.h' '/usr/local/include/clustalo/squid/rk.h'\n",
            " /usr/bin/install -c -m 644 'squid.h' '/usr/local/include/clustalo/squid/squid.h'\n",
            " /usr/bin/install -c -m 644 'stopwatch.h' '/usr/local/include/clustalo/squid/stopwatch.h'\n",
            " /usr/bin/install -c -m 644 'sqfuncs.h' '/usr/local/include/clustalo/squid/sqfuncs.h'\n",
            " /usr/bin/install -c -m 644 'sre_random.h' '/usr/local/include/clustalo/squid/sre_random.h'\n",
            " /usr/bin/install -c -m 644 'ssi.h' '/usr/local/include/clustalo/squid/ssi.h'\n",
            " /usr/bin/install -c -m 644 'stockholm.h' '/usr/local/include/clustalo/squid/stockholm.h'\n",
            " /usr/bin/install -c -m 644 'vectorops.h' '/usr/local/include/clustalo/squid/vectorops.h'\n",
            " /usr/bin/install -c -m 644 'version.h' '/usr/local/include/clustalo/squid/version.h'\n",
            "make[3]: Leaving directory '/content/clustal-omega-1.2.4/src/squid'\n",
            "make[2]: Leaving directory '/content/clustal-omega-1.2.4/src/squid'\n",
            "Making install in kmpp\n",
            "make[2]: Entering directory '/content/clustal-omega-1.2.4/src/kmpp'\n",
            "make[3]: Entering directory '/content/clustal-omega-1.2.4/src/kmpp'\n",
            "make[3]: Nothing to be done for 'install-exec-am'.\n",
            "make[3]: Nothing to be done for 'install-data-am'.\n",
            "make[3]: Leaving directory '/content/clustal-omega-1.2.4/src/kmpp'\n",
            "make[2]: Leaving directory '/content/clustal-omega-1.2.4/src/kmpp'\n",
            "Making install in clustal\n",
            "make[2]: Entering directory '/content/clustal-omega-1.2.4/src/clustal'\n",
            "make[3]: Entering directory '/content/clustal-omega-1.2.4/src/clustal'\n",
            "make[3]: Nothing to be done for 'install-exec-am'.\n",
            "test -z \"/usr/local/include/clustalo/clustal\" || /usr/bin/mkdir -p \"/usr/local/include/clustalo/clustal\"\n",
            " /usr/bin/install -c -m 644 'hhalign_wrapper.h' '/usr/local/include/clustalo/clustal/hhalign_wrapper.h'\n",
            " /usr/bin/install -c -m 644 'ktuple_pair.h' '/usr/local/include/clustalo/clustal/ktuple_pair.h'\n",
            " /usr/bin/install -c -m 644 'log.h' '/usr/local/include/clustalo/clustal/log.h'\n",
            " /usr/bin/install -c -m 644 'mbed.h' '/usr/local/include/clustalo/clustal/mbed.h'\n",
            " /usr/bin/install -c -m 644 'muscle_tree.h' '/usr/local/include/clustalo/clustal/muscle_tree.h'\n",
            " /usr/bin/install -c -m 644 'pair_dist.h' '/usr/local/include/clustalo/clustal/pair_dist.h'\n",
            " /usr/bin/install -c -m 644 'progress.h' '/usr/local/include/clustalo/clustal/progress.h'\n",
            " /usr/bin/install -c -m 644 'seq.h' '/usr/local/include/clustalo/clustal/seq.h'\n",
            " /usr/bin/install -c -m 644 'symmatrix.h' '/usr/local/include/clustalo/clustal/symmatrix.h'\n",
            " /usr/bin/install -c -m 644 'tree.h' '/usr/local/include/clustalo/clustal/tree.h'\n",
            " /usr/bin/install -c -m 644 'util.h' '/usr/local/include/clustalo/clustal/util.h'\n",
            " /usr/bin/install -c -m 644 'weights.h' '/usr/local/include/clustalo/clustal/weights.h'\n",
            "make[3]: Leaving directory '/content/clustal-omega-1.2.4/src/clustal'\n",
            "make[2]: Leaving directory '/content/clustal-omega-1.2.4/src/clustal'\n",
            "make[2]: Entering directory '/content/clustal-omega-1.2.4/src'\n",
            "make[3]: Entering directory '/content/clustal-omega-1.2.4/src'\n",
            "test -z \"/usr/local/lib\" || /usr/bin/mkdir -p \"/usr/local/lib\"\n",
            " /bin/bash ../libtool   --mode=install /usr/bin/install -c  'libclustalo.la' '/usr/local/lib/libclustalo.la'\n",
            "libtool: install: /usr/bin/install -c .libs/libclustalo.lai /usr/local/lib/libclustalo.la\n",
            "libtool: install: /usr/bin/install -c .libs/libclustalo.a /usr/local/lib/libclustalo.a\n",
            "libtool: install: chmod 644 /usr/local/lib/libclustalo.a\n",
            "libtool: install: ranlib /usr/local/lib/libclustalo.a\n",
            "libtool: finish: PATH=\"/usr/local/sbin:/usr/local/bin:/usr/sbin:/usr/bin:/sbin:/bin:/snap/bin:/sbin\" ldconfig -n /usr/local/lib\n",
            "----------------------------------------------------------------------\n",
            "Libraries have been installed in:\n",
            "   /usr/local/lib\n",
            "\n",
            "If you ever happen to want to link against installed libraries\n",
            "in a given directory, LIBDIR, you must either use libtool, and\n",
            "specify the full pathname of the library, or use the `-LLIBDIR'\n",
            "flag during linking and do at least one of the following:\n",
            "   - add LIBDIR to the `LD_LIBRARY_PATH' environment variable\n",
            "     during execution\n",
            "   - add LIBDIR to the `LD_RUN_PATH' environment variable\n",
            "     during linking\n",
            "   - use the `-Wl,-rpath -Wl,LIBDIR' linker flag\n",
            "   - have your system administrator add LIBDIR to `/etc/ld.so.conf'\n",
            "\n",
            "See any operating system documentation about shared libraries for\n",
            "more information, such as the ld(1) and ld.so(8) manual pages.\n",
            "----------------------------------------------------------------------\n",
            "test -z \"/usr/local/bin\" || /usr/bin/mkdir -p \"/usr/local/bin\"\n",
            "  /bin/bash ../libtool   --mode=install /usr/bin/install -c 'clustalo' '/usr/local/bin/clustalo'\n",
            "libtool: install: /usr/bin/install -c clustalo /usr/local/bin/clustalo\n",
            "test -z \"/usr/local/include/clustalo/\" || /usr/bin/mkdir -p \"/usr/local/include/clustalo/\"\n",
            " /usr/bin/install -c -m 644 'clustal-omega-config.h' '/usr/local/include/clustalo//clustal-omega-config.h'\n",
            " /usr/bin/install -c -m 644 'clustal-omega.h' '/usr/local/include/clustalo//clustal-omega.h'\n",
            "make[3]: Leaving directory '/content/clustal-omega-1.2.4/src'\n",
            "make[2]: Leaving directory '/content/clustal-omega-1.2.4/src'\n",
            "make[1]: Leaving directory '/content/clustal-omega-1.2.4/src'\n",
            "make[1]: Entering directory '/content/clustal-omega-1.2.4'\n",
            "make[2]: Entering directory '/content/clustal-omega-1.2.4'\n",
            "make[2]: Nothing to be done for 'install-exec-am'.\n",
            "test -z \"/usr/local/share/doc/clustal-omega\" || /usr/bin/mkdir -p \"/usr/local/share/doc/clustal-omega\"\n",
            " /usr/bin/install -c -m 644 'README' '/usr/local/share/doc/clustal-omega/README'\n",
            "test -z \"/usr/local/lib/pkgconfig\" || /usr/bin/mkdir -p \"/usr/local/lib/pkgconfig\"\n",
            " /usr/bin/install -c -m 644 'clustalo.pc' '/usr/local/lib/pkgconfig/clustalo.pc'\n",
            "make[2]: Leaving directory '/content/clustal-omega-1.2.4'\n",
            "make[1]: Leaving directory '/content/clustal-omega-1.2.4'\n"
          ]
        },
        {
          "output_type": "stream",
          "name": "stderr",
          "text": [
            "ar: `u' modifier ignored since `D' is the default (see `U')\n",
            "ar: `u' modifier ignored since `D' is the default (see `U')\n",
            "ar: `u' modifier ignored since `D' is the default (see `U')\n",
            "ar: `u' modifier ignored since `D' is the default (see `U')\n",
            "ar: `u' modifier ignored since `D' is the default (see `U')\n",
            "/usr/bin/ld: ./.libs/libclustalo.a(clustal-omega.o): in function `AlnToHHMFile':\n",
            "/content/clustal-omega-1.2.4/src/clustal-omega.c:393: warning: the use of `mktemp' is dangerous, better use `mkstemp' or `mkdtemp'\n"
          ]
        }
      ]
    },
    {
      "cell_type": "code",
      "source": [
        "# Alternative is to use the binary instead of install through the source code.\n",
        "#!wget http://www.clustal.org/omega/clustalo-1.2.4-Ubuntu-x86_64\n",
        "#!sudo chmod +x /content/clustalo-1.2.4-Ubuntu-x86_64\n",
        "!./clustalo-1.2.4-Ubuntu-x86_64 --help"
      ],
      "metadata": {
        "id": "lpyD_xOjMQX8",
        "colab": {
          "base_uri": "https://localhost:8080/"
        },
        "outputId": "817b74b5-9517-4035-c820-54bf67ca6b46"
      },
      "execution_count": null,
      "outputs": [
        {
          "output_type": "stream",
          "name": "stdout",
          "text": [
            "Clustal Omega - 1.2.4 (AndreaGiacomo)\n",
            "\n",
            "If you like Clustal-Omega please cite:\n",
            " Sievers F, Wilm A, Dineen D, Gibson TJ, Karplus K, Li W, Lopez R, McWilliam H, Remmert M, Söding J, Thompson JD, Higgins DG.\n",
            " Fast, scalable generation of high-quality protein multiple sequence alignments using Clustal Omega.\n",
            " Mol Syst Biol. 2011 Oct 11;7:539. doi: 10.1038/msb.2011.75. PMID: 21988835.\n",
            "If you don't like Clustal-Omega, please let us know why (and cite us anyway).\n",
            "\n",
            "Check http://www.clustal.org for more information and updates.\n",
            "\n",
            "Usage: clustalo-1.2.4-Ubuntu-x86_64 [-hv] [-i {<file>,-}] [--hmm-in=<file>]... [--hmm-batch=<file>] [--dealign] [--profile1=<file>] [--profile2=<file>] [--is-profile] [-t {Protein, RNA, DNA}] [--infmt={a2m=fa[sta],clu[stal],msf,phy[lip],selex,st[ockholm],vie[nna]}] [--distmat-in=<file>] [--distmat-out=<file>] [--guidetree-in=<file>] [--guidetree-out=<file>] [--pileup] [--full] [--full-iter] [--cluster-size=<n>] [--clustering-out=<file>] [--trans=<n>] [--posterior-out=<file>] [--use-kimura] [--percent-id] [-o {file,-}] [--outfmt={a2m=fa[sta],clu[stal],msf,phy[lip],selex,st[ockholm],vie[nna]}] [--residuenumber] [--wrap=<n>] [--output-order={input-order,tree-order}] [--iterations=<n>] [--max-guidetree-iterations=<n>] [--max-hmm-iterations=<n>] [--maxnumseq=<n>] [--maxseqlen=<l>] [--auto] [--threads=<n>] [--pseudo=<file>] [-l <file>] [--version] [--long-version] [--force] [--MAC-RAM=<n>]\n",
            "\n",
            "A typical invocation would be: clustalo-1.2.4-Ubuntu-x86_64 -i my-in-seqs.fa -o my-out-seqs.fa -v\n",
            "See below for a list of all options.\n",
            "                            \n",
            "Sequence Input:\n",
            "  -i, --in, --infile={<file>,-} Multiple sequence input file (- for stdin)\n",
            "  --hmm-in=<file>           HMM input files\n",
            "  --hmm-batch=<file>        specify HMMs for individual sequences\n",
            "  --dealign                 Dealign input sequences\n",
            "  --profile1, --p1=<file>   Pre-aligned multiple sequence file (aligned columns will be kept fix)\n",
            "  --profile2, --p2=<file>   Pre-aligned multiple sequence file (aligned columns will be kept fix)\n",
            "  --is-profile              disable check if profile, force profile (default no)\n",
            "  -t, --seqtype={Protein, RNA, DNA} Force a sequence type (default: auto)\n",
            "  --infmt={a2m=fa[sta],clu[stal],msf,phy[lip],selex,st[ockholm],vie[nna]} Forced sequence input file format (default: auto)\n",
            "                            \n",
            "Clustering:\n",
            "  --distmat-in=<file>       Pairwise distance matrix input file (skips distance computation)\n",
            "  --distmat-out=<file>      Pairwise distance matrix output file\n",
            "  --guidetree-in=<file>     Guide tree input file (skips distance computation and guide-tree clustering step)\n",
            "  --guidetree-out=<file>    Guide tree output file\n",
            "  --pileup                  Sequentially align sequences\n",
            "  --full                    Use full distance matrix for guide-tree calculation (might be slow; mBed is default)\n",
            "  --full-iter               Use full distance matrix for guide-tree calculation during iteration (might be slowish; mBed is default)\n",
            "  --cluster-size=<n>        soft maximum of sequences in sub-clusters\n",
            "  --clustering-out=<file>   Clustering output file\n",
            "  --trans=<n>               use transitivity (default: 0)\n",
            "  --posterior-out=<file>    Posterior probability output file\n",
            "  --use-kimura              use Kimura distance correction for aligned sequences (default no)\n",
            "  --percent-id              convert distances into percent identities (default no)\n",
            "                            \n",
            "Alignment Output:\n",
            "  -o, --out, --outfile={file,-} Multiple sequence alignment output file (default: stdout)\n",
            "  --outfmt={a2m=fa[sta],clu[stal],msf,phy[lip],selex,st[ockholm],vie[nna]} MSA output file format (default: fasta)\n",
            "  --residuenumber, --resno  in Clustal format print residue numbers (default no)\n",
            "  --wrap=<n>                number of residues before line-wrap in output\n",
            "  --output-order={input-order,tree-order} MSA output order like in input/guide-tree\n",
            "                            \n",
            "Iteration:\n",
            "  --iterations, --iter=<n>  Number of (combined guide-tree/HMM) iterations\n",
            "  --max-guidetree-iterations=<n> Maximum number of guidetree iterations\n",
            "  --max-hmm-iterations=<n>  Maximum number of HMM iterations\n",
            "                            \n",
            "Limits (will exit early, if exceeded):\n",
            "  --maxnumseq=<n>           Maximum allowed number of sequences\n",
            "  --maxseqlen=<l>           Maximum allowed sequence length\n",
            "                            \n",
            "Miscellaneous:\n",
            "  --auto                    Set options automatically (might overwrite some of your options)\n",
            "  --threads=<n>             Number of processors to use\n",
            "  --pseudo=<file>           Input file for pseudo-count parameters\n",
            "  -l, --log=<file>          Log all non-essential output to this file\n",
            "  -h, --help                Print this help and exit\n",
            "  -v, --verbose             Verbose output (increases if given multiple times)\n",
            "  --version                 Print version information and exit\n",
            "  --long-version            Print long version information and exit\n",
            "  --force                   Force file overwriting\n"
          ]
        }
      ]
    },
    {
      "cell_type": "markdown",
      "source": [
        "Usage: clustalo-1.2.4-Ubuntu-x86_64 [-hv] [-i {<file>,-}] [--hmm-in=<file>]... [--hmm-batch=<file>] [--dealign] [--profile1=<file>] [--profile2=<file>] [--is-profile] [-t {Protein, RNA, DNA}] [--infmt={a2m=fa[sta],clu[stal],msf,phy[lip],selex,st[ockholm],vie[nna]}] [--distmat-in=<file>] [--distmat-out=<file>] [--guidetree-in=<file>] [--guidetree-out=<file>] [--pileup] [--full] [--full-iter] [--cluster-size=<n>] [--clustering-out=<file>] [--trans=<n>] [--posterior-out=<file>] [--use-kimura] [--percent-id] [-o {file,-}] [--outfmt={a2m=fa[sta],clu[stal],msf,phy[lip],selex,st[ockholm],vie[nna]}] [--residuenumber] [--wrap=<n>] [--output-order={input-order,tree-order}] [--iterations=<n>] [--max-guidetree-iterations=<n>] [--max-hmm-iterations=<n>] [--maxnumseq=<n>] [--maxseqlen=<l>] [--auto] [--threads=<n>] [--pseudo=<file>] [-l <file>] [--version] [--long-version] [--force] [--MAC-RAM=<n>]"
      ],
      "metadata": {
        "id": "Zb5nFdtaMzfH"
      }
    },
    {
      "cell_type": "code",
      "source": [
        "from Bio.Align.Applications import ClustalwCommandline\n",
        "print(help(ClustalwCommandline))"
      ],
      "metadata": {
        "colab": {
          "base_uri": "https://localhost:8080/"
        },
        "id": "cVBDRPj_NGKe",
        "outputId": "4abda3a8-26c6-42ea-8fb4-f9154e2843b3"
      },
      "execution_count": null,
      "outputs": [
        {
          "output_type": "stream",
          "name": "stdout",
          "text": [
            "Help on class ClustalwCommandline in module Bio.Align.Applications._Clustalw:\n",
            "\n",
            "class ClustalwCommandline(Bio.Application.AbstractCommandline)\n",
            " |  ClustalwCommandline(cmd='clustalw', **kwargs)\n",
            " |  \n",
            " |  Command line wrapper for clustalw (version one or two).\n",
            " |  \n",
            " |  http://www.clustal.org/\n",
            " |  \n",
            " |  Notes\n",
            " |  -----\n",
            " |  Last checked against versions: 1.83 and 2.1\n",
            " |  \n",
            " |  References\n",
            " |  ----------\n",
            " |  Larkin MA, Blackshields G, Brown NP, Chenna R, McGettigan PA,\n",
            " |  McWilliam H, Valentin F, Wallace IM, Wilm A, Lopez R, Thompson JD,\n",
            " |  Gibson TJ, Higgins DG. (2007). Clustal W and Clustal X version 2.0.\n",
            " |  Bioinformatics, 23, 2947-2948.\n",
            " |  \n",
            " |  Examples\n",
            " |  --------\n",
            " |  >>> from Bio.Align.Applications import ClustalwCommandline\n",
            " |  >>> in_file = \"unaligned.fasta\"\n",
            " |  >>> clustalw_cline = ClustalwCommandline(\"clustalw2\", infile=in_file)\n",
            " |  >>> print(clustalw_cline)\n",
            " |  clustalw2 -infile=unaligned.fasta\n",
            " |  \n",
            " |  You would typically run the command line with clustalw_cline() or via\n",
            " |  the Python subprocess module, as described in the Biopython tutorial.\n",
            " |  \n",
            " |  Method resolution order:\n",
            " |      ClustalwCommandline\n",
            " |      Bio.Application.AbstractCommandline\n",
            " |      builtins.object\n",
            " |  \n",
            " |  Methods defined here:\n",
            " |  \n",
            " |  __init__(self, cmd='clustalw', **kwargs)\n",
            " |      Initialize the class.\n",
            " |  \n",
            " |  ----------------------------------------------------------------------\n",
            " |  Data descriptors defined here:\n",
            " |  \n",
            " |  align\n",
            " |      Do full multiple alignment.\n",
            " |      \n",
            " |      This property controls the addition of the -align switch, treat this property as a boolean.\n",
            " |  \n",
            " |  bootlabels\n",
            " |      Node OR branch position of bootstrap values in tree display\n",
            " |      \n",
            " |      This controls the addition of the -bootlabels parameter and its associated value.  Set this property to the argument value required.\n",
            " |  \n",
            " |  bootstrap\n",
            " |      Bootstrap a NJ tree (n= number of bootstraps; def. = 1000).\n",
            " |      \n",
            " |      This controls the addition of the -bootstrap parameter and its associated value.  Set this property to the argument value required.\n",
            " |  \n",
            " |  case\n",
            " |      LOWER or UPPER (for GDE output only)\n",
            " |      \n",
            " |      This controls the addition of the -case parameter and its associated value.  Set this property to the argument value required.\n",
            " |  \n",
            " |  check\n",
            " |      Outline the command line params.\n",
            " |      \n",
            " |      This property controls the addition of the -check switch, treat this property as a boolean.\n",
            " |  \n",
            " |  clustering\n",
            " |      NJ or UPGMA\n",
            " |      \n",
            " |      This controls the addition of the -clustering parameter and its associated value.  Set this property to the argument value required.\n",
            " |  \n",
            " |  convert\n",
            " |      Output the input sequences in a different file format.\n",
            " |      \n",
            " |      This property controls the addition of the -convert switch, treat this property as a boolean.\n",
            " |  \n",
            " |  dnamatrix\n",
            " |      DNA weight matrix=IUB, CLUSTALW or filename\n",
            " |      \n",
            " |      This controls the addition of the -dnamatrix parameter and its associated value.  Set this property to the argument value required.\n",
            " |  \n",
            " |  endgaps\n",
            " |      No end gap separation pen.\n",
            " |      \n",
            " |      This property controls the addition of the -endgaps switch, treat this property as a boolean.\n",
            " |  \n",
            " |  fullhelp\n",
            " |      Output full help content.\n",
            " |      \n",
            " |      This property controls the addition of the -fullhelp switch, treat this property as a boolean.\n",
            " |  \n",
            " |  gapdist\n",
            " |      Gap separation pen. range\n",
            " |      \n",
            " |      This controls the addition of the -gapdist parameter and its associated value.  Set this property to the argument value required.\n",
            " |  \n",
            " |  gapext\n",
            " |      Gap extension penalty\n",
            " |      \n",
            " |      This controls the addition of the -gapext parameter and its associated value.  Set this property to the argument value required.\n",
            " |  \n",
            " |  gapopen\n",
            " |      Gap opening penalty\n",
            " |      \n",
            " |      This controls the addition of the -gapopen parameter and its associated value.  Set this property to the argument value required.\n",
            " |  \n",
            " |  helixendin\n",
            " |      Number of residues inside helix to be treated as terminal\n",
            " |      \n",
            " |      This controls the addition of the -helixendin parameter and its associated value.  Set this property to the argument value required.\n",
            " |  \n",
            " |  helixendout\n",
            " |      Number of residues outside helix to be treated as terminal\n",
            " |      \n",
            " |      This controls the addition of the -helixendout parameter and its associated value.  Set this property to the argument value required.\n",
            " |  \n",
            " |  helixgap\n",
            " |      Gap penalty for helix core residues\n",
            " |      \n",
            " |      This controls the addition of the -helixgap parameter and its associated value.  Set this property to the argument value required.\n",
            " |  \n",
            " |  help\n",
            " |      Outline the command line params.\n",
            " |      \n",
            " |      This property controls the addition of the -help switch, treat this property as a boolean.\n",
            " |  \n",
            " |  hgapresidues\n",
            " |      List hydrophilic res.\n",
            " |      \n",
            " |      This property controls the addition of the -hgapresidues switch, treat this property as a boolean.\n",
            " |  \n",
            " |  infile\n",
            " |      Input sequences.\n",
            " |      \n",
            " |      This controls the addition of the -infile parameter and its associated value.  Set this property to the argument value required.\n",
            " |  \n",
            " |  iteration\n",
            " |      NONE or TREE or ALIGNMENT\n",
            " |      \n",
            " |      This controls the addition of the -iteration parameter and its associated value.  Set this property to the argument value required.\n",
            " |  \n",
            " |  kimura\n",
            " |      Use Kimura's correction.\n",
            " |      \n",
            " |      This property controls the addition of the -kimura switch, treat this property as a boolean.\n",
            " |  \n",
            " |  ktuple\n",
            " |      Word size\n",
            " |      \n",
            " |      This controls the addition of the -ktuple parameter and its associated value.  Set this property to the argument value required.\n",
            " |  \n",
            " |  loopgap\n",
            " |      Gap penalty for loop regions\n",
            " |      \n",
            " |      This controls the addition of the -loopgap parameter and its associated value.  Set this property to the argument value required.\n",
            " |  \n",
            " |  matrix\n",
            " |      Protein weight matrix=BLOSUM, PAM, GONNET, ID or filename\n",
            " |      \n",
            " |      This controls the addition of the -matrix parameter and its associated value.  Set this property to the argument value required.\n",
            " |  \n",
            " |  maxdiv\n",
            " |      % ident. for delay\n",
            " |      \n",
            " |      This controls the addition of the -maxdiv parameter and its associated value.  Set this property to the argument value required.\n",
            " |  \n",
            " |  maxseqlen\n",
            " |      Maximum allowed input sequence length\n",
            " |      \n",
            " |      This controls the addition of the -maxseqlen parameter and its associated value.  Set this property to the argument value required.\n",
            " |  \n",
            " |  negative\n",
            " |      Protein alignment with negative values in matrix\n",
            " |      \n",
            " |      This property controls the addition of the -negative switch, treat this property as a boolean.\n",
            " |  \n",
            " |  newtree\n",
            " |      Output file name for newly created guide tree\n",
            " |      \n",
            " |      This controls the addition of the -newtree parameter and its associated value.  Set this property to the argument value required.\n",
            " |  \n",
            " |  newtree1\n",
            " |      Output file name for new guide tree of profile1\n",
            " |      \n",
            " |      This controls the addition of the -newtree1 parameter and its associated value.  Set this property to the argument value required.\n",
            " |  \n",
            " |  newtree2\n",
            " |      Output file for new guide tree of profile2\n",
            " |      \n",
            " |      This controls the addition of the -newtree2 parameter and its associated value.  Set this property to the argument value required.\n",
            " |  \n",
            " |  nohgap\n",
            " |      Hydrophilic gaps off\n",
            " |      \n",
            " |      This property controls the addition of the -nohgap switch, treat this property as a boolean.\n",
            " |  \n",
            " |  nopgap\n",
            " |      Residue-specific gaps off\n",
            " |      \n",
            " |      This property controls the addition of the -nopgap switch, treat this property as a boolean.\n",
            " |  \n",
            " |  nosecstr1\n",
            " |      Do not use secondary structure-gap penalty mask for profile 1\n",
            " |      \n",
            " |      This property controls the addition of the -nosecstr1 switch, treat this property as a boolean.\n",
            " |  \n",
            " |  nosecstr2\n",
            " |      Do not use secondary structure-gap penalty mask for profile 2\n",
            " |      \n",
            " |      This property controls the addition of the -nosecstr2 switch, treat this property as a boolean.\n",
            " |  \n",
            " |  noweights\n",
            " |      Disable sequence weighting\n",
            " |      \n",
            " |      This property controls the addition of the -noweights switch, treat this property as a boolean.\n",
            " |  \n",
            " |  numiter\n",
            " |      maximum number of iterations to perform\n",
            " |      \n",
            " |      This controls the addition of the -numiter parameter and its associated value.  Set this property to the argument value required.\n",
            " |  \n",
            " |  options\n",
            " |      List the command line parameters\n",
            " |      \n",
            " |      This property controls the addition of the -options switch, treat this property as a boolean.\n",
            " |  \n",
            " |  outfile\n",
            " |      Output sequence alignment file name\n",
            " |      \n",
            " |      This controls the addition of the -outfile parameter and its associated value.  Set this property to the argument value required.\n",
            " |  \n",
            " |  outorder\n",
            " |      Output taxon order: INPUT or ALIGNED\n",
            " |      \n",
            " |      This controls the addition of the -outorder parameter and its associated value.  Set this property to the argument value required.\n",
            " |  \n",
            " |  output\n",
            " |      Output format: CLUSTAL(default), GCG, GDE, PHYLIP, PIR, NEXUS and FASTA\n",
            " |      \n",
            " |      This controls the addition of the -output parameter and its associated value.  Set this property to the argument value required.\n",
            " |  \n",
            " |  outputtree\n",
            " |      nj OR phylip OR dist OR nexus\n",
            " |      \n",
            " |      This controls the addition of the -outputtree parameter and its associated value.  Set this property to the argument value required.\n",
            " |  \n",
            " |  pairgap\n",
            " |      Gap penalty\n",
            " |      \n",
            " |      This controls the addition of the -pairgap parameter and its associated value.  Set this property to the argument value required.\n",
            " |  \n",
            " |  pim\n",
            " |      Output percent identity matrix (while calculating the tree).\n",
            " |      \n",
            " |      This property controls the addition of the -pim switch, treat this property as a boolean.\n",
            " |  \n",
            " |  profile\n",
            " |      Merge two alignments by profile alignment\n",
            " |      \n",
            " |      This property controls the addition of the -profile switch, treat this property as a boolean.\n",
            " |  \n",
            " |  profile1\n",
            " |      Profiles (old alignment).\n",
            " |      \n",
            " |      This controls the addition of the -profile1 parameter and its associated value.  Set this property to the argument value required.\n",
            " |  \n",
            " |  profile2\n",
            " |      Profiles (old alignment).\n",
            " |      \n",
            " |      This controls the addition of the -profile2 parameter and its associated value.  Set this property to the argument value required.\n",
            " |  \n",
            " |  pwdnamatrix\n",
            " |      DNA weight matrix=IUB, CLUSTALW or filename\n",
            " |      \n",
            " |      This controls the addition of the -pwdnamatrix parameter and its associated value.  Set this property to the argument value required.\n",
            " |  \n",
            " |  pwgapext\n",
            " |      Gap extension penalty\n",
            " |      \n",
            " |      This controls the addition of the -pwgapext parameter and its associated value.  Set this property to the argument value required.\n",
            " |  \n",
            " |  pwgapopen\n",
            " |      Gap opening penalty\n",
            " |      \n",
            " |      This controls the addition of the -pwgapopen parameter and its associated value.  Set this property to the argument value required.\n",
            " |  \n",
            " |  pwmatrix\n",
            " |      Protein weight matrix=BLOSUM, PAM, GONNET, ID or filename\n",
            " |      \n",
            " |      This controls the addition of the -pwmatrix parameter and its associated value.  Set this property to the argument value required.\n",
            " |  \n",
            " |  quicktree\n",
            " |      Use FAST algorithm for the alignment guide tree\n",
            " |      \n",
            " |      This property controls the addition of the -quicktree switch, treat this property as a boolean.\n",
            " |  \n",
            " |  quiet\n",
            " |      Reduce console output to minimum\n",
            " |      \n",
            " |      This property controls the addition of the -quiet switch, treat this property as a boolean.\n",
            " |  \n",
            " |  range\n",
            " |      Sequence range to write starting m to m+n. Input as string eg. '24,200'\n",
            " |      \n",
            " |      This controls the addition of the -range parameter and its associated value.  Set this property to the argument value required.\n",
            " |  \n",
            " |  score\n",
            " |      Either: PERCENT or ABSOLUTE\n",
            " |      \n",
            " |      This controls the addition of the -score parameter and its associated value.  Set this property to the argument value required.\n",
            " |  \n",
            " |  secstrout\n",
            " |      STRUCTURE or MASK or BOTH or NONE output in alignment file\n",
            " |      \n",
            " |      This controls the addition of the -secstrout parameter and its associated value.  Set this property to the argument value required.\n",
            " |  \n",
            " |  seed\n",
            " |      Seed number for bootstraps.\n",
            " |      \n",
            " |      This controls the addition of the -seed parameter and its associated value.  Set this property to the argument value required.\n",
            " |  \n",
            " |  seqno_range\n",
            " |      OFF or ON (NEW- for all output formats)\n",
            " |      \n",
            " |      This controls the addition of the -seqno_range parameter and its associated value.  Set this property to the argument value required.\n",
            " |  \n",
            " |  seqnos\n",
            " |      OFF or ON (for Clustal output only)\n",
            " |      \n",
            " |      This controls the addition of the -seqnos parameter and its associated value.  Set this property to the argument value required.\n",
            " |  \n",
            " |  sequences\n",
            " |      Sequentially add profile2 sequences to profile1 alignment\n",
            " |      \n",
            " |      This property controls the addition of the -sequences switch, treat this property as a boolean.\n",
            " |  \n",
            " |  stats\n",
            " |      Log some alignment statistics to file\n",
            " |      \n",
            " |      This controls the addition of the -stats parameter and its associated value.  Set this property to the argument value required.\n",
            " |  \n",
            " |  strandendin\n",
            " |      Number of residues inside strand to be treated as terminal\n",
            " |      \n",
            " |      This controls the addition of the -strandendin parameter and its associated value.  Set this property to the argument value required.\n",
            " |  \n",
            " |  strandendout\n",
            " |      Number of residues outside strand to be treated as terminal\n",
            " |      \n",
            " |      This controls the addition of the -strandendout parameter and its associated value.  Set this property to the argument value required.\n",
            " |  \n",
            " |  strandgap\n",
            " |      gap penalty for strand core residues\n",
            " |      \n",
            " |      This controls the addition of the -strandgap parameter and its associated value.  Set this property to the argument value required.\n",
            " |  \n",
            " |  terminalgap\n",
            " |      Gap penalty for structure termini\n",
            " |      \n",
            " |      This controls the addition of the -terminalgap parameter and its associated value.  Set this property to the argument value required.\n",
            " |  \n",
            " |  topdiags\n",
            " |      Number of best diags.\n",
            " |      \n",
            " |      This controls the addition of the -topdiags parameter and its associated value.  Set this property to the argument value required.\n",
            " |  \n",
            " |  tossgaps\n",
            " |      Ignore positions with gaps.\n",
            " |      \n",
            " |      This property controls the addition of the -tossgaps switch, treat this property as a boolean.\n",
            " |  \n",
            " |  transweight\n",
            " |      Transitions weighting\n",
            " |      \n",
            " |      This controls the addition of the -transweight parameter and its associated value.  Set this property to the argument value required.\n",
            " |  \n",
            " |  tree\n",
            " |      Calculate NJ tree.\n",
            " |      \n",
            " |      This property controls the addition of the -tree switch, treat this property as a boolean.\n",
            " |  \n",
            " |  type\n",
            " |      PROTEIN or DNA sequences\n",
            " |      \n",
            " |      This controls the addition of the -type parameter and its associated value.  Set this property to the argument value required.\n",
            " |  \n",
            " |  usetree\n",
            " |      File name of guide tree\n",
            " |      \n",
            " |      This controls the addition of the -usetree parameter and its associated value.  Set this property to the argument value required.\n",
            " |  \n",
            " |  usetree1\n",
            " |      File name of guide tree for profile1\n",
            " |      \n",
            " |      This controls the addition of the -usetree1 parameter and its associated value.  Set this property to the argument value required.\n",
            " |  \n",
            " |  usetree2\n",
            " |      File name of guide tree for profile2\n",
            " |      \n",
            " |      This controls the addition of the -usetree2 parameter and its associated value.  Set this property to the argument value required.\n",
            " |  \n",
            " |  window\n",
            " |      Window around best diags.\n",
            " |      \n",
            " |      This controls the addition of the -window parameter and its associated value.  Set this property to the argument value required.\n",
            " |  \n",
            " |  ----------------------------------------------------------------------\n",
            " |  Methods inherited from Bio.Application.AbstractCommandline:\n",
            " |  \n",
            " |  __call__(self, stdin=None, stdout=True, stderr=True, cwd=None, env=None)\n",
            " |      Execute command, wait for it to finish, return (stdout, stderr).\n",
            " |      \n",
            " |      Runs the command line tool and waits for it to finish. If it returns\n",
            " |      a non-zero error level, an exception is raised. Otherwise two strings\n",
            " |      are returned containing stdout and stderr.\n",
            " |      \n",
            " |      The optional stdin argument should be a string of data which will be\n",
            " |      passed to the tool as standard input.\n",
            " |      \n",
            " |      The optional stdout and stderr argument may be filenames (string),\n",
            " |      but otherwise are treated as a booleans, and control if the output\n",
            " |      should be captured as strings (True, default), or ignored by sending\n",
            " |      it to /dev/null to avoid wasting memory (False). If sent to a file\n",
            " |      or ignored, then empty string(s) are returned.\n",
            " |      \n",
            " |      The optional cwd argument is a string giving the working directory\n",
            " |      to run the command from. See Python's subprocess module documentation\n",
            " |      for more details.\n",
            " |      \n",
            " |      The optional env argument is a dictionary setting the environment\n",
            " |      variables to be used in the new process. By default the current\n",
            " |      process' environment variables are used. See Python's subprocess\n",
            " |      module documentation for more details.\n",
            " |      \n",
            " |      Default example usage::\n",
            " |      \n",
            " |          from Bio.Emboss.Applications import WaterCommandline\n",
            " |          water_cmd = WaterCommandline(gapopen=10, gapextend=0.5,\n",
            " |                                       stdout=True, auto=True,\n",
            " |                                       asequence=\"a.fasta\", bsequence=\"b.fasta\")\n",
            " |          print(\"About to run: %s\" % water_cmd)\n",
            " |          std_output, err_output = water_cmd()\n",
            " |      \n",
            " |      This functionality is similar to subprocess.check_output(). In general\n",
            " |      if you require more control over running the command, use subprocess\n",
            " |      directly.\n",
            " |      \n",
            " |      When the program called returns a non-zero error level, a custom\n",
            " |      ApplicationError exception is raised. This includes any stdout and\n",
            " |      stderr strings captured as attributes of the exception object, since\n",
            " |      they may be useful for diagnosing what went wrong.\n",
            " |  \n",
            " |  __repr__(self)\n",
            " |      Return a representation of the command line object for debugging.\n",
            " |      \n",
            " |      e.g.\n",
            " |      \n",
            " |      >>> from Bio.Emboss.Applications import WaterCommandline\n",
            " |      >>> cline = WaterCommandline(gapopen=10, gapextend=0.5)\n",
            " |      >>> cline.asequence = \"asis:ACCCGGGCGCGGT\"\n",
            " |      >>> cline.bsequence = \"asis:ACCCGAGCGCGGT\"\n",
            " |      >>> cline.outfile = \"temp_water.txt\"\n",
            " |      >>> print(cline)\n",
            " |      water -outfile=temp_water.txt -asequence=asis:ACCCGGGCGCGGT -bsequence=asis:ACCCGAGCGCGGT -gapopen=10 -gapextend=0.5\n",
            " |      >>> cline\n",
            " |      WaterCommandline(cmd='water', outfile='temp_water.txt', asequence='asis:ACCCGGGCGCGGT', bsequence='asis:ACCCGAGCGCGGT', gapopen=10, gapextend=0.5)\n",
            " |  \n",
            " |  __setattr__(self, name, value)\n",
            " |      Set attribute name to value (PRIVATE).\n",
            " |      \n",
            " |      This code implements a workaround for a user interface issue.\n",
            " |      Without this __setattr__ attribute-based assignment of parameters\n",
            " |      will silently accept invalid parameters, leading to known instances\n",
            " |      of the user assuming that parameters for the application are set,\n",
            " |      when they are not.\n",
            " |      \n",
            " |      >>> from Bio.Emboss.Applications import WaterCommandline\n",
            " |      >>> cline = WaterCommandline(gapopen=10, gapextend=0.5, stdout=True)\n",
            " |      >>> cline.asequence = \"a.fasta\"\n",
            " |      >>> cline.bsequence = \"b.fasta\"\n",
            " |      >>> cline.csequence = \"c.fasta\"\n",
            " |      Traceback (most recent call last):\n",
            " |      ...\n",
            " |      ValueError: Option name csequence was not found.\n",
            " |      >>> print(cline)\n",
            " |      water -stdout -asequence=a.fasta -bsequence=b.fasta -gapopen=10 -gapextend=0.5\n",
            " |      \n",
            " |      This workaround uses a whitelist of object attributes, and sets the\n",
            " |      object attribute list as normal, for these.  Other attributes are\n",
            " |      assumed to be parameters, and passed to the self.set_parameter method\n",
            " |      for validation and assignment.\n",
            " |  \n",
            " |  __str__(self)\n",
            " |      Make the commandline string with the currently set options.\n",
            " |      \n",
            " |      e.g.\n",
            " |      \n",
            " |      >>> from Bio.Emboss.Applications import WaterCommandline\n",
            " |      >>> cline = WaterCommandline(gapopen=10, gapextend=0.5)\n",
            " |      >>> cline.asequence = \"asis:ACCCGGGCGCGGT\"\n",
            " |      >>> cline.bsequence = \"asis:ACCCGAGCGCGGT\"\n",
            " |      >>> cline.outfile = \"temp_water.txt\"\n",
            " |      >>> print(cline)\n",
            " |      water -outfile=temp_water.txt -asequence=asis:ACCCGGGCGCGGT -bsequence=asis:ACCCGAGCGCGGT -gapopen=10 -gapextend=0.5\n",
            " |      >>> str(cline)\n",
            " |      'water -outfile=temp_water.txt -asequence=asis:ACCCGGGCGCGGT -bsequence=asis:ACCCGAGCGCGGT -gapopen=10 -gapextend=0.5'\n",
            " |  \n",
            " |  set_parameter(self, name, value=None)\n",
            " |      Set a commandline option for a program (OBSOLETE).\n",
            " |      \n",
            " |      Every parameter is available via a property and as a named\n",
            " |      keyword when creating the instance. Using either of these is\n",
            " |      preferred to this legacy set_parameter method which is now\n",
            " |      OBSOLETE, and likely to be DEPRECATED and later REMOVED in\n",
            " |      future releases.\n",
            " |  \n",
            " |  ----------------------------------------------------------------------\n",
            " |  Data descriptors inherited from Bio.Application.AbstractCommandline:\n",
            " |  \n",
            " |  __dict__\n",
            " |      dictionary for instance variables (if defined)\n",
            " |  \n",
            " |  __weakref__\n",
            " |      list of weak references to the object (if defined)\n",
            " |  \n",
            " |  ----------------------------------------------------------------------\n",
            " |  Data and other attributes inherited from Bio.Application.AbstractCommandline:\n",
            " |  \n",
            " |  parameters = None\n",
            "\n",
            "None\n"
          ]
        }
      ]
    },
    {
      "cell_type": "code",
      "source": [
        "from Bio.Align.Applications import ClustalwCommandline\n",
        "\n",
        "cmd = ClustalwCommandline('/content/clustalo-1.2.4-Ubuntu-x86_64', \n",
        "                          infile='/content/HBB.fasta', \n",
        "                          newtree='clustal.dnd',\n",
        "                          type='DNA',\n",
        "                          output='FASTA',\n",
        "                          outfile='HBB.aligned.fasta')\n",
        "\n",
        "# ClustalW creates a multiple sequence alignment from a group of related sequences using progressive, pairwise alignments (clustal.ann file)\n",
        "# It can also create a dendrogram (.dnd) showing the clustering relationships used to create the alignment. \n",
        "std_out, std_err = cmd()\n",
        "print(std_out)\n",
        "print(std_err)"
      ],
      "metadata": {
        "colab": {
          "base_uri": "https://localhost:8080/"
        },
        "id": "zN7OkRZZ_7XX",
        "outputId": "495b6eca-b177-4749-d742-17d01e6abae7"
      },
      "execution_count": null,
      "outputs": [
        {
          "output_type": "stream",
          "name": "stdout",
          "text": [
            "Using 2 threads\n",
            "Read 24 sequences (type: DNA) from /content/HBB.fasta\n",
            "not more sequences (24) than cluster-size (100), turn off mBed\n",
            "Calculating pairwise ktuple-distances...\n",
            "Ktuple-distance calculation progress: 0 % (0 out of 300)\n",
            "Ktuple-distance calculation progress: 12 % (39 out of 300)\n",
            "Ktuple-distance calculation progress: 13 % (40 out of 300)\n",
            "Ktuple-distance calculation progress: 22 % (67 out of 300)\n",
            "Ktuple-distance calculation progress: 29 % (88 out of 300)\n",
            "Ktuple-distance calculation progress: 31 % (93 out of 300)\n",
            "Ktuple-distance calculation progress: 37 % (111 out of 300)\n",
            "Ktuple-distance calculation progress: 44 % (134 out of 300)\n",
            "Ktuple-distance calculation progress: 46 % (139 out of 300)\n",
            "Ktuple-distance calculation progress: 51 % (155 out of 300)\n",
            "Ktuple-distance calculation progress: 57 % (174 out of 300)\n",
            "Ktuple-distance calculation progress: 60 % (182 out of 300)\n",
            "Ktuple-distance calculation progress: 68 % (205 out of 300)\n",
            "Ktuple-distance calculation progress: 72 % (216 out of 300)\n",
            "Ktuple-distance calculation progress: 75 % (226 out of 300)\n",
            "Ktuple-distance calculation progress: 77 % (234 out of 300)\n",
            "Ktuple-distance calculation progress: 80 % (241 out of 300)\n",
            "Ktuple-distance calculation progress: 82 % (249 out of 300)\n",
            "Ktuple-distance calculation progress: 84 % (254 out of 300)\n",
            "Ktuple-distance calculation progress: 85 % (257 out of 300)\n",
            "Ktuple-distance calculation progress: 86 % (259 out of 300)\n",
            "Ktuple-distance calculation progress done. CPU time: 0.13u 0.00s 00:00:00.13 Elapsed: 00:00:00\n",
            "Guide tree written to clustal.dnd\n",
            "Guide-tree computation done.\n",
            "Progressive alignment progress: 4 % (1 out of 23)\n",
            "Progressive alignment progress: 8 % (2 out of 23)\n",
            "Progressive alignment progress: 13 % (3 out of 23)\n",
            "Progressive alignment progress: 17 % (4 out of 23)\n",
            "Progressive alignment progress: 21 % (5 out of 23)\n",
            "Progressive alignment progress: 26 % (6 out of 23)\n",
            "Progressive alignment progress: 30 % (7 out of 23)\n",
            "Progressive alignment progress: 34 % (8 out of 23)\n",
            "Progressive alignment progress: 39 % (9 out of 23)\n",
            "Progressive alignment progress: 43 % (10 out of 23)\n",
            "Progressive alignment progress: 47 % (11 out of 23)\n",
            "Progressive alignment progress: 52 % (12 out of 23)\n",
            "Progressive alignment progress: 56 % (13 out of 23)\n",
            "Progressive alignment progress: 60 % (14 out of 23)\n",
            "Progressive alignment progress: 65 % (15 out of 23)\n",
            "Progressive alignment progress: 69 % (16 out of 23)\n",
            "Progressive alignment progress: 73 % (17 out of 23)\n",
            "Progressive alignment progress: 78 % (18 out of 23)\n",
            "Progressive alignment progress: 82 % (19 out of 23)\n",
            "Progressive alignment progress: 86 % (20 out of 23)\n",
            "Progressive alignment progress: 91 % (21 out of 23)\n",
            "Progressive alignment progress: 95 % (22 out of 23)\n",
            "Progressive alignment progress: 100 % (23 out of 23)\n",
            "Progressive alignment progress done. CPU time: 1.97u 0.37s 00:00:02.34 Elapsed: 00:00:02\n",
            "Alignment written to HBB.aligned.fasta\n",
            "\n",
            "WARNING: Your old-style command-line options were converted to:  /content/clustalo-1.2.4-Ubuntu-x86_64 -i /content/HBB.fasta -t DNA -o HBB.aligned.fasta --outfmt FASTA --guidetree-out clustal.dnd -v --force\n",
            "\n"
          ]
        }
      ]
    },
    {
      "cell_type": "code",
      "source": [
        "#alginments\n",
        "!wc -l /content/HBB.aligned.fasta\n",
        "!head -n45 /content/HBB.aligned.fasta"
      ],
      "metadata": {
        "colab": {
          "base_uri": "https://localhost:8080/"
        },
        "id": "n2d9UyPhIV6e",
        "outputId": "1dd73a6b-5ace-4829-ae7f-4415a1f06965"
      },
      "execution_count": null,
      "outputs": [
        {
          "output_type": "stream",
          "name": "stdout",
          "text": [
            "648 /content/HBB.aligned.fasta\n",
            ">NM_001168847.1 Papio anubis hemoglobin, beta (HBB), mRNA\n",
            "------------------------------------------------------------\n",
            "------------------------------------------------------------\n",
            "------------------------------------------------------------\n",
            "------------------------------------------------------------\n",
            "----------------------------ATGGTGCATCTGACTCCTGAGGAGAAGAATGC\n",
            "CGTTACCGCCCTGTGGGGCAAAGTGAACGTGGATGAAGTTGGTGGTGAGGCCCTGGGCAG\n",
            "GTTGCTGGTGGTCTACCCTTGGACCCAGAGGTTCTTTGATTCCTTTGGGGATCTGTCCTC\n",
            "TCCTGCTGCTGTTATGGGCAACCCTAAGGTGAAGGCTCATGGCAAGAAAGTGCTTGGTGC\n",
            "CTTTAGTGATGGCCTGAATCACCTGGACAACCTCAAGGGCACCTTTGCCCAGCTCAGTGA\n",
            "GCTGCACTGTGACAAGCTGCATGTGGATCCTGAGAACTTCAAGCTCCTGGGCAACGTGCT\n",
            "GGTGTGTGTGCTGGCCCATCACTTTGGCAAA---GAATTCACCCCGCAAGTGCAGGCTGC\n",
            "CTATCAGAAAGTGGTGGCTGGTGTGGCTAATGCCCTGGCCCACAAGTACCACTAA-----\n",
            "------------------------------------------------------------\n",
            "------------------------------------------------------------\n",
            "------------------------------------------------------------\n",
            "------------------------------------------------------------\n",
            "------------------------------------------------------------\n",
            "------------------------------------------------------------\n",
            "------------------------------------------------------------\n",
            "------------------------------------------------------------\n",
            "------------------------------------------------------------\n",
            "------------------------------------------------------------\n",
            "------------------------------------------------------------\n",
            "------------------------------------------------------------\n",
            "------------------------------------------------------------\n",
            "----\n",
            ">NM_033234.1 Rattus norvegicus hemoglobin subunit beta (Hbb), mRNA\n",
            "------------------------------------------------------------\n",
            "------------------------------------------------------------\n",
            "------------------------------------------------------------\n",
            "----------------------------------------TGCTTCTGACATAGTTGTGT\n",
            "TGACTCACAA-ACTCAGAAACAGACACCATGGTGCACCTGACTGATGCTGAGAAGGCTGC\n",
            "TGTTAATGGCCTGTGGGGAAAGGTGAACCCTGATGATGTTGGTGGCGAGGCCCTGGGCAG\n",
            "GCTGCTGGTTGTCTACCCTTGGACCCAGAGGTACTTTGATAGCTTTGGGGACCTGTCCTC\n",
            "TGCCTCTGCTATCATGGGTAACCCTAAGGTGAAGGCCCATGGCAAGAAGGTGATAAACGC\n",
            "CTTCAATGATGGCCTGAAACACTTGGACAACCTCAAGGGCACCTTTGCTCATCTGAGTGA\n",
            "ACTCCACTGTGACAAGCTGCATGTGGATCCTGAGAACTTCAGGCTCCTGGGCAATATGAT\n",
            "TGTGATTGTGTTGGGCCACCACCTGGGCAAG---GAATTCACCCCCTGTGCACAGGCTGC\n",
            "CTTCCAGAAGGTGGTGGCTGGAGTGGCCAGTGCCCTGGCTCACAAGTACCACTAAACCTC\n",
            "TTTTCCTGCTCTTGTCTTTGTGCAATGGTCAAT--T-GTTCCCAAGAGAGCATCTGTCAG\n",
            "TTGTTGTC--------AAAATGACAAAGACCTTTGAAAATCTGT----CCTA---CTAAT\n",
            "AAAAGGCATTTACTTTCACTGC--------------------------------------\n",
            "------------------------------------------------------------\n",
            "------------------------------------------------------------\n"
          ]
        }
      ]
    },
    {
      "cell_type": "code",
      "source": [
        "# dendogram\n",
        "!cat /content/clustal.dnd"
      ],
      "metadata": {
        "colab": {
          "base_uri": "https://localhost:8080/"
        },
        "id": "UzeUcZCLNlZo",
        "outputId": "8a04f953-f82a-4a9a-f631-418c3aff3c8a"
      },
      "execution_count": null,
      "outputs": [
        {
          "output_type": "stream",
          "name": "stdout",
          "text": [
            "(\n",
            "(\n",
            "NM_001086273.2:0.26111\n",
            ",\n",
            "(\n",
            "NM_001246752.1:0.152875\n",
            ",\n",
            "(\n",
            "NM_001279263.1:0.142892\n",
            ",\n",
            "(\n",
            "NM_033234.1:0.135371\n",
            ",\n",
            "(\n",
            "(\n",
            "(\n",
            "NM_001314043.1:0\n",
            ",\n",
            "NM_001082260.3:0\n",
            "):0.0960043\n",
            ",\n",
            "(\n",
            "NM_001164018.1:0.0683066\n",
            ",\n",
            "(\n",
            "NM_001304885.1:0.0795199\n",
            ",\n",
            "(\n",
            "NM_001304883.1:0.0793379\n",
            ",\n",
            "(\n",
            "NM_000518.5:0.0228062\n",
            ",\n",
            "(\n",
            "NM_001329918.1:0.0114199\n",
            ",\n",
            "(\n",
            "NM_001168847.1:0.00675676\n",
            ",\n",
            "(\n",
            "NM_001283367.1:0.00424628\n",
            ",\n",
            "NM_001164428.1:0.00424628\n",
            "):0.00251047\n",
            "):0.0046631\n",
            "):0.0113864\n",
            "):0.0565317\n",
            "):0.00018198\n",
            "):-0.0112133\n",
            "):0.0276977\n",
            "):-0.00375915\n",
            ",\n",
            "(\n",
            "NM_001144841.1:0.0791354\n",
            ",\n",
            "(\n",
            "NM_001097648.1:0.033105\n",
            ",\n",
            "NM_173917.2:0.033105\n",
            "):0.0460303\n",
            "):0.0131098\n",
            "):0.0431257\n",
            "):0.0075209\n",
            "):0.0099837\n",
            "):0.108235\n",
            "):0.0174499\n",
            ",\n",
            "(\n",
            "NM_001201019.1:0.245115\n",
            ",\n",
            "(\n",
            "NM_131020.3:0.20879\n",
            ",\n",
            "(\n",
            "NM_001304110.1:0.182458\n",
            ",\n",
            "(\n",
            "NM_001123666.1:0.135102\n",
            ",\n",
            "(\n",
            "NM_001303858.1:0.113895\n",
            ",\n",
            "(\n",
            "NM_001303935.1:0.0906149\n",
            ",\n",
            "NM_001303868.1:0.0906149\n",
            "):0.0232801\n",
            "):0.0212071\n",
            "):0.0473559\n",
            "):0.0263323\n",
            "):0.0363242\n",
            "):0.0334455\n",
            ")\n",
            ";\n"
          ]
        }
      ]
    },
    {
      "cell_type": "markdown",
      "source": [
        "#### Muscle"
      ],
      "metadata": {
        "id": "eqRD7-UBGLJo"
      }
    },
    {
      "cell_type": "code",
      "source": [
        "# MUSCLE é frequentemente utilizado como um substituto para o Clustal\n",
        "\n",
        "#from Bio.Align.Applications import MuscleCommandline\n",
        "#muscle_exe = r\"C:\\Program Files\\Aligments\\muscle3.8.31_i86win32.exe\"\n",
        "#in_file = r\"C:\\My Documents\\unaligned.fasta\"\n",
        "#out_file = r\"C:\\My Documents\\aligned.fasta\"\n",
        "#muscle_cline = MuscleCommandline(muscle_exe, input=in_file, out=out_file)\n",
        "#print(muscle_cline)"
      ],
      "metadata": {
        "id": "LKHIW7WNGKGw"
      },
      "execution_count": null,
      "outputs": []
    },
    {
      "cell_type": "markdown",
      "source": [
        "# Phylogenetic Trees"
      ],
      "metadata": {
        "id": "6o5ARD4cWFsJ"
      }
    },
    {
      "cell_type": "markdown",
      "source": [
        "### Reading a Phylip file\n",
        "\n",
        "PHYLogeny Inference Package (PHYLIP) is a free computational phylogenetics package of programs for inferring evolutionary trees (phylogenies)."
      ],
      "metadata": {
        "id": "A-4vVWRGUFqu"
      }
    },
    {
      "cell_type": "code",
      "source": [
        "from Bio import AlignIO\n",
        "\n",
        "filename = '/content/HBB.phy'\n",
        "read_file = AlignIO.read(open(filename), 'phylip')\n",
        "print(read_file)\n",
        "\n",
        "for seq in read_file:\n",
        "  print(seq)\n",
        "  break"
      ],
      "metadata": {
        "colab": {
          "base_uri": "https://localhost:8080/"
        },
        "id": "Io73khX4UIsW",
        "outputId": "46dad2fc-06e9-41c3-93fb-45cf5eab6297"
      },
      "execution_count": null,
      "outputs": [
        {
          "output_type": "stream",
          "name": "stdout",
          "text": [
            "Alignment with 24 rows and 1511 columns\n",
            "--------------------------------------------...--- NM_033234.\n",
            "--------------------------------------------...--- NM_0012467\n",
            "--------------------------------------------...--- NM_0012833\n",
            "--------------------------------------------...--- NM_0013299\n",
            "--------------------------------------------...--- NM_000518.\n",
            "--------------------------------------------...--- NM_0011644\n",
            "--------------------------------------------...--- NM_0011688\n",
            "ACTGCTGGTATGGGTCTGGGAGATACATAGAAGGAAGGCTGAGT...--- NM_0013140\n",
            "ACTGCTGGTATGGGTCTGGGAGATACATAGAAGGAAGGCTGAGT...--- NM_0010822\n",
            "--------------------------------------------...--- NM_0010976\n",
            "--------------------------------------------...--- NM_173917.\n",
            "--------------------------------------------...--- NM_0011448\n",
            "--------------------------------------------...--- NM_0012792\n",
            "--------------------------------------------...--- NM_0013048\n",
            "--------------------------------------------...--- NM_0013048\n",
            "--------------------------------------------...--- NM_0011640\n",
            "--------------------------------------------...--- NM_0010862\n",
            "--------------------------------------------...--- NM_0013039\n",
            "...\n",
            "--------------------------------------------...--- NM_0012010\n",
            "ID: NM_033234.\n",
            "Name: NM_033234.\n",
            "Description: NM_033234.\n",
            "Number of features: 0\n",
            "Seq('------------------------------------------------------...---')\n"
          ]
        }
      ]
    },
    {
      "cell_type": "code",
      "source": [
        "from Bio import Phylo\n",
        "\n",
        "# o formato de árvore de Newick é uma maneira de representar árvores teóricas de grafos com comprimentos de arestas usando parênteses e vírgulas.\n",
        "read_tree = Phylo.read('/content/clustal.dnd', 'newick')\n",
        "print(read_tree)\n",
        "print('\\n')\n",
        "Phylo.draw_ascii(read_tree)"
      ],
      "metadata": {
        "id": "XEKVOPNwMhKd",
        "colab": {
          "base_uri": "https://localhost:8080/"
        },
        "outputId": "69837bcb-1d0c-4897-b98b-c54dcfb73b70"
      },
      "execution_count": null,
      "outputs": [
        {
          "output_type": "stream",
          "name": "stdout",
          "text": [
            "Tree(rooted=False, weight=1.0)\n",
            "    Clade()\n",
            "        Clade(branch_length=0.0174499)\n",
            "            Clade(branch_length=0.26111, name='NM_001086273.2')\n",
            "            Clade(branch_length=0.108235)\n",
            "                Clade(branch_length=0.152875, name='NM_001246752.1')\n",
            "                Clade(branch_length=0.0099837)\n",
            "                    Clade(branch_length=0.142892, name='NM_001279263.1')\n",
            "                    Clade(branch_length=0.0075209)\n",
            "                        Clade(branch_length=0.135371, name='NM_033234.1')\n",
            "                        Clade(branch_length=0.0431257)\n",
            "                            Clade(branch_length=-0.00375915)\n",
            "                                Clade(branch_length=0.0960043)\n",
            "                                    Clade(branch_length=0.0, name='NM_001314043.1')\n",
            "                                    Clade(branch_length=0.0, name='NM_001082260.3')\n",
            "                                Clade(branch_length=0.0276977)\n",
            "                                    Clade(branch_length=0.0683066, name='NM_001164018.1')\n",
            "                                    Clade(branch_length=-0.0112133)\n",
            "                                        Clade(branch_length=0.0795199, name='NM_001304885.1')\n",
            "                                        Clade(branch_length=0.00018198)\n",
            "                                            Clade(branch_length=0.0793379, name='NM_001304883.1')\n",
            "                                            Clade(branch_length=0.0565317)\n",
            "                                                Clade(branch_length=0.0228062, name='NM_000518.5')\n",
            "                                                Clade(branch_length=0.0113864)\n",
            "                                                    Clade(branch_length=0.0114199, name='NM_001329918.1')\n",
            "                                                    Clade(branch_length=0.0046631)\n",
            "                                                        Clade(branch_length=0.00675676, name='NM_001168847.1')\n",
            "                                                        Clade(branch_length=0.00251047)\n",
            "                                                            Clade(branch_length=0.00424628, name='NM_001283367.1')\n",
            "                                                            Clade(branch_length=0.00424628, name='NM_001164428.1')\n",
            "                            Clade(branch_length=0.0131098)\n",
            "                                Clade(branch_length=0.0791354, name='NM_001144841.1')\n",
            "                                Clade(branch_length=0.0460303)\n",
            "                                    Clade(branch_length=0.033105, name='NM_001097648.1')\n",
            "                                    Clade(branch_length=0.033105, name='NM_173917.2')\n",
            "        Clade(branch_length=0.0334455)\n",
            "            Clade(branch_length=0.245115, name='NM_001201019.1')\n",
            "            Clade(branch_length=0.0363242)\n",
            "                Clade(branch_length=0.20879, name='NM_131020.3')\n",
            "                Clade(branch_length=0.0263323)\n",
            "                    Clade(branch_length=0.182458, name='NM_001304110.1')\n",
            "                    Clade(branch_length=0.0473559)\n",
            "                        Clade(branch_length=0.135102, name='NM_001123666.1')\n",
            "                        Clade(branch_length=0.0212071)\n",
            "                            Clade(branch_length=0.113895, name='NM_001303858.1')\n",
            "                            Clade(branch_length=0.0232801)\n",
            "                                Clade(branch_length=0.0906149, name='NM_001303935.1')\n",
            "                                Clade(branch_length=0.0906149, name='NM_001303868.1')\n",
            "\n",
            "\n",
            "     _______________________________________________________ NM_001086273.2\n",
            "    |\n",
            "  __|                        _______________________________ NM_001246752.1\n",
            " |  |                       |\n",
            " |  |                       |  ______________________________ NM_001279263.1\n",
            " |  |_______________________| |\n",
            " |                          | | ____________________________ NM_033234.1\n",
            " |                          | ||\n",
            " |                          |_||                            , NM_001314043.1\n",
            " |                            ||         ___________________|\n",
            " |                            ||        |                   | NM_001082260.3\n",
            " |                            ||        |,\n",
            " |                            ||        ||     _____________ NM_001164018.1\n",
            " |                            ||        |_____|\n",
            " |                             |         |  ________________ NM_001304885.1\n",
            " |                             |         | |  |\n",
            " |                             |         | |________________ NM_001304883.1\n",
            " |                             |         | |\n",
            "_|                             |         | |             ___ NM_000518.5\n",
            " |                             |         | |____________|\n",
            " |                             |_________|              |  _ NM_001329918.1\n",
            " |                                       |              |_|\n",
            " |                                       |                |, NM_001168847.1\n",
            " |                                       |                ||\n",
            " |                                       |                 |, NM_001283367.1\n",
            " |                                       |                 ||\n",
            " |                                       |                  | NM_001164428.1\n",
            " |                                       |\n",
            " |                                       |  ________________ NM_001144841.1\n",
            " |                                       |_|\n",
            " |                                         |          ______ NM_001097648.1\n",
            " |                                         |_________|\n",
            " |                                                   |______ NM_173917.2\n",
            " |\n",
            " |       ___________________________________________________ NM_001201019.1\n",
            " |______|\n",
            "        |        ___________________________________________ NM_131020.3\n",
            "        |_______|\n",
            "                |     ______________________________________ NM_001304110.1\n",
            "                |____|\n",
            "                     |          ____________________________ NM_001123666.1\n",
            "                     |_________|\n",
            "                               |     _______________________ NM_001303858.1\n",
            "                               |____|\n",
            "                                    |     __________________ NM_001303935.1\n",
            "                                    |____|\n",
            "                                         |__________________ NM_001303868.1\n",
            "\n"
          ]
        }
      ]
    },
    {
      "cell_type": "code",
      "source": [],
      "metadata": {
        "id": "99d49aNjW0IZ"
      },
      "execution_count": null,
      "outputs": []
    },
    {
      "cell_type": "markdown",
      "source": [
        "# Blast\n",
        "\n",
        "https://biopython.org/docs/1.75/api/Bio.Blast.NCBIWWW.html\n",
        "\n",
        "Veja também: http://ncbi.github.io/blast-cloud/dev/api.html\n",
        "\n",
        "https://diegomariano.com/blast/"
      ],
      "metadata": {
        "id": "SV6JeIxrMiaP"
      }
    },
    {
      "cell_type": "code",
      "source": [
        "from Bio import SeqIO\n",
        "from Bio.Blast import NCBIWWW\n",
        "\n",
        "record = SeqIO.read(\"/content/HBB-human.fasta\", \"fasta\")\n",
        "\n",
        "command = NCBIWWW.qblast(program='blastn',\n",
        "                         database='nt',\n",
        "                         expect=2e-95,\n",
        "                         sequence=record.seq)\n",
        "\n",
        "with open('blast_results.txt', 'w+') as w:\n",
        "  w.write(command.read())"
      ],
      "metadata": {
        "id": "ksP7ROtUMhu3"
      },
      "execution_count": 12,
      "outputs": []
    },
    {
      "cell_type": "code",
      "source": [
        "!head -n50 blast_results.txt"
      ],
      "metadata": {
        "colab": {
          "base_uri": "https://localhost:8080/"
        },
        "id": "SARKcc3mW3_f",
        "outputId": "ed229c59-2225-4891-e33c-70ba9c9d8afb"
      },
      "execution_count": 6,
      "outputs": [
        {
          "output_type": "stream",
          "name": "stdout",
          "text": [
            "<?xml version=\"1.0\"?>\n",
            "<!DOCTYPE BlastOutput PUBLIC \"-//NCBI//NCBI BlastOutput/EN\" \"http://www.ncbi.nlm.nih.gov/dtd/NCBI_BlastOutput.dtd\">\n",
            "<BlastOutput>\n",
            "  <BlastOutput_program>blastn</BlastOutput_program>\n",
            "  <BlastOutput_version>BLASTN 2.13.0+</BlastOutput_version>\n",
            "  <BlastOutput_reference>Stephen F. Altschul, Thomas L. Madden, Alejandro A. Sch&amp;auml;ffer, Jinghui Zhang, Zheng Zhang, Webb Miller, and David J. Lipman (1997), &quot;Gapped BLAST and PSI-BLAST: a new generation of protein database search programs&quot;, Nucleic Acids Res. 25:3389-3402.</BlastOutput_reference>\n",
            "  <BlastOutput_db>nt</BlastOutput_db>\n",
            "  <BlastOutput_query-ID>Query_37727</BlastOutput_query-ID>\n",
            "  <BlastOutput_query-def>No definition line</BlastOutput_query-def>\n",
            "  <BlastOutput_query-len>628</BlastOutput_query-len>\n",
            "  <BlastOutput_param>\n",
            "    <Parameters>\n",
            "      <Parameters_expect>10</Parameters_expect>\n",
            "      <Parameters_sc-match>2</Parameters_sc-match>\n",
            "      <Parameters_sc-mismatch>-3</Parameters_sc-mismatch>\n",
            "      <Parameters_gap-open>5</Parameters_gap-open>\n",
            "      <Parameters_gap-extend>2</Parameters_gap-extend>\n",
            "      <Parameters_filter>L;m;</Parameters_filter>\n",
            "    </Parameters>\n",
            "  </BlastOutput_param>\n",
            "<BlastOutput_iterations>\n",
            "<Iteration>\n",
            "  <Iteration_iter-num>1</Iteration_iter-num>\n",
            "  <Iteration_query-ID>Query_37727</Iteration_query-ID>\n",
            "  <Iteration_query-def>No definition line</Iteration_query-def>\n",
            "  <Iteration_query-len>628</Iteration_query-len>\n",
            "<Iteration_hits>\n",
            "<Hit>\n",
            "  <Hit_num>1</Hit_num>\n",
            "  <Hit_id>gi|1401724401|ref|NM_000518.5|</Hit_id>\n",
            "  <Hit_def>Homo sapiens hemoglobin subunit beta (HBB), mRNA</Hit_def>\n",
            "  <Hit_accession>NM_000518</Hit_accession>\n",
            "  <Hit_len>628</Hit_len>\n",
            "  <Hit_hsps>\n",
            "    <Hsp>\n",
            "      <Hsp_num>1</Hsp_num>\n",
            "      <Hsp_bit-score>1133.8</Hsp_bit-score>\n",
            "      <Hsp_score>1256</Hsp_score>\n",
            "      <Hsp_evalue>0</Hsp_evalue>\n",
            "      <Hsp_query-from>1</Hsp_query-from>\n",
            "      <Hsp_query-to>628</Hsp_query-to>\n",
            "      <Hsp_hit-from>1</Hsp_hit-from>\n",
            "      <Hsp_hit-to>628</Hsp_hit-to>\n",
            "      <Hsp_query-frame>1</Hsp_query-frame>\n",
            "      <Hsp_hit-frame>1</Hsp_hit-frame>\n",
            "      <Hsp_identity>628</Hsp_identity>\n",
            "      <Hsp_positive>628</Hsp_positive>\n",
            "      <Hsp_gaps>0</Hsp_gaps>\n",
            "      <Hsp_align-len>628</Hsp_align-len>\n",
            "      <Hsp_qseq>ACATTTGCTTCTGACACAACTGTGTTCACTAGCAACCTCAAACAGACACCATGGTGCATCTGACTCCTGAGGAGAAGTCTGCCGTTACTGCCCTGTGGGGCAAGGTGAACGTGGATGAAGTTGGTGGTGAGGCCCTGGGCAGGCTGCTGGTGGTCTACCCTTGGACCCAGAGGTTCTTTGAGTCCTTTGGGGATCTGTCCACTCCTGATGCTGTTATGGGCAACCCTAAGGTGAAGGCTCATGGCAAGAAAGTGCTCGGTGCCTTTAGTGATGGCCTGGCTCACCTGGACAACCTCAAGGGCACCTTTGCCACACTGAGTGAGCTGCACTGTGACAAGCTGCACGTGGATCCTGAGAACTTCAGGCTCCTGGGCAACGTGCTGGTCTGTGTGCTGGCCCATCACTTTGGCAAAGAATTCACCCCACCAGTGCAGGCTGCCTATCAGAAAGTGGTGGCTGGTGTGGCTAATGCCCTGGCCCACAAGTATCACTAAGCTCGCTTTCTTGCTGTCCAATTTCTATTAAAGGTTCCTTTGTTCCCTAAGTCCAACTACTAAACTGGGGGATATTATGAAGGGCCTTGAGCATCTGGATTCTGCCTAATAAAAAACATTTATTTTCATTGCAA</Hsp_qseq>\n"
          ]
        }
      ]
    },
    {
      "cell_type": "code",
      "source": [
        "from Bio.Blast import NCBIXML\n",
        "record = NCBIXML.read(open('/content/blast_results.txt'))\n",
        "print(dir(record.descriptions[0]))\n",
        "for ind, align in enumerate(record.descriptions):\n",
        "  print('Alignment', ind)\n",
        "  print('Accession', align.accession)\n",
        "  print('Title', align.title)\n",
        "  print('Score', align.score)\n",
        "  print('E-value', align.e)\n",
        "  print('Num aligments', align.num_alignments)\n",
        "  print('\\n')"
      ],
      "metadata": {
        "id": "a0WNBDN0abE-"
      },
      "execution_count": null,
      "outputs": []
    },
    {
      "cell_type": "code",
      "source": [
        "from Bio.Blast import NCBIXML\n",
        "record = NCBIXML.read(open('/content/blast_results.txt'))\n",
        "print(dir(record.descriptions[0]))\n",
        "for ind, align in enumerate(record.alignments):\n",
        "  print('Alignment', ind)\n",
        "  print('Title', align.title)\n",
        "  print('Length', align.length)\n",
        "  print('HSPs', align.hsps) #A High-scoring Segment Pair (HSP) is a local alignment with no gaps that achieves one of the highest alignment scores..\n",
        "  for hsp in align.hsps:\n",
        "    print('HSP score, bits, evalue, identities, gaps, strand, frame', hsp.score,  hsp.bits, hsp.expect, hsp.identities, hsp.gaps, hsp.strand, hsp.frame)\n",
        "    print('HSP Query start-end', hsp.query_start, hsp.query_end)\n",
        "    print('HSP Subject start-end', hsp.sbjct_start, hsp.sbjct_end)\n",
        "    print('HSP Alignment length', hsp.align_length)\n",
        "    print(hsp.query[:])\n",
        "    print(hsp.match[:])\n",
        "    print(hsp.sbjct[:])\n",
        "  print('\\n')\n",
        "  break"
      ],
      "metadata": {
        "colab": {
          "base_uri": "https://localhost:8080/"
        },
        "id": "ywDmBGT1gJFj",
        "outputId": "0e649cc3-dd2d-43bd-c863-ea43bfa5aa53"
      },
      "execution_count": 16,
      "outputs": [
        {
          "output_type": "stream",
          "name": "stdout",
          "text": [
            "['__class__', '__delattr__', '__dict__', '__dir__', '__doc__', '__eq__', '__format__', '__ge__', '__getattribute__', '__gt__', '__hash__', '__init__', '__init_subclass__', '__le__', '__lt__', '__module__', '__ne__', '__new__', '__reduce__', '__reduce_ex__', '__repr__', '__setattr__', '__sizeof__', '__str__', '__subclasshook__', '__weakref__', 'accession', 'bits', 'e', 'num_alignments', 'score', 'title']\n",
            "Alignment 0\n",
            "Title gi|1401724401|ref|NM_000518.5| Homo sapiens hemoglobin subunit beta (HBB), mRNA\n",
            "Length 628\n",
            "HSPs [<Bio.Blast.Record.HSP object at 0x7f0c7324a0a0>]\n",
            "HSP score, bits, evalue, identities, gaps, strand, frame 1256.0 1133.8 0.0 628 0 ('Plus', 'Plus') (1, 1)\n",
            "HSP Query start-end 1 628\n",
            "HSP Subject start-end 1 628\n",
            "HSP Alignment length 628\n",
            "ACATTTGCTTCTGACACAACTGTGTTCACTAGCAACCTCAAACAGACACCATGGTGCATCTGACTCCTGAGGAGAAGTCTGCCGTTACTGCCCTGTGGGGCAAGGTGAACGTGGATGAAGTTGGTGGTGAGGCCCTGGGCAGGCTGCTGGTGGTCTACCCTTGGACCCAGAGGTTCTTTGAGTCCTTTGGGGATCTGTCCACTCCTGATGCTGTTATGGGCAACCCTAAGGTGAAGGCTCATGGCAAGAAAGTGCTCGGTGCCTTTAGTGATGGCCTGGCTCACCTGGACAACCTCAAGGGCACCTTTGCCACACTGAGTGAGCTGCACTGTGACAAGCTGCACGTGGATCCTGAGAACTTCAGGCTCCTGGGCAACGTGCTGGTCTGTGTGCTGGCCCATCACTTTGGCAAAGAATTCACCCCACCAGTGCAGGCTGCCTATCAGAAAGTGGTGGCTGGTGTGGCTAATGCCCTGGCCCACAAGTATCACTAAGCTCGCTTTCTTGCTGTCCAATTTCTATTAAAGGTTCCTTTGTTCCCTAAGTCCAACTACTAAACTGGGGGATATTATGAAGGGCCTTGAGCATCTGGATTCTGCCTAATAAAAAACATTTATTTTCATTGCAA\n",
            "||||||||||||||||||||||||||||||||||||||||||||||||||||||||||||||||||||||||||||||||||||||||||||||||||||||||||||||||||||||||||||||||||||||||||||||||||||||||||||||||||||||||||||||||||||||||||||||||||||||||||||||||||||||||||||||||||||||||||||||||||||||||||||||||||||||||||||||||||||||||||||||||||||||||||||||||||||||||||||||||||||||||||||||||||||||||||||||||||||||||||||||||||||||||||||||||||||||||||||||||||||||||||||||||||||||||||||||||||||||||||||||||||||||||||||||||||||||||||||||||||||||||||||||||||||||||||||||||||||||||||||||||||||||||||||||||||||||||||||||||||||||||||||||||||||||||||||||||||||||||||||||||||||||||||||||||||||\n",
            "ACATTTGCTTCTGACACAACTGTGTTCACTAGCAACCTCAAACAGACACCATGGTGCATCTGACTCCTGAGGAGAAGTCTGCCGTTACTGCCCTGTGGGGCAAGGTGAACGTGGATGAAGTTGGTGGTGAGGCCCTGGGCAGGCTGCTGGTGGTCTACCCTTGGACCCAGAGGTTCTTTGAGTCCTTTGGGGATCTGTCCACTCCTGATGCTGTTATGGGCAACCCTAAGGTGAAGGCTCATGGCAAGAAAGTGCTCGGTGCCTTTAGTGATGGCCTGGCTCACCTGGACAACCTCAAGGGCACCTTTGCCACACTGAGTGAGCTGCACTGTGACAAGCTGCACGTGGATCCTGAGAACTTCAGGCTCCTGGGCAACGTGCTGGTCTGTGTGCTGGCCCATCACTTTGGCAAAGAATTCACCCCACCAGTGCAGGCTGCCTATCAGAAAGTGGTGGCTGGTGTGGCTAATGCCCTGGCCCACAAGTATCACTAAGCTCGCTTTCTTGCTGTCCAATTTCTATTAAAGGTTCCTTTGTTCCCTAAGTCCAACTACTAAACTGGGGGATATTATGAAGGGCCTTGAGCATCTGGATTCTGCCTAATAAAAAACATTTATTTTCATTGCAA\n",
            "\n",
            "\n"
          ]
        }
      ]
    }
  ]
}